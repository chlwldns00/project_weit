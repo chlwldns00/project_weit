{
 "cells": [
  {
   "cell_type": "code",
   "execution_count": 1,
   "metadata": {},
   "outputs": [],
   "source": [
    "# 데이터를 분석하는데 필요한 패키지 로드하기 \n",
    "import pandas as pd\n",
    "import numpy as np\n",
    "import seaborn as sns\n",
    "from sklearn.preprocessing import StandardScaler\n",
    "from sklearn.decomposition import PCA\n",
    "from sklearn.cluster import KMeans\n",
    "from sklearn.metrics import silhouette_samples, silhouette_score\n",
    "import matplotlib.pyplot as plt\n",
    "from matplotlib.ticker import FuncFormatter\n",
    "plt.rcParams.update({'font.family' : 'Malgun Gothic'}) \n",
    "pd.set_option('display.float_format', '{:,.2f}'.format)\n",
    "\n",
    "# 데이터 불러오기\n",
    "raw_df1 = pd.read_csv('분석용.csv', encoding='UTF-8') ## 인코딩 설정하지 않으면 에러 발생\n",
    "\n",
    "# 복사본 만들기 \n",
    "df1 = raw_df1.copy()"
   ]
  },
  {
   "cell_type": "code",
   "execution_count": 2,
   "metadata": {},
   "outputs": [
    {
     "name": "stdout",
     "output_type": "stream",
     "text": [
      "df1의 변수: ['기준연도', '시군명', '연령대', '성별', '결제건수', '결제금액', '결제취소건수', '결제취소금액', '1회평균결제금액', '총인구', '총인구_남', '총인구_여', '내국인_세대수', '내국인_총인구', '내국인_남', '내국인_여', '등록외국인_총인구', '등록외국인_남', '등록외국인_여', '관광객수', '총결제건수(연도별)', '총결제금액(연도별)', '외국인 비율', '결제건수 비율', '결제금액 비율', '관광객 비율', '인구 대비 관광객 수', '결제취소건수 비율', '결제취소금액 비율', '월별신규가입자수(명)', '월별충전액(만원)', '신규가입자수 비율', '2024개수', '2022개수', '증가분', 'cluster', 'pca_x', 'pca_y']\n"
     ]
    }
   ],
   "source": [
    "# df1과 df2의 변수 목록 출력\n",
    "df1_variables = df1.columns.tolist()\n",
    "print(\"df1의 변수:\", df1_variables)"
   ]
  },
  {
   "cell_type": "code",
   "execution_count": 3,
   "metadata": {},
   "outputs": [],
   "source": [
    "# # 군집별 특징\n",
    "\n",
    "# # 시각화할 데이터와 플롯의 개수\n",
    "# plot_titles = [\n",
    "#     '결제건수',\n",
    "#     '결제금액',\n",
    "#     '총인구',\n",
    "#     '외국인 비율',\n",
    "#     '결제건수 비율',\n",
    "#     '결제금액 비율',\n",
    "#     '관광객 비율',\n",
    "#     '결제취소건수 비율', \n",
    "#     '결제취소금액 비율',\n",
    "#     '2024개수',\n",
    "#     '2022개수',\n",
    "#     '증가분',\n",
    "#     '신규가입자수 비율'\n",
    "# ]\n",
    "\n",
    "# # 서브플롯 개수 설정\n",
    "# num_plots = len(plot_titles)\n",
    "\n",
    "# # 서브플롯 배열의 행과 열 개수 설정\n",
    "# ncols = 2  # 2열로 설정\n",
    "# nrows = (num_plots + ncols - 1) // ncols  # 행 개수 계산\n",
    "\n",
    "# # 서브플롯 생성\n",
    "# fig, axs = plt.subplots(nrows=nrows, ncols=ncols, figsize=(14, 5 * nrows))\n",
    "# axs = axs.flatten()  # axs를 1D 배열로 평탄화\n",
    "\n",
    "# # 서브플롯 데이터와 그래프 그리기\n",
    "# for i, title in enumerate(plot_titles):\n",
    "#     if i >= len(axs):  # 서브플롯이 부족할 경우\n",
    "#         break\n",
    "#     ax = axs[i]\n",
    "    \n",
    "#     # 군집별로 해당 데이터의 평균을 계산\n",
    "#     cluster_data = df1.groupby('cluster')[title].mean().reset_index()\n",
    "    \n",
    "#     # 가로 막대 그래프 시각화\n",
    "#     sns.barplot(x=title, y='cluster', data=cluster_data, palette='viridis', ax=ax, orient='h')\n",
    "#     ax.set_title(f'군집별 {title}')\n",
    "#     ax.set_xlabel(title)\n",
    "#     ax.set_ylabel('군집')\n",
    "\n",
    "# # 레이아웃 조정\n",
    "# plt.tight_layout()\n",
    "# plt.show()"
   ]
  },
  {
   "cell_type": "code",
   "execution_count": 4,
   "metadata": {},
   "outputs": [
    {
     "name": "stderr",
     "output_type": "stream",
     "text": [
      "C:\\Users\\kimbomi\\AppData\\Local\\Temp\\ipykernel_5816\\1832729300.py:8: FutureWarning: \n",
      "\n",
      "Passing `palette` without assigning `hue` is deprecated and will be removed in v0.14.0. Assign the `y` variable to `hue` and set `legend=False` for the same effect.\n",
      "\n",
      "  sns.barplot(x='결제건수', y='cluster', data=cluster_data, palette='viridis', ax=ax, orient='h')\n"
     ]
    },
    {
     "data": {
      "image/png": "[encoded data removed]",
      "text/plain": [
       "<Figure size 1000x600 with 1 Axes>"
      ]
     },
     "metadata": {},
     "output_type": "display_data"
    }
   ],
   "source": [
    "# 군집별 결제건수 평균 계산\n",
    "cluster_data = df1.groupby('cluster')['결제건수'].mean().reset_index()\n",
    "\n",
    "# 서브플롯 생성\n",
    "fig, ax = plt.subplots(figsize=(10, 6))\n",
    "\n",
    "# 가로 막대 그래프 시각화\n",
    "sns.barplot(x='결제건수', y='cluster', data=cluster_data, palette='viridis', ax=ax, orient='h')\n",
    "ax.set_title('군집별 결제건수 평균')\n",
    "ax.set_xlabel('결제건수 평균')\n",
    "ax.set_ylabel('군집')\n",
    "\n",
    "# 축의 숫자 형식을 일반 숫자로 변경\n",
    "ax.xaxis.set_major_formatter(FuncFormatter(lambda x, _: f'{int(x):,}'))\n",
    "\n",
    "# 레이아웃 조정\n",
    "plt.tight_layout()\n",
    "plt.show()"
   ]
  }
 ],
 "metadata": {
  "kernelspec": {
   "display_name": "base",
   "language": "python",
   "name": "python3"
  },
  "language_info": {
   "codemirror_mode": {
    "name": "ipython",
    "version": 3
   },
   "file_extension": ".py",
   "mimetype": "text/x-python",
   "name": "python",
   "nbconvert_exporter": "python",
   "pygments_lexer": "ipython3",
   "version": "3.11.7"
  }
 },
 "nbformat": 4,
 "nbformat_minor": 2
}
