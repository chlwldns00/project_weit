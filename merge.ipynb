{
 "cells": [
  {
   "cell_type": "code",
   "execution_count": 7,
   "metadata": {},
   "outputs": [
    {
     "name": "stdout",
     "output_type": "stream",
     "text": [
      "Successfully read CSV with encoding: utf-8\n",
      "병합된 데이터가 'merged_data.csv' 파일로 저장되었습니다.\n"
     ]
    }
   ],
   "source": [
    "import pandas as pd\n",
    "\n",
    "# 다양한 인코딩 시도\n",
    "encodings = ['utf-8', 'euc-kr', 'cp949']\n",
    "\n",
    "for enc in encodings:\n",
    "    try:\n",
    "        data1 = pd.read_csv('C:\\we_it_project\\Data1.csv', encoding=enc)\n",
    "        print(f'Successfully read CSV with encoding: {enc}')\n",
    "        break\n",
    "    except UnicodeDecodeError as e:\n",
    "        print(f'Failed to read CSV with encoding {enc}: {e}')\n",
    "else:\n",
    "    raise ValueError('Failed to read CSV file with known encodings.')\n",
    "\n",
    "# Excel 파일 읽기 (필요한 부분만)\n",
    "data2 = pd.read_excel('C:\\we_it_project\\경기도 인구통계(2024.6월말 현재).xlsx', skiprows=5)\n",
    "\n",
    "# 컬럼 정리\n",
    "data2.columns = ['시군명', '총인구', '총인구_남', '총인구_여', '내국인_세대수', '내국인_총인구', '내국인_남', '내국인_여', '등록외국인_총인구', '등록외국인_남', '등록외국인_여']\n",
    "\n",
    "# 병합\n",
    "merged_data = pd.merge(data1, data2, on='시군명', how='inner')\n",
    "\n",
    "# 병합된 데이터를 새로운 CSV 파일로 저장 (UTF-8 인코딩 지정)\n",
    "merged_data.to_csv('C:\\we_it_project\\merged_data.csv', index=False, encoding='utf-8-sig')\n",
    "\n",
    "print(\"병합된 데이터가 'merged_data.csv' 파일로 저장되었습니다.\")\n"
   ]
  }
 ],
 "metadata": {
  "kernelspec": {
   "display_name": "Python 3",
   "language": "python",
   "name": "python3"
  },
  "language_info": {
   "codemirror_mode": {
    "name": "ipython",
    "version": 3
   },
   "file_extension": ".py",
   "mimetype": "text/x-python",
   "name": "python",
   "nbconvert_exporter": "python",
   "pygments_lexer": "ipython3",
   "version": "3.11.3"
  }
 },
 "nbformat": 4,
 "nbformat_minor": 2
}
