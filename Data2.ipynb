{
 "cells": [
  {
   "cell_type": "markdown",
   "metadata": {},
   "source": [
    "## 데이터불러오기"
   ]
  },
  {
   "cell_type": "code",
   "execution_count": 10,
   "metadata": {},
   "outputs": [],
   "source": [
    "import pandas as pd\n",
    "\n",
    "# Load the CSV files\n",
    "file1_path = 'Data/지역화폐발행및이용현황_2019~2022.csv'  \n",
    "\n",
    "file2_path = 'Data/지역화폐발행및이용현황_2023.csv'\n",
    "\n",
    "df_2022d = pd.read_csv(file1_path, encoding='euc-kr')\n",
    "df_2023 = pd.read_csv(file2_path, encoding='euc-kr')\n",
    "\n"
   ]
  },
  {
   "cell_type": "markdown",
   "metadata": {},
   "source": [
    "-----\n"
   ]
  },
  {
   "cell_type": "markdown",
   "metadata": {},
   "source": [
    "## 전처리"
   ]
  },
  {
   "cell_type": "markdown",
   "metadata": {},
   "source": [
    "### 1.데이터 확인"
   ]
  },
  {
   "cell_type": "code",
   "execution_count": 11,
   "metadata": {},
   "outputs": [
    {
     "data": {
      "text/plain": [
       "(1488, 5)"
      ]
     },
     "execution_count": 11,
     "metadata": {},
     "output_type": "execute_result"
    }
   ],
   "source": [
    "df_2022d.shape"
   ]
  },
  {
   "cell_type": "code",
   "execution_count": 12,
   "metadata": {},
   "outputs": [
    {
     "data": {
      "text/plain": [
       "(372, 5)"
      ]
     },
     "execution_count": 12,
     "metadata": {},
     "output_type": "execute_result"
    }
   ],
   "source": [
    "df_2023.shape"
   ]
  },
  {
   "cell_type": "code",
   "execution_count": 13,
   "metadata": {},
   "outputs": [
    {
     "data": {
      "text/html": [
       "<div>\n",
       "<style scoped>\n",
       "    .dataframe tbody tr th:only-of-type {\n",
       "        vertical-align: middle;\n",
       "    }\n",
       "\n",
       "    .dataframe tbody tr th {\n",
       "        vertical-align: top;\n",
       "    }\n",
       "\n",
       "    .dataframe thead th {\n",
       "        text-align: right;\n",
       "    }\n",
       "</style>\n",
       "<table border=\"1\" class=\"dataframe\">\n",
       "  <thead>\n",
       "    <tr style=\"text-align: right;\">\n",
       "      <th></th>\n",
       "      <th>시군명</th>\n",
       "      <th>기준년월</th>\n",
       "      <th>월별신규가입자수(명)</th>\n",
       "      <th>월별충전액(천원)</th>\n",
       "      <th>월별사용액(천원)</th>\n",
       "    </tr>\n",
       "  </thead>\n",
       "  <tbody>\n",
       "    <tr>\n",
       "      <th>0</th>\n",
       "      <td>가평군</td>\n",
       "      <td>2022-12</td>\n",
       "      <td>814.0</td>\n",
       "      <td>3600881.0</td>\n",
       "      <td>3996840.0</td>\n",
       "    </tr>\n",
       "    <tr>\n",
       "      <th>1</th>\n",
       "      <td>가평군</td>\n",
       "      <td>2022-11</td>\n",
       "      <td>701.0</td>\n",
       "      <td>4356413.0</td>\n",
       "      <td>3673972.0</td>\n",
       "    </tr>\n",
       "    <tr>\n",
       "      <th>2</th>\n",
       "      <td>가평군</td>\n",
       "      <td>2022-10</td>\n",
       "      <td>657.0</td>\n",
       "      <td>3205893.0</td>\n",
       "      <td>3586395.0</td>\n",
       "    </tr>\n",
       "    <tr>\n",
       "      <th>3</th>\n",
       "      <td>가평군</td>\n",
       "      <td>2022-09</td>\n",
       "      <td>832.0</td>\n",
       "      <td>4334836.0</td>\n",
       "      <td>3773560.0</td>\n",
       "    </tr>\n",
       "    <tr>\n",
       "      <th>4</th>\n",
       "      <td>가평군</td>\n",
       "      <td>2022-08</td>\n",
       "      <td>858.0</td>\n",
       "      <td>3091351.0</td>\n",
       "      <td>3600543.0</td>\n",
       "    </tr>\n",
       "  </tbody>\n",
       "</table>\n",
       "</div>"
      ],
      "text/plain": [
       "   시군명     기준년월  월별신규가입자수(명)  월별충전액(천원)  월별사용액(천원)\n",
       "0  가평군  2022-12        814.0  3600881.0  3996840.0\n",
       "1  가평군  2022-11        701.0  4356413.0  3673972.0\n",
       "2  가평군  2022-10        657.0  3205893.0  3586395.0\n",
       "3  가평군  2022-09        832.0  4334836.0  3773560.0\n",
       "4  가평군  2022-08        858.0  3091351.0  3600543.0"
      ]
     },
     "execution_count": 13,
     "metadata": {},
     "output_type": "execute_result"
    }
   ],
   "source": [
    "df_2022d.head()"
   ]
  },
  {
   "cell_type": "code",
   "execution_count": 14,
   "metadata": {},
   "outputs": [
    {
     "data": {
      "text/html": [
       "<div>\n",
       "<style scoped>\n",
       "    .dataframe tbody tr th:only-of-type {\n",
       "        vertical-align: middle;\n",
       "    }\n",
       "\n",
       "    .dataframe tbody tr th {\n",
       "        vertical-align: top;\n",
       "    }\n",
       "\n",
       "    .dataframe thead th {\n",
       "        text-align: right;\n",
       "    }\n",
       "</style>\n",
       "<table border=\"1\" class=\"dataframe\">\n",
       "  <thead>\n",
       "    <tr style=\"text-align: right;\">\n",
       "      <th></th>\n",
       "      <th>시군명</th>\n",
       "      <th>기준년월</th>\n",
       "      <th>월별신규가입자수(명)</th>\n",
       "      <th>월별충전액(백만원)</th>\n",
       "      <th>월별사용액(백만원)</th>\n",
       "    </tr>\n",
       "  </thead>\n",
       "  <tbody>\n",
       "    <tr>\n",
       "      <th>0</th>\n",
       "      <td>가평군</td>\n",
       "      <td>2023-12</td>\n",
       "      <td>484.0</td>\n",
       "      <td>4051</td>\n",
       "      <td>2140</td>\n",
       "    </tr>\n",
       "    <tr>\n",
       "      <th>1</th>\n",
       "      <td>가평군</td>\n",
       "      <td>2023-11</td>\n",
       "      <td>458.0</td>\n",
       "      <td>2368</td>\n",
       "      <td>2187</td>\n",
       "    </tr>\n",
       "    <tr>\n",
       "      <th>2</th>\n",
       "      <td>가평군</td>\n",
       "      <td>2023-10</td>\n",
       "      <td>555.0</td>\n",
       "      <td>2596</td>\n",
       "      <td>2335</td>\n",
       "    </tr>\n",
       "    <tr>\n",
       "      <th>3</th>\n",
       "      <td>가평군</td>\n",
       "      <td>2023-09</td>\n",
       "      <td>782.0</td>\n",
       "      <td>3113</td>\n",
       "      <td>2376</td>\n",
       "    </tr>\n",
       "    <tr>\n",
       "      <th>4</th>\n",
       "      <td>가평군</td>\n",
       "      <td>2023-08</td>\n",
       "      <td>473.0</td>\n",
       "      <td>3631</td>\n",
       "      <td>2392</td>\n",
       "    </tr>\n",
       "  </tbody>\n",
       "</table>\n",
       "</div>"
      ],
      "text/plain": [
       "   시군명     기준년월  월별신규가입자수(명)  월별충전액(백만원)  월별사용액(백만원)\n",
       "0  가평군  2023-12        484.0        4051        2140\n",
       "1  가평군  2023-11        458.0        2368        2187\n",
       "2  가평군  2023-10        555.0        2596        2335\n",
       "3  가평군  2023-09        782.0        3113        2376\n",
       "4  가평군  2023-08        473.0        3631        2392"
      ]
     },
     "execution_count": 14,
     "metadata": {},
     "output_type": "execute_result"
    }
   ],
   "source": [
    "df_2023.head()"
   ]
  },
  {
   "cell_type": "code",
   "execution_count": 15,
   "metadata": {},
   "outputs": [
    {
     "data": {
      "text/plain": [
       "31"
      ]
     },
     "execution_count": 15,
     "metadata": {},
     "output_type": "execute_result"
    }
   ],
   "source": [
    "len(df_2023['시군명'].unique())"
   ]
  },
  {
   "cell_type": "code",
   "execution_count": 16,
   "metadata": {},
   "outputs": [
    {
     "data": {
      "text/plain": [
       "시군명            0\n",
       "기준년월           0\n",
       "월별신규가입자수(명)    2\n",
       "월별충전액(백만원)     0\n",
       "월별사용액(백만원)     0\n",
       "dtype: int64"
      ]
     },
     "execution_count": 16,
     "metadata": {},
     "output_type": "execute_result"
    }
   ],
   "source": [
    "df_2023.isnull().sum()"
   ]
  },
  {
   "cell_type": "code",
   "execution_count": 17,
   "metadata": {},
   "outputs": [
    {
     "data": {
      "text/plain": [
       "시군명              0\n",
       "기준년월             0\n",
       "월별신규가입자수(명)    222\n",
       "월별충전액(천원)      181\n",
       "월별사용액(천원)      181\n",
       "dtype: int64"
      ]
     },
     "execution_count": 17,
     "metadata": {},
     "output_type": "execute_result"
    }
   ],
   "source": [
    "df_2022d.isnull().sum()"
   ]
  },
  {
   "cell_type": "markdown",
   "metadata": {},
   "source": [
    "- 결측지가 존재하지만 월별 충전금액을 비교분석해서 지표로 활용해야할수있기떄문에 제거는 하지않고, 최빈값이나 중앙값 평균값등으로 교체해야할것같다 **논의필용**"
   ]
  },
  {
   "cell_type": "markdown",
   "metadata": {},
   "source": [
    "### 2.2019년까지 있는 데이터를 2021년부터 2023년까지만 다루기위해 데이터 슬라이싱\n"
   ]
  },
  {
   "cell_type": "code",
   "execution_count": 18,
   "metadata": {},
   "outputs": [
    {
     "data": {
      "text/html": [
       "<div>\n",
       "<style scoped>\n",
       "    .dataframe tbody tr th:only-of-type {\n",
       "        vertical-align: middle;\n",
       "    }\n",
       "\n",
       "    .dataframe tbody tr th {\n",
       "        vertical-align: top;\n",
       "    }\n",
       "\n",
       "    .dataframe thead th {\n",
       "        text-align: right;\n",
       "    }\n",
       "</style>\n",
       "<table border=\"1\" class=\"dataframe\">\n",
       "  <thead>\n",
       "    <tr style=\"text-align: right;\">\n",
       "      <th></th>\n",
       "      <th>시군명</th>\n",
       "      <th>기준년월</th>\n",
       "      <th>월별신규가입자수(명)</th>\n",
       "      <th>월별충전액(천원)</th>\n",
       "      <th>월별사용액(천원)</th>\n",
       "    </tr>\n",
       "  </thead>\n",
       "  <tbody>\n",
       "    <tr>\n",
       "      <th>1459</th>\n",
       "      <td>화성시</td>\n",
       "      <td>2021-05</td>\n",
       "      <td>7615.0</td>\n",
       "      <td>26955815.0</td>\n",
       "      <td>27578227.0</td>\n",
       "    </tr>\n",
       "    <tr>\n",
       "      <th>1460</th>\n",
       "      <td>화성시</td>\n",
       "      <td>2021-04</td>\n",
       "      <td>23662.0</td>\n",
       "      <td>27897920.0</td>\n",
       "      <td>27898856.0</td>\n",
       "    </tr>\n",
       "    <tr>\n",
       "      <th>1461</th>\n",
       "      <td>화성시</td>\n",
       "      <td>2021-03</td>\n",
       "      <td>13378.0</td>\n",
       "      <td>18016255.0</td>\n",
       "      <td>20192514.0</td>\n",
       "    </tr>\n",
       "    <tr>\n",
       "      <th>1462</th>\n",
       "      <td>화성시</td>\n",
       "      <td>2021-02</td>\n",
       "      <td>23305.0</td>\n",
       "      <td>18016255.0</td>\n",
       "      <td>20192514.0</td>\n",
       "    </tr>\n",
       "    <tr>\n",
       "      <th>1463</th>\n",
       "      <td>화성시</td>\n",
       "      <td>2021-01</td>\n",
       "      <td>12936.0</td>\n",
       "      <td>32845088.0</td>\n",
       "      <td>31312763.0</td>\n",
       "    </tr>\n",
       "  </tbody>\n",
       "</table>\n",
       "</div>"
      ],
      "text/plain": [
       "      시군명     기준년월  월별신규가입자수(명)   월별충전액(천원)   월별사용액(천원)\n",
       "1459  화성시  2021-05       7615.0  26955815.0  27578227.0\n",
       "1460  화성시  2021-04      23662.0  27897920.0  27898856.0\n",
       "1461  화성시  2021-03      13378.0  18016255.0  20192514.0\n",
       "1462  화성시  2021-02      23305.0  18016255.0  20192514.0\n",
       "1463  화성시  2021-01      12936.0  32845088.0  31312763.0"
      ]
     },
     "execution_count": 18,
     "metadata": {},
     "output_type": "execute_result"
    }
   ],
   "source": [
    "df_2022d = df_2022d[df_2022d['기준년월'].str[:4].astype(int).between(2021, 2023)]\n",
    "\n",
    "df_2022d.tail()"
   ]
  },
  {
   "cell_type": "code",
   "execution_count": 19,
   "metadata": {},
   "outputs": [
    {
     "data": {
      "text/plain": [
       "(744, 5)"
      ]
     },
     "execution_count": 19,
     "metadata": {},
     "output_type": "execute_result"
    }
   ],
   "source": [
    "df_2022d.shape"
   ]
  },
  {
   "cell_type": "markdown",
   "metadata": {},
   "source": [
    "### 3.금액단위를 만원단위로 맞추기 => Data1,2에대한 통일성부여"
   ]
  },
  {
   "cell_type": "code",
   "execution_count": 20,
   "metadata": {},
   "outputs": [],
   "source": [
    "df_2022d['월별충전액(천원)']=round(df_2022d['월별충전액(천원)']/10) #반올림해서 소수점 제거\n"
   ]
  },
  {
   "cell_type": "code",
   "execution_count": 21,
   "metadata": {},
   "outputs": [],
   "source": [
    "df_2022d['월별사용액(천원)']=round(df_2022d['월별사용액(천원)']/10)"
   ]
  },
  {
   "cell_type": "code",
   "execution_count": null,
   "metadata": {},
   "outputs": [],
   "source": []
  },
  {
   "cell_type": "code",
   "execution_count": 22,
   "metadata": {},
   "outputs": [
    {
     "data": {
      "text/html": [
       "<div>\n",
       "<style scoped>\n",
       "    .dataframe tbody tr th:only-of-type {\n",
       "        vertical-align: middle;\n",
       "    }\n",
       "\n",
       "    .dataframe tbody tr th {\n",
       "        vertical-align: top;\n",
       "    }\n",
       "\n",
       "    .dataframe thead th {\n",
       "        text-align: right;\n",
       "    }\n",
       "</style>\n",
       "<table border=\"1\" class=\"dataframe\">\n",
       "  <thead>\n",
       "    <tr style=\"text-align: right;\">\n",
       "      <th></th>\n",
       "      <th>시군명</th>\n",
       "      <th>기준년월</th>\n",
       "      <th>월별신규가입자수(명)</th>\n",
       "      <th>월별충전액(천원)</th>\n",
       "      <th>월별사용액(천원)</th>\n",
       "    </tr>\n",
       "  </thead>\n",
       "  <tbody>\n",
       "    <tr>\n",
       "      <th>0</th>\n",
       "      <td>가평군</td>\n",
       "      <td>2022-12</td>\n",
       "      <td>814.0</td>\n",
       "      <td>360088.0</td>\n",
       "      <td>399684.0</td>\n",
       "    </tr>\n",
       "    <tr>\n",
       "      <th>1</th>\n",
       "      <td>가평군</td>\n",
       "      <td>2022-11</td>\n",
       "      <td>701.0</td>\n",
       "      <td>435641.0</td>\n",
       "      <td>367397.0</td>\n",
       "    </tr>\n",
       "    <tr>\n",
       "      <th>2</th>\n",
       "      <td>가평군</td>\n",
       "      <td>2022-10</td>\n",
       "      <td>657.0</td>\n",
       "      <td>320589.0</td>\n",
       "      <td>358640.0</td>\n",
       "    </tr>\n",
       "    <tr>\n",
       "      <th>3</th>\n",
       "      <td>가평군</td>\n",
       "      <td>2022-09</td>\n",
       "      <td>832.0</td>\n",
       "      <td>433484.0</td>\n",
       "      <td>377356.0</td>\n",
       "    </tr>\n",
       "    <tr>\n",
       "      <th>4</th>\n",
       "      <td>가평군</td>\n",
       "      <td>2022-08</td>\n",
       "      <td>858.0</td>\n",
       "      <td>309135.0</td>\n",
       "      <td>360054.0</td>\n",
       "    </tr>\n",
       "  </tbody>\n",
       "</table>\n",
       "</div>"
      ],
      "text/plain": [
       "   시군명     기준년월  월별신규가입자수(명)  월별충전액(천원)  월별사용액(천원)\n",
       "0  가평군  2022-12        814.0   360088.0   399684.0\n",
       "1  가평군  2022-11        701.0   435641.0   367397.0\n",
       "2  가평군  2022-10        657.0   320589.0   358640.0\n",
       "3  가평군  2022-09        832.0   433484.0   377356.0\n",
       "4  가평군  2022-08        858.0   309135.0   360054.0"
      ]
     },
     "execution_count": 22,
     "metadata": {},
     "output_type": "execute_result"
    }
   ],
   "source": [
    "df_2022d.head()"
   ]
  },
  {
   "cell_type": "code",
   "execution_count": 23,
   "metadata": {},
   "outputs": [],
   "source": [
    "df_2023['월별충전액(백만원)']=df_2023['월별충전액(백만원)']*100"
   ]
  },
  {
   "cell_type": "code",
   "execution_count": 24,
   "metadata": {},
   "outputs": [],
   "source": [
    "df_2023['월별사용액(백만원)']=df_2023['월별사용액(백만원)']*100"
   ]
  },
  {
   "cell_type": "code",
   "execution_count": 25,
   "metadata": {},
   "outputs": [
    {
     "data": {
      "text/html": [
       "<div>\n",
       "<style scoped>\n",
       "    .dataframe tbody tr th:only-of-type {\n",
       "        vertical-align: middle;\n",
       "    }\n",
       "\n",
       "    .dataframe tbody tr th {\n",
       "        vertical-align: top;\n",
       "    }\n",
       "\n",
       "    .dataframe thead th {\n",
       "        text-align: right;\n",
       "    }\n",
       "</style>\n",
       "<table border=\"1\" class=\"dataframe\">\n",
       "  <thead>\n",
       "    <tr style=\"text-align: right;\">\n",
       "      <th></th>\n",
       "      <th>시군명</th>\n",
       "      <th>기준년월</th>\n",
       "      <th>월별신규가입자수(명)</th>\n",
       "      <th>월별충전액(백만원)</th>\n",
       "      <th>월별사용액(백만원)</th>\n",
       "    </tr>\n",
       "  </thead>\n",
       "  <tbody>\n",
       "    <tr>\n",
       "      <th>0</th>\n",
       "      <td>가평군</td>\n",
       "      <td>2023-12</td>\n",
       "      <td>484.0</td>\n",
       "      <td>405100</td>\n",
       "      <td>214000</td>\n",
       "    </tr>\n",
       "    <tr>\n",
       "      <th>1</th>\n",
       "      <td>가평군</td>\n",
       "      <td>2023-11</td>\n",
       "      <td>458.0</td>\n",
       "      <td>236800</td>\n",
       "      <td>218700</td>\n",
       "    </tr>\n",
       "    <tr>\n",
       "      <th>2</th>\n",
       "      <td>가평군</td>\n",
       "      <td>2023-10</td>\n",
       "      <td>555.0</td>\n",
       "      <td>259600</td>\n",
       "      <td>233500</td>\n",
       "    </tr>\n",
       "    <tr>\n",
       "      <th>3</th>\n",
       "      <td>가평군</td>\n",
       "      <td>2023-09</td>\n",
       "      <td>782.0</td>\n",
       "      <td>311300</td>\n",
       "      <td>237600</td>\n",
       "    </tr>\n",
       "    <tr>\n",
       "      <th>4</th>\n",
       "      <td>가평군</td>\n",
       "      <td>2023-08</td>\n",
       "      <td>473.0</td>\n",
       "      <td>363100</td>\n",
       "      <td>239200</td>\n",
       "    </tr>\n",
       "  </tbody>\n",
       "</table>\n",
       "</div>"
      ],
      "text/plain": [
       "   시군명     기준년월  월별신규가입자수(명)  월별충전액(백만원)  월별사용액(백만원)\n",
       "0  가평군  2023-12        484.0      405100      214000\n",
       "1  가평군  2023-11        458.0      236800      218700\n",
       "2  가평군  2023-10        555.0      259600      233500\n",
       "3  가평군  2023-09        782.0      311300      237600\n",
       "4  가평군  2023-08        473.0      363100      239200"
      ]
     },
     "execution_count": 25,
     "metadata": {},
     "output_type": "execute_result"
    }
   ],
   "source": [
    "df_2023.head()"
   ]
  },
  {
   "cell_type": "markdown",
   "metadata": {},
   "source": [
    "### 4.데이터 concat"
   ]
  },
  {
   "cell_type": "markdown",
   "metadata": {},
   "source": [
    "- 데이터 컬럼이름 맞춰주기()"
   ]
  },
  {
   "cell_type": "code",
   "execution_count": 26,
   "metadata": {},
   "outputs": [],
   "source": [
    "df_2022d.columns=['시군명','기준년월','월별신규가입자수(명)','월별충전액(만원)','월별사용액(만원)']"
   ]
  },
  {
   "cell_type": "code",
   "execution_count": 27,
   "metadata": {},
   "outputs": [],
   "source": [
    "df_2023.columns=['시군명','기준년월','월별신규가입자수(명)','월별충전액(만원)','월별사용액(만원)']"
   ]
  },
  {
   "cell_type": "code",
   "execution_count": 28,
   "metadata": {},
   "outputs": [
    {
     "name": "stdout",
     "output_type": "stream",
     "text": [
      "(372, 5)\n",
      "(744, 5)\n"
     ]
    }
   ],
   "source": [
    "print(df_2023.shape)\n",
    "print(df_2022d.shape)"
   ]
  },
  {
   "cell_type": "code",
   "execution_count": 29,
   "metadata": {},
   "outputs": [
    {
     "data": {
      "text/html": [
       "<div>\n",
       "<style scoped>\n",
       "    .dataframe tbody tr th:only-of-type {\n",
       "        vertical-align: middle;\n",
       "    }\n",
       "\n",
       "    .dataframe tbody tr th {\n",
       "        vertical-align: top;\n",
       "    }\n",
       "\n",
       "    .dataframe thead th {\n",
       "        text-align: right;\n",
       "    }\n",
       "</style>\n",
       "<table border=\"1\" class=\"dataframe\">\n",
       "  <thead>\n",
       "    <tr style=\"text-align: right;\">\n",
       "      <th></th>\n",
       "      <th>시군명</th>\n",
       "      <th>기준년월</th>\n",
       "      <th>월별신규가입자수(명)</th>\n",
       "      <th>월별충전액(만원)</th>\n",
       "      <th>월별사용액(만원)</th>\n",
       "    </tr>\n",
       "  </thead>\n",
       "  <tbody>\n",
       "    <tr>\n",
       "      <th>1111</th>\n",
       "      <td>화성시</td>\n",
       "      <td>2021-05</td>\n",
       "      <td>7615.0</td>\n",
       "      <td>2695582.0</td>\n",
       "      <td>2757823.0</td>\n",
       "    </tr>\n",
       "    <tr>\n",
       "      <th>1112</th>\n",
       "      <td>화성시</td>\n",
       "      <td>2021-04</td>\n",
       "      <td>23662.0</td>\n",
       "      <td>2789792.0</td>\n",
       "      <td>2789886.0</td>\n",
       "    </tr>\n",
       "    <tr>\n",
       "      <th>1113</th>\n",
       "      <td>화성시</td>\n",
       "      <td>2021-03</td>\n",
       "      <td>13378.0</td>\n",
       "      <td>1801626.0</td>\n",
       "      <td>2019251.0</td>\n",
       "    </tr>\n",
       "    <tr>\n",
       "      <th>1114</th>\n",
       "      <td>화성시</td>\n",
       "      <td>2021-02</td>\n",
       "      <td>23305.0</td>\n",
       "      <td>1801626.0</td>\n",
       "      <td>2019251.0</td>\n",
       "    </tr>\n",
       "    <tr>\n",
       "      <th>1115</th>\n",
       "      <td>화성시</td>\n",
       "      <td>2021-01</td>\n",
       "      <td>12936.0</td>\n",
       "      <td>3284509.0</td>\n",
       "      <td>3131276.0</td>\n",
       "    </tr>\n",
       "  </tbody>\n",
       "</table>\n",
       "</div>"
      ],
      "text/plain": [
       "      시군명     기준년월  월별신규가입자수(명)  월별충전액(만원)  월별사용액(만원)\n",
       "1111  화성시  2021-05       7615.0  2695582.0  2757823.0\n",
       "1112  화성시  2021-04      23662.0  2789792.0  2789886.0\n",
       "1113  화성시  2021-03      13378.0  1801626.0  2019251.0\n",
       "1114  화성시  2021-02      23305.0  1801626.0  2019251.0\n",
       "1115  화성시  2021-01      12936.0  3284509.0  3131276.0"
      ]
     },
     "execution_count": 29,
     "metadata": {},
     "output_type": "execute_result"
    }
   ],
   "source": [
    "Data2=pd.concat([df_2023,df_2022d],ignore_index=True)\n",
    "Data2.to_csv('Data2.csv',index=False)\n",
    "Data2.tail()"
   ]
  },
  {
   "cell_type": "code",
   "execution_count": 30,
   "metadata": {},
   "outputs": [],
   "source": [
    "Data2['기준년월'] = pd.to_datetime(Data2['기준년월'])"
   ]
  },
  {
   "cell_type": "code",
   "execution_count": 60,
   "metadata": {},
   "outputs": [
    {
     "name": "stdout",
     "output_type": "stream",
     "text": [
      "<class 'pandas.core.frame.DataFrame'>\n",
      "RangeIndex: 1116 entries, 0 to 1115\n",
      "Data columns (total 6 columns):\n",
      " #   Column       Non-Null Count  Dtype         \n",
      "---  ------       --------------  -----         \n",
      " 0   시군명          1116 non-null   object        \n",
      " 1   기준년월         1116 non-null   datetime64[ns]\n",
      " 2   월별신규가입자수(명)  1042 non-null   float64       \n",
      " 3   월별충전액(만원)    1070 non-null   float64       \n",
      " 4   월별사용액(만원)    1070 non-null   float64       \n",
      " 5   기준연도         1116 non-null   int64         \n",
      "dtypes: datetime64[ns](1), float64(3), int64(1), object(1)\n",
      "memory usage: 52.4+ KB\n"
     ]
    }
   ],
   "source": [
    "Data2.info()"
   ]
  },
  {
   "cell_type": "markdown",
   "metadata": {},
   "source": [
    "------\n",
    "## 시각화=>Tableau 대시보드 사용"
   ]
  },
  {
   "cell_type": "markdown",
   "metadata": {},
   "source": [
    "-------\n"
   ]
  },
  {
   "cell_type": "markdown",
   "metadata": {},
   "source": [
    "## 지표설정"
   ]
  },
  {
   "cell_type": "markdown",
   "metadata": {},
   "source": [
    "### Data 1,3과 달리 Data2는 각 시군별 각 월별 총결제금액과 사용금액이 나와있으므로 각 시군별 을 월별로 점진적으로 , 수치적으로 비교할수있는 지표로 활용하는게 좋을것같다."
   ]
  },
  {
   "cell_type": "markdown",
   "metadata": {},
   "source": [
    "- 전년도 대비 결제금액 증감 %으로 지표를 설정해보자"
   ]
  },
  {
   "cell_type": "markdown",
   "metadata": {},
   "source": [
    "- Data2 보다는 Data1이 년도 대비 비교가 편리할거같다"
   ]
  },
  {
   "cell_type": "code",
   "execution_count": 42,
   "metadata": {},
   "outputs": [
    {
     "data": {
      "text/html": [
       "<div>\n",
       "<style scoped>\n",
       "    .dataframe tbody tr th:only-of-type {\n",
       "        vertical-align: middle;\n",
       "    }\n",
       "\n",
       "    .dataframe tbody tr th {\n",
       "        vertical-align: top;\n",
       "    }\n",
       "\n",
       "    .dataframe thead th {\n",
       "        text-align: right;\n",
       "    }\n",
       "</style>\n",
       "<table border=\"1\" class=\"dataframe\">\n",
       "  <thead>\n",
       "    <tr style=\"text-align: right;\">\n",
       "      <th></th>\n",
       "      <th>기준연도</th>\n",
       "      <th>시군명</th>\n",
       "      <th>연령대</th>\n",
       "      <th>성별</th>\n",
       "      <th>결제건수</th>\n",
       "      <th>결제금액</th>\n",
       "      <th>결제취소건수</th>\n",
       "      <th>결제취소금액</th>\n",
       "      <th>1회평균결제금액</th>\n",
       "    </tr>\n",
       "  </thead>\n",
       "  <tbody>\n",
       "    <tr>\n",
       "      <th>1498</th>\n",
       "      <td>2021</td>\n",
       "      <td>화성시</td>\n",
       "      <td>70대</td>\n",
       "      <td>남</td>\n",
       "      <td>93924</td>\n",
       "      <td>2.016729e+09</td>\n",
       "      <td>878.0</td>\n",
       "      <td>36744696.0</td>\n",
       "      <td>21472.0</td>\n",
       "    </tr>\n",
       "    <tr>\n",
       "      <th>1499</th>\n",
       "      <td>2021</td>\n",
       "      <td>화성시</td>\n",
       "      <td>70대</td>\n",
       "      <td>여</td>\n",
       "      <td>94936</td>\n",
       "      <td>2.113137e+09</td>\n",
       "      <td>948.0</td>\n",
       "      <td>31082093.0</td>\n",
       "      <td>22259.0</td>\n",
       "    </tr>\n",
       "    <tr>\n",
       "      <th>1500</th>\n",
       "      <td>2021</td>\n",
       "      <td>화성시</td>\n",
       "      <td>80대 이상</td>\n",
       "      <td>남</td>\n",
       "      <td>14820</td>\n",
       "      <td>2.960631e+08</td>\n",
       "      <td>128.0</td>\n",
       "      <td>3424209.0</td>\n",
       "      <td>19977.0</td>\n",
       "    </tr>\n",
       "    <tr>\n",
       "      <th>1501</th>\n",
       "      <td>2021</td>\n",
       "      <td>화성시</td>\n",
       "      <td>80대 이상</td>\n",
       "      <td>여</td>\n",
       "      <td>19625</td>\n",
       "      <td>4.419913e+08</td>\n",
       "      <td>191.0</td>\n",
       "      <td>6208072.0</td>\n",
       "      <td>22522.0</td>\n",
       "    </tr>\n",
       "    <tr>\n",
       "      <th>1502</th>\n",
       "      <td>2021</td>\n",
       "      <td>화성시</td>\n",
       "      <td>기타</td>\n",
       "      <td>-</td>\n",
       "      <td>1245634</td>\n",
       "      <td>2.980095e+10</td>\n",
       "      <td>11553.0</td>\n",
       "      <td>415381458.0</td>\n",
       "      <td>23924.0</td>\n",
       "    </tr>\n",
       "  </tbody>\n",
       "</table>\n",
       "</div>"
      ],
      "text/plain": [
       "      기준연도  시군명     연령대 성별     결제건수          결제금액   결제취소건수       결제취소금액  \\\n",
       "1498  2021  화성시     70대  남    93924  2.016729e+09    878.0   36744696.0   \n",
       "1499  2021  화성시     70대  여    94936  2.113137e+09    948.0   31082093.0   \n",
       "1500  2021  화성시  80대 이상  남    14820  2.960631e+08    128.0    3424209.0   \n",
       "1501  2021  화성시  80대 이상  여    19625  4.419913e+08    191.0    6208072.0   \n",
       "1502  2021  화성시      기타  -  1245634  2.980095e+10  11553.0  415381458.0   \n",
       "\n",
       "      1회평균결제금액  \n",
       "1498   21472.0  \n",
       "1499   22259.0  \n",
       "1500   19977.0  \n",
       "1501   22522.0  \n",
       "1502   23924.0  "
      ]
     },
     "execution_count": 42,
     "metadata": {},
     "output_type": "execute_result"
    }
   ],
   "source": [
    "import pandas as pd\n",
    "dff=pd.read_csv('Data/Data1_전쳐리.csv')\n",
    "dff.tail()"
   ]
  },
  {
   "cell_type": "code",
   "execution_count": 59,
   "metadata": {},
   "outputs": [
    {
     "ename": "KeyError",
     "evalue": "\"Column(s) ['월별신규가입자수(명)'] do not exist\"",
     "output_type": "error",
     "traceback": [
      "\u001b[1;31m---------------------------------------------------------------------------\u001b[0m",
      "\u001b[1;31mKeyError\u001b[0m                                  Traceback (most recent call last)",
      "\u001b[1;32m~\\AppData\\Local\\Temp\\ipykernel_11332\\4097588282.py\u001b[0m in \u001b[0;36m<module>\u001b[1;34m\u001b[0m\n\u001b[0;32m      6\u001b[0m \u001b[1;33m\u001b[0m\u001b[0m\n\u001b[0;32m      7\u001b[0m \u001b[1;31m# '시군명'과 '기준연도'로 그룹화하고 '월별사용액(만원)' 총합 계산\u001b[0m\u001b[1;33m\u001b[0m\u001b[1;33m\u001b[0m\u001b[0m\n\u001b[1;32m----> 8\u001b[1;33m \u001b[0mdf_group1_totalPay\u001b[0m \u001b[1;33m=\u001b[0m \u001b[0mData2\u001b[0m\u001b[1;33m.\u001b[0m\u001b[0mgroupby\u001b[0m\u001b[1;33m(\u001b[0m\u001b[1;33m[\u001b[0m\u001b[1;34m'시군명'\u001b[0m\u001b[1;33m,\u001b[0m \u001b[1;34m'기준연도'\u001b[0m\u001b[1;33m]\u001b[0m\u001b[1;33m,\u001b[0m \u001b[0mas_index\u001b[0m\u001b[1;33m=\u001b[0m\u001b[1;32mFalse\u001b[0m\u001b[1;33m)\u001b[0m\u001b[0;31m \u001b[0m\u001b[0;31m\\\u001b[0m\u001b[1;33m\u001b[0m\u001b[1;33m\u001b[0m\u001b[0m\n\u001b[0m\u001b[0;32m      9\u001b[0m               \u001b[1;33m.\u001b[0m\u001b[0magg\u001b[0m\u001b[1;33m(\u001b[0m\u001b[0mtotalPay\u001b[0m\u001b[1;33m=\u001b[0m\u001b[1;33m(\u001b[0m\u001b[1;34m'월별사용액(만원)'\u001b[0m\u001b[1;33m,\u001b[0m \u001b[1;34m'sum'\u001b[0m\u001b[1;33m)\u001b[0m\u001b[1;33m)\u001b[0m\u001b[0;31m \u001b[0m\u001b[0;31m\\\u001b[0m\u001b[1;33m\u001b[0m\u001b[1;33m\u001b[0m\u001b[0m\n\u001b[0;32m     10\u001b[0m               \u001b[1;33m.\u001b[0m\u001b[0magg\u001b[0m\u001b[1;33m(\u001b[0m\u001b[0m사용자수\u001b[0m\u001b[1;33m=\u001b[0m\u001b[1;33m(\u001b[0m\u001b[1;34m'월별신규가입자수(명)'\u001b[0m\u001b[1;33m,\u001b[0m\u001b[1;34m'sum'\u001b[0m\u001b[1;33m)\u001b[0m\u001b[1;33m)\u001b[0m\u001b[0;31m \u001b[0m\u001b[0;31m\\\u001b[0m\u001b[1;33m\u001b[0m\u001b[1;33m\u001b[0m\u001b[0m\n",
      "\u001b[1;32mc:\\Users\\home\\anaconda3\\lib\\site-packages\\pandas\\core\\frame.py\u001b[0m in \u001b[0;36maggregate\u001b[1;34m(self, func, axis, *args, **kwargs)\u001b[0m\n\u001b[0;32m   8656\u001b[0m \u001b[1;33m\u001b[0m\u001b[0m\n\u001b[0;32m   8657\u001b[0m         \u001b[0mop\u001b[0m \u001b[1;33m=\u001b[0m \u001b[0mframe_apply\u001b[0m\u001b[1;33m(\u001b[0m\u001b[0mself\u001b[0m\u001b[1;33m,\u001b[0m \u001b[0mfunc\u001b[0m\u001b[1;33m=\u001b[0m\u001b[0mfunc\u001b[0m\u001b[1;33m,\u001b[0m \u001b[0maxis\u001b[0m\u001b[1;33m=\u001b[0m\u001b[0maxis\u001b[0m\u001b[1;33m,\u001b[0m \u001b[0margs\u001b[0m\u001b[1;33m=\u001b[0m\u001b[0margs\u001b[0m\u001b[1;33m,\u001b[0m \u001b[0mkwargs\u001b[0m\u001b[1;33m=\u001b[0m\u001b[0mkwargs\u001b[0m\u001b[1;33m)\u001b[0m\u001b[1;33m\u001b[0m\u001b[1;33m\u001b[0m\u001b[0m\n\u001b[1;32m-> 8658\u001b[1;33m         \u001b[0mresult\u001b[0m \u001b[1;33m=\u001b[0m \u001b[0mop\u001b[0m\u001b[1;33m.\u001b[0m\u001b[0magg\u001b[0m\u001b[1;33m(\u001b[0m\u001b[1;33m)\u001b[0m\u001b[1;33m\u001b[0m\u001b[1;33m\u001b[0m\u001b[0m\n\u001b[0m\u001b[0;32m   8659\u001b[0m \u001b[1;33m\u001b[0m\u001b[0m\n\u001b[0;32m   8660\u001b[0m         \u001b[1;32mif\u001b[0m \u001b[0mrelabeling\u001b[0m\u001b[1;33m:\u001b[0m\u001b[1;33m\u001b[0m\u001b[1;33m\u001b[0m\u001b[0m\n",
      "\u001b[1;32mc:\\Users\\home\\anaconda3\\lib\\site-packages\\pandas\\core\\apply.py\u001b[0m in \u001b[0;36magg\u001b[1;34m(self)\u001b[0m\n\u001b[0;32m    743\u001b[0m         \u001b[0mresult\u001b[0m \u001b[1;33m=\u001b[0m \u001b[1;32mNone\u001b[0m\u001b[1;33m\u001b[0m\u001b[1;33m\u001b[0m\u001b[0m\n\u001b[0;32m    744\u001b[0m         \u001b[1;32mtry\u001b[0m\u001b[1;33m:\u001b[0m\u001b[1;33m\u001b[0m\u001b[1;33m\u001b[0m\u001b[0m\n\u001b[1;32m--> 745\u001b[1;33m             \u001b[0mresult\u001b[0m \u001b[1;33m=\u001b[0m \u001b[0msuper\u001b[0m\u001b[1;33m(\u001b[0m\u001b[1;33m)\u001b[0m\u001b[1;33m.\u001b[0m\u001b[0magg\u001b[0m\u001b[1;33m(\u001b[0m\u001b[1;33m)\u001b[0m\u001b[1;33m\u001b[0m\u001b[1;33m\u001b[0m\u001b[0m\n\u001b[0m\u001b[0;32m    746\u001b[0m         \u001b[1;32mexcept\u001b[0m \u001b[0mTypeError\u001b[0m \u001b[1;32mas\u001b[0m \u001b[0merr\u001b[0m\u001b[1;33m:\u001b[0m\u001b[1;33m\u001b[0m\u001b[1;33m\u001b[0m\u001b[0m\n\u001b[0;32m    747\u001b[0m             exc = TypeError(\n",
      "\u001b[1;32mc:\\Users\\home\\anaconda3\\lib\\site-packages\\pandas\\core\\apply.py\u001b[0m in \u001b[0;36magg\u001b[1;34m(self)\u001b[0m\n\u001b[0;32m    166\u001b[0m \u001b[1;33m\u001b[0m\u001b[0m\n\u001b[0;32m    167\u001b[0m         \u001b[1;32mif\u001b[0m \u001b[0mis_dict_like\u001b[0m\u001b[1;33m(\u001b[0m\u001b[0marg\u001b[0m\u001b[1;33m)\u001b[0m\u001b[1;33m:\u001b[0m\u001b[1;33m\u001b[0m\u001b[1;33m\u001b[0m\u001b[0m\n\u001b[1;32m--> 168\u001b[1;33m             \u001b[1;32mreturn\u001b[0m \u001b[0mself\u001b[0m\u001b[1;33m.\u001b[0m\u001b[0magg_dict_like\u001b[0m\u001b[1;33m(\u001b[0m\u001b[1;33m)\u001b[0m\u001b[1;33m\u001b[0m\u001b[1;33m\u001b[0m\u001b[0m\n\u001b[0m\u001b[0;32m    169\u001b[0m         \u001b[1;32melif\u001b[0m \u001b[0mis_list_like\u001b[0m\u001b[1;33m(\u001b[0m\u001b[0marg\u001b[0m\u001b[1;33m)\u001b[0m\u001b[1;33m:\u001b[0m\u001b[1;33m\u001b[0m\u001b[1;33m\u001b[0m\u001b[0m\n\u001b[0;32m    170\u001b[0m             \u001b[1;31m# we require a list, but not a 'str'\u001b[0m\u001b[1;33m\u001b[0m\u001b[1;33m\u001b[0m\u001b[0m\n",
      "\u001b[1;32mc:\\Users\\home\\anaconda3\\lib\\site-packages\\pandas\\core\\apply.py\u001b[0m in \u001b[0;36magg_dict_like\u001b[1;34m(self)\u001b[0m\n\u001b[0;32m    471\u001b[0m             \u001b[0mselection\u001b[0m \u001b[1;33m=\u001b[0m \u001b[0mobj\u001b[0m\u001b[1;33m.\u001b[0m\u001b[0m_selection\u001b[0m\u001b[1;33m\u001b[0m\u001b[1;33m\u001b[0m\u001b[0m\n\u001b[0;32m    472\u001b[0m \u001b[1;33m\u001b[0m\u001b[0m\n\u001b[1;32m--> 473\u001b[1;33m         \u001b[0marg\u001b[0m \u001b[1;33m=\u001b[0m \u001b[0mself\u001b[0m\u001b[1;33m.\u001b[0m\u001b[0mnormalize_dictlike_arg\u001b[0m\u001b[1;33m(\u001b[0m\u001b[1;34m\"agg\"\u001b[0m\u001b[1;33m,\u001b[0m \u001b[0mselected_obj\u001b[0m\u001b[1;33m,\u001b[0m \u001b[0marg\u001b[0m\u001b[1;33m)\u001b[0m\u001b[1;33m\u001b[0m\u001b[1;33m\u001b[0m\u001b[0m\n\u001b[0m\u001b[0;32m    474\u001b[0m \u001b[1;33m\u001b[0m\u001b[0m\n\u001b[0;32m    475\u001b[0m         \u001b[1;32mif\u001b[0m \u001b[0mselected_obj\u001b[0m\u001b[1;33m.\u001b[0m\u001b[0mndim\u001b[0m \u001b[1;33m==\u001b[0m \u001b[1;36m1\u001b[0m\u001b[1;33m:\u001b[0m\u001b[1;33m\u001b[0m\u001b[1;33m\u001b[0m\u001b[0m\n",
      "\u001b[1;32mc:\\Users\\home\\anaconda3\\lib\\site-packages\\pandas\\core\\apply.py\u001b[0m in \u001b[0;36mnormalize_dictlike_arg\u001b[1;34m(self, how, obj, func)\u001b[0m\n\u001b[0;32m    589\u001b[0m             \u001b[1;32mif\u001b[0m \u001b[0mlen\u001b[0m\u001b[1;33m(\u001b[0m\u001b[0mcols\u001b[0m\u001b[1;33m)\u001b[0m \u001b[1;33m>\u001b[0m \u001b[1;36m0\u001b[0m\u001b[1;33m:\u001b[0m\u001b[1;33m\u001b[0m\u001b[1;33m\u001b[0m\u001b[0m\n\u001b[0;32m    590\u001b[0m                 \u001b[0mcols_sorted\u001b[0m \u001b[1;33m=\u001b[0m \u001b[0mlist\u001b[0m\u001b[1;33m(\u001b[0m\u001b[0msafe_sort\u001b[0m\u001b[1;33m(\u001b[0m\u001b[0mlist\u001b[0m\u001b[1;33m(\u001b[0m\u001b[0mcols\u001b[0m\u001b[1;33m)\u001b[0m\u001b[1;33m)\u001b[0m\u001b[1;33m)\u001b[0m\u001b[1;33m\u001b[0m\u001b[1;33m\u001b[0m\u001b[0m\n\u001b[1;32m--> 591\u001b[1;33m                 \u001b[1;32mraise\u001b[0m \u001b[0mKeyError\u001b[0m\u001b[1;33m(\u001b[0m\u001b[1;34mf\"Column(s) {cols_sorted} do not exist\"\u001b[0m\u001b[1;33m)\u001b[0m\u001b[1;33m\u001b[0m\u001b[1;33m\u001b[0m\u001b[0m\n\u001b[0m\u001b[0;32m    592\u001b[0m \u001b[1;33m\u001b[0m\u001b[0m\n\u001b[0;32m    593\u001b[0m         \u001b[0mis_aggregator\u001b[0m \u001b[1;33m=\u001b[0m \u001b[1;32mlambda\u001b[0m \u001b[0mx\u001b[0m\u001b[1;33m:\u001b[0m \u001b[0misinstance\u001b[0m\u001b[1;33m(\u001b[0m\u001b[0mx\u001b[0m\u001b[1;33m,\u001b[0m \u001b[1;33m(\u001b[0m\u001b[0mlist\u001b[0m\u001b[1;33m,\u001b[0m \u001b[0mtuple\u001b[0m\u001b[1;33m,\u001b[0m \u001b[0mdict\u001b[0m\u001b[1;33m)\u001b[0m\u001b[1;33m)\u001b[0m\u001b[1;33m\u001b[0m\u001b[1;33m\u001b[0m\u001b[0m\n",
      "\u001b[1;31mKeyError\u001b[0m: \"Column(s) ['월별신규가입자수(명)'] do not exist\""
     ]
    }
   ],
   "source": [
    "import pandas as pd\n",
    "import matplotlib.pyplot as plt\n",
    "\n",
    "\n",
    "Data2['기준연도'] = Data2['기준년월'].dt.year\n",
    "\n",
    "# '시군명'과 '기준연도'로 그룹화하고 '월별사용액(만원)' 총합 계산\n",
    "df_group1_totalPay = Data2.groupby(['시군명', '기준연도'], as_index=False) \\\n",
    "              .agg(totalPay=('월별사용액(만원)', 'sum')) \\\n",
    "              .agg(사용자수=('월별신규가입자수(명)','sum')) \\\n",
    "              .sort_values(['기준연도', '시군명'])\n",
    "df_group1_totalPay\n",
    "df_group1_totalPay.to_csv('csv.csv',index=False)"
   ]
  },
  {
   "cell_type": "code",
   "execution_count": 64,
   "metadata": {},
   "outputs": [],
   "source": [
    "df_group1_11 = Data2.groupby(['시군명', '기준연도'], as_index=False) \\\n",
    "              .agg(totalPay=('월별사용액(만원)', 'sum'), \n",
    "                   totalNewSubscribers=('월별신규가입자수(명)', 'sum')) \\\n",
    "              .sort_values('totalPay', ascending=False)"
   ]
  },
  {
   "cell_type": "code",
   "execution_count": 65,
   "metadata": {},
   "outputs": [
    {
     "data": {
      "text/html": [
       "<div>\n",
       "<style scoped>\n",
       "    .dataframe tbody tr th:only-of-type {\n",
       "        vertical-align: middle;\n",
       "    }\n",
       "\n",
       "    .dataframe tbody tr th {\n",
       "        vertical-align: top;\n",
       "    }\n",
       "\n",
       "    .dataframe thead th {\n",
       "        text-align: right;\n",
       "    }\n",
       "</style>\n",
       "<table border=\"1\" class=\"dataframe\">\n",
       "  <thead>\n",
       "    <tr style=\"text-align: right;\">\n",
       "      <th></th>\n",
       "      <th>시군명</th>\n",
       "      <th>기준연도</th>\n",
       "      <th>totalPay</th>\n",
       "      <th>totalNewSubscribers</th>\n",
       "    </tr>\n",
       "  </thead>\n",
       "  <tbody>\n",
       "    <tr>\n",
       "      <th>92</th>\n",
       "      <td>화성시</td>\n",
       "      <td>2023</td>\n",
       "      <td>41837000.0</td>\n",
       "      <td>90907.0</td>\n",
       "    </tr>\n",
       "    <tr>\n",
       "      <th>91</th>\n",
       "      <td>화성시</td>\n",
       "      <td>2022</td>\n",
       "      <td>41328810.0</td>\n",
       "      <td>70123.0</td>\n",
       "    </tr>\n",
       "    <tr>\n",
       "      <th>37</th>\n",
       "      <td>수원시</td>\n",
       "      <td>2022</td>\n",
       "      <td>37945657.0</td>\n",
       "      <td>98489.0</td>\n",
       "    </tr>\n",
       "    <tr>\n",
       "      <th>67</th>\n",
       "      <td>용인시</td>\n",
       "      <td>2022</td>\n",
       "      <td>34344709.0</td>\n",
       "      <td>88399.0</td>\n",
       "    </tr>\n",
       "    <tr>\n",
       "      <th>68</th>\n",
       "      <td>용인시</td>\n",
       "      <td>2023</td>\n",
       "      <td>33453000.0</td>\n",
       "      <td>79225.0</td>\n",
       "    </tr>\n",
       "    <tr>\n",
       "      <th>...</th>\n",
       "      <td>...</td>\n",
       "      <td>...</td>\n",
       "      <td>...</td>\n",
       "      <td>...</td>\n",
       "    </tr>\n",
       "    <tr>\n",
       "      <th>60</th>\n",
       "      <td>연천군</td>\n",
       "      <td>2021</td>\n",
       "      <td>1239240.0</td>\n",
       "      <td>8394.0</td>\n",
       "    </tr>\n",
       "    <tr>\n",
       "      <th>21</th>\n",
       "      <td>김포시</td>\n",
       "      <td>2021</td>\n",
       "      <td>0.0</td>\n",
       "      <td>0.0</td>\n",
       "    </tr>\n",
       "    <tr>\n",
       "      <th>22</th>\n",
       "      <td>김포시</td>\n",
       "      <td>2022</td>\n",
       "      <td>0.0</td>\n",
       "      <td>0.0</td>\n",
       "    </tr>\n",
       "    <tr>\n",
       "      <th>39</th>\n",
       "      <td>시흥시</td>\n",
       "      <td>2021</td>\n",
       "      <td>0.0</td>\n",
       "      <td>0.0</td>\n",
       "    </tr>\n",
       "    <tr>\n",
       "      <th>40</th>\n",
       "      <td>시흥시</td>\n",
       "      <td>2022</td>\n",
       "      <td>0.0</td>\n",
       "      <td>0.0</td>\n",
       "    </tr>\n",
       "  </tbody>\n",
       "</table>\n",
       "<p>93 rows × 4 columns</p>\n",
       "</div>"
      ],
      "text/plain": [
       "    시군명  기준연도    totalPay  totalNewSubscribers\n",
       "92  화성시  2023  41837000.0              90907.0\n",
       "91  화성시  2022  41328810.0              70123.0\n",
       "37  수원시  2022  37945657.0              98489.0\n",
       "67  용인시  2022  34344709.0              88399.0\n",
       "68  용인시  2023  33453000.0              79225.0\n",
       "..  ...   ...         ...                  ...\n",
       "60  연천군  2021   1239240.0               8394.0\n",
       "21  김포시  2021         0.0                  0.0\n",
       "22  김포시  2022         0.0                  0.0\n",
       "39  시흥시  2021         0.0                  0.0\n",
       "40  시흥시  2022         0.0                  0.0\n",
       "\n",
       "[93 rows x 4 columns]"
      ]
     },
     "execution_count": 65,
     "metadata": {},
     "output_type": "execute_result"
    }
   ],
   "source": [
    "df_group1_11"
   ]
  },
  {
   "cell_type": "code",
   "execution_count": 57,
   "metadata": {},
   "outputs": [
    {
     "data": {
      "text/html": [
       "<div>\n",
       "<style scoped>\n",
       "    .dataframe tbody tr th:only-of-type {\n",
       "        vertical-align: middle;\n",
       "    }\n",
       "\n",
       "    .dataframe tbody tr th {\n",
       "        vertical-align: top;\n",
       "    }\n",
       "\n",
       "    .dataframe thead th {\n",
       "        text-align: right;\n",
       "    }\n",
       "</style>\n",
       "<table border=\"1\" class=\"dataframe\">\n",
       "  <thead>\n",
       "    <tr style=\"text-align: right;\">\n",
       "      <th></th>\n",
       "      <th>시군명</th>\n",
       "      <th>기준연도</th>\n",
       "      <th>totalPay</th>\n",
       "      <th>전년도대비변화율(%)</th>\n",
       "    </tr>\n",
       "  </thead>\n",
       "  <tbody>\n",
       "    <tr>\n",
       "      <th>0</th>\n",
       "      <td>가평군</td>\n",
       "      <td>2021</td>\n",
       "      <td>1709018.0</td>\n",
       "      <td>NaN</td>\n",
       "    </tr>\n",
       "    <tr>\n",
       "      <th>3</th>\n",
       "      <td>고양시</td>\n",
       "      <td>2021</td>\n",
       "      <td>22776329.0</td>\n",
       "      <td>1232.71</td>\n",
       "    </tr>\n",
       "    <tr>\n",
       "      <th>6</th>\n",
       "      <td>과천시</td>\n",
       "      <td>2021</td>\n",
       "      <td>3499016.0</td>\n",
       "      <td>-84.64</td>\n",
       "    </tr>\n",
       "    <tr>\n",
       "      <th>9</th>\n",
       "      <td>광명시</td>\n",
       "      <td>2021</td>\n",
       "      <td>10231984.0</td>\n",
       "      <td>192.42</td>\n",
       "    </tr>\n",
       "    <tr>\n",
       "      <th>12</th>\n",
       "      <td>광주시</td>\n",
       "      <td>2021</td>\n",
       "      <td>16970792.0</td>\n",
       "      <td>65.86</td>\n",
       "    </tr>\n",
       "    <tr>\n",
       "      <th>...</th>\n",
       "      <td>...</td>\n",
       "      <td>...</td>\n",
       "      <td>...</td>\n",
       "      <td>...</td>\n",
       "    </tr>\n",
       "    <tr>\n",
       "      <th>80</th>\n",
       "      <td>파주시</td>\n",
       "      <td>2023</td>\n",
       "      <td>21181600.0</td>\n",
       "      <td>63.35</td>\n",
       "    </tr>\n",
       "    <tr>\n",
       "      <th>83</th>\n",
       "      <td>평택시</td>\n",
       "      <td>2023</td>\n",
       "      <td>19989300.0</td>\n",
       "      <td>-5.63</td>\n",
       "    </tr>\n",
       "    <tr>\n",
       "      <th>86</th>\n",
       "      <td>포천시</td>\n",
       "      <td>2023</td>\n",
       "      <td>2962800.0</td>\n",
       "      <td>-85.18</td>\n",
       "    </tr>\n",
       "    <tr>\n",
       "      <th>89</th>\n",
       "      <td>하남시</td>\n",
       "      <td>2023</td>\n",
       "      <td>14616600.0</td>\n",
       "      <td>393.34</td>\n",
       "    </tr>\n",
       "    <tr>\n",
       "      <th>92</th>\n",
       "      <td>화성시</td>\n",
       "      <td>2023</td>\n",
       "      <td>41837000.0</td>\n",
       "      <td>186.23</td>\n",
       "    </tr>\n",
       "  </tbody>\n",
       "</table>\n",
       "<p>93 rows × 4 columns</p>\n",
       "</div>"
      ],
      "text/plain": [
       "    시군명  기준연도    totalPay  전년도대비변화율(%)\n",
       "0   가평군  2021   1709018.0          NaN\n",
       "3   고양시  2021  22776329.0      1232.71\n",
       "6   과천시  2021   3499016.0       -84.64\n",
       "9   광명시  2021  10231984.0       192.42\n",
       "12  광주시  2021  16970792.0        65.86\n",
       "..  ...   ...         ...          ...\n",
       "80  파주시  2023  21181600.0        63.35\n",
       "83  평택시  2023  19989300.0        -5.63\n",
       "86  포천시  2023   2962800.0       -85.18\n",
       "89  하남시  2023  14616600.0       393.34\n",
       "92  화성시  2023  41837000.0       186.23\n",
       "\n",
       "[93 rows x 4 columns]"
      ]
     },
     "execution_count": 57,
     "metadata": {},
     "output_type": "execute_result"
    }
   ],
   "source": [
    "df_group1_totalPay"
   ]
  },
  {
   "cell_type": "code",
   "execution_count": 55,
   "metadata": {},
   "outputs": [
    {
     "data": {
      "text/plain": [
       "<pandas.core.groupby.generic.DataFrameGroupBy object at 0x000001AF3A93B460>"
      ]
     },
     "execution_count": 55,
     "metadata": {},
     "output_type": "execute_result"
    }
   ],
   "source": [
    "df_group1_totalPay.groupby('시군명')"
   ]
  },
  {
   "cell_type": "code",
   "execution_count": 56,
   "metadata": {},
   "outputs": [
    {
     "data": {
      "text/html": [
       "<div>\n",
       "<style scoped>\n",
       "    .dataframe tbody tr th:only-of-type {\n",
       "        vertical-align: middle;\n",
       "    }\n",
       "\n",
       "    .dataframe tbody tr th {\n",
       "        vertical-align: top;\n",
       "    }\n",
       "\n",
       "    .dataframe thead th {\n",
       "        text-align: right;\n",
       "    }\n",
       "</style>\n",
       "<table border=\"1\" class=\"dataframe\">\n",
       "  <thead>\n",
       "    <tr style=\"text-align: right;\">\n",
       "      <th></th>\n",
       "      <th>시군명</th>\n",
       "      <th>기준연도</th>\n",
       "      <th>totalPay</th>\n",
       "      <th>전년도대비변화율(%)</th>\n",
       "    </tr>\n",
       "  </thead>\n",
       "  <tbody>\n",
       "    <tr>\n",
       "      <th>0</th>\n",
       "      <td>가평군</td>\n",
       "      <td>2021</td>\n",
       "      <td>1709018.0</td>\n",
       "      <td>NaN</td>\n",
       "    </tr>\n",
       "    <tr>\n",
       "      <th>3</th>\n",
       "      <td>고양시</td>\n",
       "      <td>2021</td>\n",
       "      <td>22776329.0</td>\n",
       "      <td>1232.71</td>\n",
       "    </tr>\n",
       "    <tr>\n",
       "      <th>6</th>\n",
       "      <td>과천시</td>\n",
       "      <td>2021</td>\n",
       "      <td>3499016.0</td>\n",
       "      <td>-84.64</td>\n",
       "    </tr>\n",
       "    <tr>\n",
       "      <th>9</th>\n",
       "      <td>광명시</td>\n",
       "      <td>2021</td>\n",
       "      <td>10231984.0</td>\n",
       "      <td>192.42</td>\n",
       "    </tr>\n",
       "    <tr>\n",
       "      <th>12</th>\n",
       "      <td>광주시</td>\n",
       "      <td>2021</td>\n",
       "      <td>16970792.0</td>\n",
       "      <td>65.86</td>\n",
       "    </tr>\n",
       "    <tr>\n",
       "      <th>...</th>\n",
       "      <td>...</td>\n",
       "      <td>...</td>\n",
       "      <td>...</td>\n",
       "      <td>...</td>\n",
       "    </tr>\n",
       "    <tr>\n",
       "      <th>80</th>\n",
       "      <td>파주시</td>\n",
       "      <td>2023</td>\n",
       "      <td>21181600.0</td>\n",
       "      <td>63.35</td>\n",
       "    </tr>\n",
       "    <tr>\n",
       "      <th>83</th>\n",
       "      <td>평택시</td>\n",
       "      <td>2023</td>\n",
       "      <td>19989300.0</td>\n",
       "      <td>-5.63</td>\n",
       "    </tr>\n",
       "    <tr>\n",
       "      <th>86</th>\n",
       "      <td>포천시</td>\n",
       "      <td>2023</td>\n",
       "      <td>2962800.0</td>\n",
       "      <td>-85.18</td>\n",
       "    </tr>\n",
       "    <tr>\n",
       "      <th>89</th>\n",
       "      <td>하남시</td>\n",
       "      <td>2023</td>\n",
       "      <td>14616600.0</td>\n",
       "      <td>393.34</td>\n",
       "    </tr>\n",
       "    <tr>\n",
       "      <th>92</th>\n",
       "      <td>화성시</td>\n",
       "      <td>2023</td>\n",
       "      <td>41837000.0</td>\n",
       "      <td>186.23</td>\n",
       "    </tr>\n",
       "  </tbody>\n",
       "</table>\n",
       "<p>93 rows × 4 columns</p>\n",
       "</div>"
      ],
      "text/plain": [
       "    시군명  기준연도    totalPay  전년도대비변화율(%)\n",
       "0   가평군  2021   1709018.0          NaN\n",
       "3   고양시  2021  22776329.0      1232.71\n",
       "6   과천시  2021   3499016.0       -84.64\n",
       "9   광명시  2021  10231984.0       192.42\n",
       "12  광주시  2021  16970792.0        65.86\n",
       "..  ...   ...         ...          ...\n",
       "80  파주시  2023  21181600.0        63.35\n",
       "83  평택시  2023  19989300.0        -5.63\n",
       "86  포천시  2023   2962800.0       -85.18\n",
       "89  하남시  2023  14616600.0       393.34\n",
       "92  화성시  2023  41837000.0       186.23\n",
       "\n",
       "[93 rows x 4 columns]"
      ]
     },
     "execution_count": 56,
     "metadata": {},
     "output_type": "execute_result"
    }
   ],
   "source": [
    "df_group1_totalPay"
   ]
  },
  {
   "cell_type": "code",
   "execution_count": 51,
   "metadata": {},
   "outputs": [],
   "source": [
    "def calculate_change(group):\n",
    "    group['전년도대비변화율(%)'] = group['totalPay'].pct_change() * 100\n",
    "    return group\n"
   ]
  },
  {
   "cell_type": "code",
   "execution_count": 66,
   "metadata": {},
   "outputs": [],
   "source": [
    "# 각 시군별로 변화율 계산\n",
    "df_group1_11['전년도대비변화율(%)']=(df_group1_11['totalPay'].pct_change() * 100).round(2)\n",
    "\n",
    "# # 변화율 소수점 이하 두 자리로 표시\n",
    "# data['전년도대비변화율(%)'] = data['전년도대비변화율(%)'].round(2)\n",
    "\n",
    "# data\n"
   ]
  },
  {
   "cell_type": "code",
   "execution_count": 54,
   "metadata": {},
   "outputs": [
    {
     "data": {
      "text/html": [
       "<div>\n",
       "<style scoped>\n",
       "    .dataframe tbody tr th:only-of-type {\n",
       "        vertical-align: middle;\n",
       "    }\n",
       "\n",
       "    .dataframe tbody tr th {\n",
       "        vertical-align: top;\n",
       "    }\n",
       "\n",
       "    .dataframe thead th {\n",
       "        text-align: right;\n",
       "    }\n",
       "</style>\n",
       "<table border=\"1\" class=\"dataframe\">\n",
       "  <thead>\n",
       "    <tr style=\"text-align: right;\">\n",
       "      <th></th>\n",
       "      <th>시군명</th>\n",
       "      <th>기준연도</th>\n",
       "      <th>totalPay</th>\n",
       "      <th>전년도대비변화율(%)</th>\n",
       "    </tr>\n",
       "  </thead>\n",
       "  <tbody>\n",
       "    <tr>\n",
       "      <th>0</th>\n",
       "      <td>가평군</td>\n",
       "      <td>2021</td>\n",
       "      <td>1709018.0</td>\n",
       "      <td>NaN</td>\n",
       "    </tr>\n",
       "    <tr>\n",
       "      <th>3</th>\n",
       "      <td>고양시</td>\n",
       "      <td>2021</td>\n",
       "      <td>22776329.0</td>\n",
       "      <td>1232.71</td>\n",
       "    </tr>\n",
       "    <tr>\n",
       "      <th>6</th>\n",
       "      <td>과천시</td>\n",
       "      <td>2021</td>\n",
       "      <td>3499016.0</td>\n",
       "      <td>-84.64</td>\n",
       "    </tr>\n",
       "    <tr>\n",
       "      <th>9</th>\n",
       "      <td>광명시</td>\n",
       "      <td>2021</td>\n",
       "      <td>10231984.0</td>\n",
       "      <td>192.42</td>\n",
       "    </tr>\n",
       "    <tr>\n",
       "      <th>12</th>\n",
       "      <td>광주시</td>\n",
       "      <td>2021</td>\n",
       "      <td>16970792.0</td>\n",
       "      <td>65.86</td>\n",
       "    </tr>\n",
       "    <tr>\n",
       "      <th>...</th>\n",
       "      <td>...</td>\n",
       "      <td>...</td>\n",
       "      <td>...</td>\n",
       "      <td>...</td>\n",
       "    </tr>\n",
       "    <tr>\n",
       "      <th>80</th>\n",
       "      <td>파주시</td>\n",
       "      <td>2023</td>\n",
       "      <td>21181600.0</td>\n",
       "      <td>63.35</td>\n",
       "    </tr>\n",
       "    <tr>\n",
       "      <th>83</th>\n",
       "      <td>평택시</td>\n",
       "      <td>2023</td>\n",
       "      <td>19989300.0</td>\n",
       "      <td>-5.63</td>\n",
       "    </tr>\n",
       "    <tr>\n",
       "      <th>86</th>\n",
       "      <td>포천시</td>\n",
       "      <td>2023</td>\n",
       "      <td>2962800.0</td>\n",
       "      <td>-85.18</td>\n",
       "    </tr>\n",
       "    <tr>\n",
       "      <th>89</th>\n",
       "      <td>하남시</td>\n",
       "      <td>2023</td>\n",
       "      <td>14616600.0</td>\n",
       "      <td>393.34</td>\n",
       "    </tr>\n",
       "    <tr>\n",
       "      <th>92</th>\n",
       "      <td>화성시</td>\n",
       "      <td>2023</td>\n",
       "      <td>41837000.0</td>\n",
       "      <td>186.23</td>\n",
       "    </tr>\n",
       "  </tbody>\n",
       "</table>\n",
       "<p>93 rows × 4 columns</p>\n",
       "</div>"
      ],
      "text/plain": [
       "    시군명  기준연도    totalPay  전년도대비변화율(%)\n",
       "0   가평군  2021   1709018.0          NaN\n",
       "3   고양시  2021  22776329.0      1232.71\n",
       "6   과천시  2021   3499016.0       -84.64\n",
       "9   광명시  2021  10231984.0       192.42\n",
       "12  광주시  2021  16970792.0        65.86\n",
       "..  ...   ...         ...          ...\n",
       "80  파주시  2023  21181600.0        63.35\n",
       "83  평택시  2023  19989300.0        -5.63\n",
       "86  포천시  2023   2962800.0       -85.18\n",
       "89  하남시  2023  14616600.0       393.34\n",
       "92  화성시  2023  41837000.0       186.23\n",
       "\n",
       "[93 rows x 4 columns]"
      ]
     },
     "execution_count": 54,
     "metadata": {},
     "output_type": "execute_result"
    }
   ],
   "source": [
    "df_group1_totalPay"
   ]
  },
  {
   "cell_type": "markdown",
   "metadata": {},
   "source": []
  },
  {
   "cell_type": "code",
   "execution_count": 68,
   "metadata": {},
   "outputs": [
    {
     "name": "stderr",
     "output_type": "stream",
     "text": [
      "C:\\Users\\home\\AppData\\Local\\Temp\\ipykernel_11332\\1202317831.py:1: UserWarning: Boolean Series key will be reindexed to match DataFrame index.\n",
      "  df_group1_totalPay_2021=df_group1_11[df_group1_totalPay['기준연도']==2021]\n"
     ]
    },
    {
     "data": {
      "text/html": [
       "<div>\n",
       "<style scoped>\n",
       "    .dataframe tbody tr th:only-of-type {\n",
       "        vertical-align: middle;\n",
       "    }\n",
       "\n",
       "    .dataframe tbody tr th {\n",
       "        vertical-align: top;\n",
       "    }\n",
       "\n",
       "    .dataframe thead th {\n",
       "        text-align: right;\n",
       "    }\n",
       "</style>\n",
       "<table border=\"1\" class=\"dataframe\">\n",
       "  <thead>\n",
       "    <tr style=\"text-align: right;\">\n",
       "      <th></th>\n",
       "      <th>시군명</th>\n",
       "      <th>기준연도</th>\n",
       "      <th>totalPay</th>\n",
       "      <th>totalNewSubscribers</th>\n",
       "      <th>전년도대비변화율(%)</th>\n",
       "    </tr>\n",
       "  </thead>\n",
       "  <tbody>\n",
       "    <tr>\n",
       "      <th>90</th>\n",
       "      <td>화성시</td>\n",
       "      <td>2021</td>\n",
       "      <td>32995601.0</td>\n",
       "      <td>167965.0</td>\n",
       "      <td>-1.37</td>\n",
       "    </tr>\n",
       "    <tr>\n",
       "      <th>36</th>\n",
       "      <td>수원시</td>\n",
       "      <td>2021</td>\n",
       "      <td>32086696.0</td>\n",
       "      <td>238658.0</td>\n",
       "      <td>-0.43</td>\n",
       "    </tr>\n",
       "    <tr>\n",
       "      <th>66</th>\n",
       "      <td>용인시</td>\n",
       "      <td>2021</td>\n",
       "      <td>28349528.0</td>\n",
       "      <td>206404.0</td>\n",
       "      <td>-11.65</td>\n",
       "    </tr>\n",
       "    <tr>\n",
       "      <th>42</th>\n",
       "      <td>안산시</td>\n",
       "      <td>2021</td>\n",
       "      <td>25658275.0</td>\n",
       "      <td>151781.0</td>\n",
       "      <td>-2.82</td>\n",
       "    </tr>\n",
       "    <tr>\n",
       "      <th>30</th>\n",
       "      <td>부천시</td>\n",
       "      <td>2021</td>\n",
       "      <td>24694265.0</td>\n",
       "      <td>180770.0</td>\n",
       "      <td>-1.44</td>\n",
       "    </tr>\n",
       "  </tbody>\n",
       "</table>\n",
       "</div>"
      ],
      "text/plain": [
       "    시군명  기준연도    totalPay  totalNewSubscribers  전년도대비변화율(%)\n",
       "90  화성시  2021  32995601.0             167965.0        -1.37\n",
       "36  수원시  2021  32086696.0             238658.0        -0.43\n",
       "66  용인시  2021  28349528.0             206404.0       -11.65\n",
       "42  안산시  2021  25658275.0             151781.0        -2.82\n",
       "30  부천시  2021  24694265.0             180770.0        -1.44"
      ]
     },
     "execution_count": 68,
     "metadata": {},
     "output_type": "execute_result"
    }
   ],
   "source": [
    "df_group1_totalPay_2021=df_group1_11[df_group1_totalPay['기준연도']==2021]\n",
    "df_group1_totalPay_2021.head(5)"
   ]
  },
  {
   "cell_type": "code",
   "execution_count": 74,
   "metadata": {},
   "outputs": [
    {
     "name": "stderr",
     "output_type": "stream",
     "text": [
      "C:\\Users\\home\\AppData\\Local\\Temp\\ipykernel_11332\\1001965836.py:1: UserWarning: Boolean Series key will be reindexed to match DataFrame index.\n",
      "  df_group1_totalPay_2022=df_group1_11[df_group1_totalPay['기준연도']==2022].sort_values('totalNewSubscribers',inplace=True)\n",
      "C:\\Users\\home\\AppData\\Local\\Temp\\ipykernel_11332\\1001965836.py:1: SettingWithCopyWarning: \n",
      "A value is trying to be set on a copy of a slice from a DataFrame\n",
      "\n",
      "See the caveats in the documentation: https://pandas.pydata.org/pandas-docs/stable/user_guide/indexing.html#returning-a-view-versus-a-copy\n",
      "  df_group1_totalPay_2022=df_group1_11[df_group1_totalPay['기준연도']==2022].sort_values('totalNewSubscribers',inplace=True)\n"
     ]
    },
    {
     "ename": "AttributeError",
     "evalue": "'NoneType' object has no attribute 'head'",
     "output_type": "error",
     "traceback": [
      "\u001b[1;31m---------------------------------------------------------------------------\u001b[0m",
      "\u001b[1;31mAttributeError\u001b[0m                            Traceback (most recent call last)",
      "\u001b[1;32m~\\AppData\\Local\\Temp\\ipykernel_11332\\1001965836.py\u001b[0m in \u001b[0;36m<module>\u001b[1;34m\u001b[0m\n\u001b[0;32m      1\u001b[0m \u001b[0mdf_group1_totalPay_2022\u001b[0m\u001b[1;33m=\u001b[0m\u001b[0mdf_group1_11\u001b[0m\u001b[1;33m[\u001b[0m\u001b[0mdf_group1_totalPay\u001b[0m\u001b[1;33m[\u001b[0m\u001b[1;34m'기준연도'\u001b[0m\u001b[1;33m]\u001b[0m\u001b[1;33m==\u001b[0m\u001b[1;36m2022\u001b[0m\u001b[1;33m]\u001b[0m\u001b[1;33m.\u001b[0m\u001b[0msort_values\u001b[0m\u001b[1;33m(\u001b[0m\u001b[1;34m'totalNewSubscribers'\u001b[0m\u001b[1;33m,\u001b[0m\u001b[0minplace\u001b[0m\u001b[1;33m=\u001b[0m\u001b[1;32mTrue\u001b[0m\u001b[1;33m)\u001b[0m\u001b[1;33m\u001b[0m\u001b[1;33m\u001b[0m\u001b[0m\n\u001b[1;32m----> 2\u001b[1;33m \u001b[0mdf_group1_totalPay_2022\u001b[0m\u001b[1;33m.\u001b[0m\u001b[0mhead\u001b[0m\u001b[1;33m(\u001b[0m\u001b[1;36m5\u001b[0m\u001b[1;33m)\u001b[0m\u001b[1;33m\u001b[0m\u001b[1;33m\u001b[0m\u001b[0m\n\u001b[0m",
      "\u001b[1;31mAttributeError\u001b[0m: 'NoneType' object has no attribute 'head'"
     ]
    }
   ],
   "source": [
    "df_group1_totalPay_2022=df_group1_11[df_group1_totalPay['기준연도']==2022].sort_values('totalNewSubscribers',inplace=True)\n",
    "df_group1_totalPay_2022.head(5)"
   ]
  },
  {
   "cell_type": "code",
   "execution_count": 75,
   "metadata": {},
   "outputs": [
    {
     "ename": "AttributeError",
     "evalue": "'NoneType' object has no attribute 'sort_values'",
     "output_type": "error",
     "traceback": [
      "\u001b[1;31m---------------------------------------------------------------------------\u001b[0m",
      "\u001b[1;31mAttributeError\u001b[0m                            Traceback (most recent call last)",
      "\u001b[1;32m~\\AppData\\Local\\Temp\\ipykernel_11332\\1774087794.py\u001b[0m in \u001b[0;36m<module>\u001b[1;34m\u001b[0m\n\u001b[1;32m----> 1\u001b[1;33m \u001b[0mdf_group1_totalPay_2022\u001b[0m\u001b[1;33m.\u001b[0m\u001b[0msort_values\u001b[0m\u001b[1;33m(\u001b[0m\u001b[1;34m'totalNewSubscribers'\u001b[0m\u001b[1;33m,\u001b[0m\u001b[0minplace\u001b[0m\u001b[1;33m=\u001b[0m\u001b[1;32mTrue\u001b[0m\u001b[1;33m)\u001b[0m\u001b[1;33m\u001b[0m\u001b[1;33m\u001b[0m\u001b[0m\n\u001b[0m\u001b[0;32m      2\u001b[0m \u001b[0mdf_group1_totalPay_2022\u001b[0m\u001b[1;33m.\u001b[0m\u001b[0mhead\u001b[0m\u001b[1;33m(\u001b[0m\u001b[1;36m5\u001b[0m\u001b[1;33m)\u001b[0m\u001b[1;33m\u001b[0m\u001b[1;33m\u001b[0m\u001b[0m\n",
      "\u001b[1;31mAttributeError\u001b[0m: 'NoneType' object has no attribute 'sort_values'"
     ]
    }
   ],
   "source": [
    "df_group1_totalPay_2022.sort_values('totalNewSubscribers',inplace=True)\n",
    "df_group1_totalPay_2022.head(5)"
   ]
  },
  {
   "cell_type": "code",
   "execution_count": 71,
   "metadata": {},
   "outputs": [
    {
     "name": "stderr",
     "output_type": "stream",
     "text": [
      "C:\\Users\\home\\AppData\\Local\\Temp\\ipykernel_11332\\3458533081.py:1: UserWarning: Boolean Series key will be reindexed to match DataFrame index.\n",
      "  df_group1_totalPay_2023=df_group1_11[df_group1_totalPay['기준연도']==2023]\n"
     ]
    },
    {
     "data": {
      "text/html": [
       "<div>\n",
       "<style scoped>\n",
       "    .dataframe tbody tr th:only-of-type {\n",
       "        vertical-align: middle;\n",
       "    }\n",
       "\n",
       "    .dataframe tbody tr th {\n",
       "        vertical-align: top;\n",
       "    }\n",
       "\n",
       "    .dataframe thead th {\n",
       "        text-align: right;\n",
       "    }\n",
       "</style>\n",
       "<table border=\"1\" class=\"dataframe\">\n",
       "  <thead>\n",
       "    <tr style=\"text-align: right;\">\n",
       "      <th></th>\n",
       "      <th>시군명</th>\n",
       "      <th>기준연도</th>\n",
       "      <th>totalPay</th>\n",
       "      <th>totalNewSubscribers</th>\n",
       "      <th>전년도대비변화율(%)</th>\n",
       "    </tr>\n",
       "  </thead>\n",
       "  <tbody>\n",
       "    <tr>\n",
       "      <th>92</th>\n",
       "      <td>화성시</td>\n",
       "      <td>2023</td>\n",
       "      <td>41837000.0</td>\n",
       "      <td>90907.0</td>\n",
       "      <td>NaN</td>\n",
       "    </tr>\n",
       "    <tr>\n",
       "      <th>68</th>\n",
       "      <td>용인시</td>\n",
       "      <td>2023</td>\n",
       "      <td>33453000.0</td>\n",
       "      <td>79225.0</td>\n",
       "      <td>-2.60</td>\n",
       "    </tr>\n",
       "    <tr>\n",
       "      <th>35</th>\n",
       "      <td>성남시</td>\n",
       "      <td>2023</td>\n",
       "      <td>32920900.0</td>\n",
       "      <td>90012.0</td>\n",
       "      <td>-0.23</td>\n",
       "    </tr>\n",
       "    <tr>\n",
       "      <th>38</th>\n",
       "      <td>수원시</td>\n",
       "      <td>2023</td>\n",
       "      <td>32224400.0</td>\n",
       "      <td>83697.0</td>\n",
       "      <td>-0.73</td>\n",
       "    </tr>\n",
       "    <tr>\n",
       "      <th>41</th>\n",
       "      <td>시흥시</td>\n",
       "      <td>2023</td>\n",
       "      <td>26714100.0</td>\n",
       "      <td>38896.0</td>\n",
       "      <td>-0.83</td>\n",
       "    </tr>\n",
       "  </tbody>\n",
       "</table>\n",
       "</div>"
      ],
      "text/plain": [
       "    시군명  기준연도    totalPay  totalNewSubscribers  전년도대비변화율(%)\n",
       "92  화성시  2023  41837000.0              90907.0          NaN\n",
       "68  용인시  2023  33453000.0              79225.0        -2.60\n",
       "35  성남시  2023  32920900.0              90012.0        -0.23\n",
       "38  수원시  2023  32224400.0              83697.0        -0.73\n",
       "41  시흥시  2023  26714100.0              38896.0        -0.83"
      ]
     },
     "execution_count": 71,
     "metadata": {},
     "output_type": "execute_result"
    }
   ],
   "source": [
    "df_group1_totalPay_2023=df_group1_11[df_group1_totalPay['기준연도']==2023]\n",
    "df_group1_totalPay_2023.head(5)"
   ]
  },
  {
   "cell_type": "code",
   "execution_count": 73,
   "metadata": {},
   "outputs": [
    {
     "data": {
      "text/html": [
       "<div>\n",
       "<style scoped>\n",
       "    .dataframe tbody tr th:only-of-type {\n",
       "        vertical-align: middle;\n",
       "    }\n",
       "\n",
       "    .dataframe tbody tr th {\n",
       "        vertical-align: top;\n",
       "    }\n",
       "\n",
       "    .dataframe thead th {\n",
       "        text-align: right;\n",
       "    }\n",
       "</style>\n",
       "<table border=\"1\" class=\"dataframe\">\n",
       "  <thead>\n",
       "    <tr style=\"text-align: right;\">\n",
       "      <th></th>\n",
       "      <th>시군명</th>\n",
       "      <th>기준연도</th>\n",
       "      <th>totalPay</th>\n",
       "      <th>totalNewSubscribers</th>\n",
       "      <th>전년도대비변화율(%)</th>\n",
       "    </tr>\n",
       "  </thead>\n",
       "  <tbody>\n",
       "    <tr>\n",
       "      <th>7</th>\n",
       "      <td>과천시</td>\n",
       "      <td>2022</td>\n",
       "      <td>4890193.0</td>\n",
       "      <td>25607.0</td>\n",
       "      <td>-8.83</td>\n",
       "    </tr>\n",
       "    <tr>\n",
       "      <th>85</th>\n",
       "      <td>포천시</td>\n",
       "      <td>2022</td>\n",
       "      <td>4365777.0</td>\n",
       "      <td>15076.0</td>\n",
       "      <td>-10.52</td>\n",
       "    </tr>\n",
       "    <tr>\n",
       "      <th>1</th>\n",
       "      <td>가평군</td>\n",
       "      <td>2022</td>\n",
       "      <td>3729533.0</td>\n",
       "      <td>8291.0</td>\n",
       "      <td>-0.52</td>\n",
       "    </tr>\n",
       "    <tr>\n",
       "      <th>28</th>\n",
       "      <td>동두천시</td>\n",
       "      <td>2022</td>\n",
       "      <td>2940920.0</td>\n",
       "      <td>9691.0</td>\n",
       "      <td>-0.74</td>\n",
       "    </tr>\n",
       "    <tr>\n",
       "      <th>61</th>\n",
       "      <td>연천군</td>\n",
       "      <td>2022</td>\n",
       "      <td>2143581.0</td>\n",
       "      <td>7911.0</td>\n",
       "      <td>-5.97</td>\n",
       "    </tr>\n",
       "    <tr>\n",
       "      <th>22</th>\n",
       "      <td>김포시</td>\n",
       "      <td>2022</td>\n",
       "      <td>0.0</td>\n",
       "      <td>0.0</td>\n",
       "      <td>NaN</td>\n",
       "    </tr>\n",
       "    <tr>\n",
       "      <th>40</th>\n",
       "      <td>시흥시</td>\n",
       "      <td>2022</td>\n",
       "      <td>0.0</td>\n",
       "      <td>0.0</td>\n",
       "      <td>NaN</td>\n",
       "    </tr>\n",
       "  </tbody>\n",
       "</table>\n",
       "</div>"
      ],
      "text/plain": [
       "     시군명  기준연도   totalPay  totalNewSubscribers  전년도대비변화율(%)\n",
       "7    과천시  2022  4890193.0              25607.0        -8.83\n",
       "85   포천시  2022  4365777.0              15076.0       -10.52\n",
       "1    가평군  2022  3729533.0               8291.0        -0.52\n",
       "28  동두천시  2022  2940920.0               9691.0        -0.74\n",
       "61   연천군  2022  2143581.0               7911.0        -5.97\n",
       "22   김포시  2022        0.0                  0.0          NaN\n",
       "40   시흥시  2022        0.0                  0.0          NaN"
      ]
     },
     "execution_count": 73,
     "metadata": {},
     "output_type": "execute_result"
    }
   ],
   "source": [
    "df_group1_totalPay_2022.tail(7)"
   ]
  }
 ],
 "metadata": {
  "kernelspec": {
   "display_name": "base",
   "language": "python",
   "name": "python3"
  },
  "language_info": {
   "codemirror_mode": {
    "name": "ipython",
    "version": 3
   },
   "file_extension": ".py",
   "mimetype": "text/x-python",
   "name": "python",
   "nbconvert_exporter": "python",
   "pygments_lexer": "ipython3",
   "version": "3.9.13"
  }
 },
 "nbformat": 4,
 "nbformat_minor": 2
}
