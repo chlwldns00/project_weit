{
 "cells": [
  {
   "cell_type": "markdown",
   "metadata": {},
   "source": [
    "## 데이터불러오기"
   ]
  },
  {
   "cell_type": "code",
   "execution_count": 84,
   "metadata": {},
   "outputs": [],
   "source": [
    "import pandas as pd\n",
    "\n",
    "# Load the CSV files\n",
    "file1_path = 'Data/지역화폐발행및이용현황_2019~2022.csv'  \n",
    "\n",
    "file2_path = 'Data/지역화폐발행및이용현황_2023.csv'\n",
    "\n",
    "df_2022d = pd.read_csv(file1_path, encoding='euc-kr')\n",
    "df_2023 = pd.read_csv(file2_path, encoding='euc-kr')\n",
    "\n"
   ]
  },
  {
   "cell_type": "markdown",
   "metadata": {},
   "source": [
    "-----\n"
   ]
  },
  {
   "cell_type": "markdown",
   "metadata": {},
   "source": [
    "## 전처리"
   ]
  },
  {
   "cell_type": "markdown",
   "metadata": {},
   "source": [
    "### 1.데이터 확인"
   ]
  },
  {
   "cell_type": "code",
   "execution_count": 85,
   "metadata": {},
   "outputs": [
    {
     "data": {
      "text/plain": [
       "(1488, 5)"
      ]
     },
     "execution_count": 85,
     "metadata": {},
     "output_type": "execute_result"
    }
   ],
   "source": [
    "df_2022d.shape"
   ]
  },
  {
   "cell_type": "code",
   "execution_count": 86,
   "metadata": {},
   "outputs": [
    {
     "data": {
      "text/plain": [
       "(372, 5)"
      ]
     },
     "execution_count": 86,
     "metadata": {},
     "output_type": "execute_result"
    }
   ],
   "source": [
    "df_2023.shape"
   ]
  },
  {
   "cell_type": "code",
   "execution_count": 87,
   "metadata": {},
   "outputs": [
    {
     "data": {
      "text/html": [
       "<div>\n",
       "<style scoped>\n",
       "    .dataframe tbody tr th:only-of-type {\n",
       "        vertical-align: middle;\n",
       "    }\n",
       "\n",
       "    .dataframe tbody tr th {\n",
       "        vertical-align: top;\n",
       "    }\n",
       "\n",
       "    .dataframe thead th {\n",
       "        text-align: right;\n",
       "    }\n",
       "</style>\n",
       "<table border=\"1\" class=\"dataframe\">\n",
       "  <thead>\n",
       "    <tr style=\"text-align: right;\">\n",
       "      <th></th>\n",
       "      <th>시군명</th>\n",
       "      <th>기준년월</th>\n",
       "      <th>월별신규가입자수(명)</th>\n",
       "      <th>월별충전액(천원)</th>\n",
       "      <th>월별사용액(천원)</th>\n",
       "    </tr>\n",
       "  </thead>\n",
       "  <tbody>\n",
       "    <tr>\n",
       "      <th>0</th>\n",
       "      <td>가평군</td>\n",
       "      <td>2022-12</td>\n",
       "      <td>814.0</td>\n",
       "      <td>3600881.0</td>\n",
       "      <td>3996840.0</td>\n",
       "    </tr>\n",
       "    <tr>\n",
       "      <th>1</th>\n",
       "      <td>가평군</td>\n",
       "      <td>2022-11</td>\n",
       "      <td>701.0</td>\n",
       "      <td>4356413.0</td>\n",
       "      <td>3673972.0</td>\n",
       "    </tr>\n",
       "    <tr>\n",
       "      <th>2</th>\n",
       "      <td>가평군</td>\n",
       "      <td>2022-10</td>\n",
       "      <td>657.0</td>\n",
       "      <td>3205893.0</td>\n",
       "      <td>3586395.0</td>\n",
       "    </tr>\n",
       "    <tr>\n",
       "      <th>3</th>\n",
       "      <td>가평군</td>\n",
       "      <td>2022-09</td>\n",
       "      <td>832.0</td>\n",
       "      <td>4334836.0</td>\n",
       "      <td>3773560.0</td>\n",
       "    </tr>\n",
       "    <tr>\n",
       "      <th>4</th>\n",
       "      <td>가평군</td>\n",
       "      <td>2022-08</td>\n",
       "      <td>858.0</td>\n",
       "      <td>3091351.0</td>\n",
       "      <td>3600543.0</td>\n",
       "    </tr>\n",
       "  </tbody>\n",
       "</table>\n",
       "</div>"
      ],
      "text/plain": [
       "   시군명     기준년월  월별신규가입자수(명)  월별충전액(천원)  월별사용액(천원)\n",
       "0  가평군  2022-12        814.0  3600881.0  3996840.0\n",
       "1  가평군  2022-11        701.0  4356413.0  3673972.0\n",
       "2  가평군  2022-10        657.0  3205893.0  3586395.0\n",
       "3  가평군  2022-09        832.0  4334836.0  3773560.0\n",
       "4  가평군  2022-08        858.0  3091351.0  3600543.0"
      ]
     },
     "execution_count": 87,
     "metadata": {},
     "output_type": "execute_result"
    }
   ],
   "source": [
    "df_2022d.head()"
   ]
  },
  {
   "cell_type": "code",
   "execution_count": 88,
   "metadata": {},
   "outputs": [
    {
     "data": {
      "text/html": [
       "<div>\n",
       "<style scoped>\n",
       "    .dataframe tbody tr th:only-of-type {\n",
       "        vertical-align: middle;\n",
       "    }\n",
       "\n",
       "    .dataframe tbody tr th {\n",
       "        vertical-align: top;\n",
       "    }\n",
       "\n",
       "    .dataframe thead th {\n",
       "        text-align: right;\n",
       "    }\n",
       "</style>\n",
       "<table border=\"1\" class=\"dataframe\">\n",
       "  <thead>\n",
       "    <tr style=\"text-align: right;\">\n",
       "      <th></th>\n",
       "      <th>시군명</th>\n",
       "      <th>기준년월</th>\n",
       "      <th>월별신규가입자수(명)</th>\n",
       "      <th>월별충전액(백만원)</th>\n",
       "      <th>월별사용액(백만원)</th>\n",
       "    </tr>\n",
       "  </thead>\n",
       "  <tbody>\n",
       "    <tr>\n",
       "      <th>0</th>\n",
       "      <td>가평군</td>\n",
       "      <td>2023-12</td>\n",
       "      <td>484.0</td>\n",
       "      <td>4051</td>\n",
       "      <td>2140</td>\n",
       "    </tr>\n",
       "    <tr>\n",
       "      <th>1</th>\n",
       "      <td>가평군</td>\n",
       "      <td>2023-11</td>\n",
       "      <td>458.0</td>\n",
       "      <td>2368</td>\n",
       "      <td>2187</td>\n",
       "    </tr>\n",
       "    <tr>\n",
       "      <th>2</th>\n",
       "      <td>가평군</td>\n",
       "      <td>2023-10</td>\n",
       "      <td>555.0</td>\n",
       "      <td>2596</td>\n",
       "      <td>2335</td>\n",
       "    </tr>\n",
       "    <tr>\n",
       "      <th>3</th>\n",
       "      <td>가평군</td>\n",
       "      <td>2023-09</td>\n",
       "      <td>782.0</td>\n",
       "      <td>3113</td>\n",
       "      <td>2376</td>\n",
       "    </tr>\n",
       "    <tr>\n",
       "      <th>4</th>\n",
       "      <td>가평군</td>\n",
       "      <td>2023-08</td>\n",
       "      <td>473.0</td>\n",
       "      <td>3631</td>\n",
       "      <td>2392</td>\n",
       "    </tr>\n",
       "  </tbody>\n",
       "</table>\n",
       "</div>"
      ],
      "text/plain": [
       "   시군명     기준년월  월별신규가입자수(명)  월별충전액(백만원)  월별사용액(백만원)\n",
       "0  가평군  2023-12        484.0        4051        2140\n",
       "1  가평군  2023-11        458.0        2368        2187\n",
       "2  가평군  2023-10        555.0        2596        2335\n",
       "3  가평군  2023-09        782.0        3113        2376\n",
       "4  가평군  2023-08        473.0        3631        2392"
      ]
     },
     "execution_count": 88,
     "metadata": {},
     "output_type": "execute_result"
    }
   ],
   "source": [
    "df_2023.head()"
   ]
  },
  {
   "cell_type": "code",
   "execution_count": 89,
   "metadata": {},
   "outputs": [
    {
     "data": {
      "text/plain": [
       "31"
      ]
     },
     "execution_count": 89,
     "metadata": {},
     "output_type": "execute_result"
    }
   ],
   "source": [
    "len(df_2023['시군명'].unique())"
   ]
  },
  {
   "cell_type": "code",
   "execution_count": 90,
   "metadata": {},
   "outputs": [
    {
     "data": {
      "text/plain": [
       "시군명            0\n",
       "기준년월           0\n",
       "월별신규가입자수(명)    2\n",
       "월별충전액(백만원)     0\n",
       "월별사용액(백만원)     0\n",
       "dtype: int64"
      ]
     },
     "execution_count": 90,
     "metadata": {},
     "output_type": "execute_result"
    }
   ],
   "source": [
    "df_2023.isnull().sum()"
   ]
  },
  {
   "cell_type": "code",
   "execution_count": 91,
   "metadata": {},
   "outputs": [
    {
     "data": {
      "text/plain": [
       "시군명              0\n",
       "기준년월             0\n",
       "월별신규가입자수(명)    222\n",
       "월별충전액(천원)      181\n",
       "월별사용액(천원)      181\n",
       "dtype: int64"
      ]
     },
     "execution_count": 91,
     "metadata": {},
     "output_type": "execute_result"
    }
   ],
   "source": [
    "df_2022d.isnull().sum()"
   ]
  },
  {
   "cell_type": "markdown",
   "metadata": {},
   "source": [
    "- 결측지가 존재하지만 월별 충전금액을 비교분석해서 지표로 활용해야할수있기떄문에 제거는 하지않고, 최빈값이나 중앙값 평균값등으로 교체해야할것같다 **논의필용**"
   ]
  },
  {
   "cell_type": "markdown",
   "metadata": {},
   "source": [
    "### 2.2019년까지 있는 데이터를 2021년부터 2023년까지만 다루기위해 데이터 슬라이싱\n"
   ]
  },
  {
   "cell_type": "code",
   "execution_count": 92,
   "metadata": {},
   "outputs": [
    {
     "data": {
      "text/html": [
       "<div>\n",
       "<style scoped>\n",
       "    .dataframe tbody tr th:only-of-type {\n",
       "        vertical-align: middle;\n",
       "    }\n",
       "\n",
       "    .dataframe tbody tr th {\n",
       "        vertical-align: top;\n",
       "    }\n",
       "\n",
       "    .dataframe thead th {\n",
       "        text-align: right;\n",
       "    }\n",
       "</style>\n",
       "<table border=\"1\" class=\"dataframe\">\n",
       "  <thead>\n",
       "    <tr style=\"text-align: right;\">\n",
       "      <th></th>\n",
       "      <th>시군명</th>\n",
       "      <th>기준년월</th>\n",
       "      <th>월별신규가입자수(명)</th>\n",
       "      <th>월별충전액(천원)</th>\n",
       "      <th>월별사용액(천원)</th>\n",
       "    </tr>\n",
       "  </thead>\n",
       "  <tbody>\n",
       "    <tr>\n",
       "      <th>1459</th>\n",
       "      <td>화성시</td>\n",
       "      <td>2021-05</td>\n",
       "      <td>7615.0</td>\n",
       "      <td>26955815.0</td>\n",
       "      <td>27578227.0</td>\n",
       "    </tr>\n",
       "    <tr>\n",
       "      <th>1460</th>\n",
       "      <td>화성시</td>\n",
       "      <td>2021-04</td>\n",
       "      <td>23662.0</td>\n",
       "      <td>27897920.0</td>\n",
       "      <td>27898856.0</td>\n",
       "    </tr>\n",
       "    <tr>\n",
       "      <th>1461</th>\n",
       "      <td>화성시</td>\n",
       "      <td>2021-03</td>\n",
       "      <td>13378.0</td>\n",
       "      <td>18016255.0</td>\n",
       "      <td>20192514.0</td>\n",
       "    </tr>\n",
       "    <tr>\n",
       "      <th>1462</th>\n",
       "      <td>화성시</td>\n",
       "      <td>2021-02</td>\n",
       "      <td>23305.0</td>\n",
       "      <td>18016255.0</td>\n",
       "      <td>20192514.0</td>\n",
       "    </tr>\n",
       "    <tr>\n",
       "      <th>1463</th>\n",
       "      <td>화성시</td>\n",
       "      <td>2021-01</td>\n",
       "      <td>12936.0</td>\n",
       "      <td>32845088.0</td>\n",
       "      <td>31312763.0</td>\n",
       "    </tr>\n",
       "  </tbody>\n",
       "</table>\n",
       "</div>"
      ],
      "text/plain": [
       "      시군명     기준년월  월별신규가입자수(명)   월별충전액(천원)   월별사용액(천원)\n",
       "1459  화성시  2021-05       7615.0  26955815.0  27578227.0\n",
       "1460  화성시  2021-04      23662.0  27897920.0  27898856.0\n",
       "1461  화성시  2021-03      13378.0  18016255.0  20192514.0\n",
       "1462  화성시  2021-02      23305.0  18016255.0  20192514.0\n",
       "1463  화성시  2021-01      12936.0  32845088.0  31312763.0"
      ]
     },
     "execution_count": 92,
     "metadata": {},
     "output_type": "execute_result"
    }
   ],
   "source": [
    "df_2022d = df_2022d[df_2022d['기준년월'].str[:4].astype(int).between(2021, 2023)]\n",
    "\n",
    "df_2022d.tail()"
   ]
  },
  {
   "cell_type": "code",
   "execution_count": 93,
   "metadata": {},
   "outputs": [
    {
     "data": {
      "text/plain": [
       "(744, 5)"
      ]
     },
     "execution_count": 93,
     "metadata": {},
     "output_type": "execute_result"
    }
   ],
   "source": [
    "df_2022d.shape"
   ]
  },
  {
   "cell_type": "markdown",
   "metadata": {},
   "source": [
    "### 3.금액단위를 만원단위로 맞추기 => Data1,2에대한 통일성부여"
   ]
  },
  {
   "cell_type": "code",
   "execution_count": 94,
   "metadata": {},
   "outputs": [],
   "source": [
    "df_2022d['월별충전액(천원)']=round(df_2022d['월별충전액(천원)']/10) #반올림해서 소수점 제거\n"
   ]
  },
  {
   "cell_type": "code",
   "execution_count": 95,
   "metadata": {},
   "outputs": [],
   "source": [
    "df_2022d['월별사용액(천원)']=round(df_2022d['월별사용액(천원)']/10)"
   ]
  },
  {
   "cell_type": "code",
   "execution_count": null,
   "metadata": {},
   "outputs": [],
   "source": []
  },
  {
   "cell_type": "code",
   "execution_count": 96,
   "metadata": {},
   "outputs": [
    {
     "data": {
      "text/html": [
       "<div>\n",
       "<style scoped>\n",
       "    .dataframe tbody tr th:only-of-type {\n",
       "        vertical-align: middle;\n",
       "    }\n",
       "\n",
       "    .dataframe tbody tr th {\n",
       "        vertical-align: top;\n",
       "    }\n",
       "\n",
       "    .dataframe thead th {\n",
       "        text-align: right;\n",
       "    }\n",
       "</style>\n",
       "<table border=\"1\" class=\"dataframe\">\n",
       "  <thead>\n",
       "    <tr style=\"text-align: right;\">\n",
       "      <th></th>\n",
       "      <th>시군명</th>\n",
       "      <th>기준년월</th>\n",
       "      <th>월별신규가입자수(명)</th>\n",
       "      <th>월별충전액(천원)</th>\n",
       "      <th>월별사용액(천원)</th>\n",
       "    </tr>\n",
       "  </thead>\n",
       "  <tbody>\n",
       "    <tr>\n",
       "      <th>0</th>\n",
       "      <td>가평군</td>\n",
       "      <td>2022-12</td>\n",
       "      <td>814.0</td>\n",
       "      <td>360088.0</td>\n",
       "      <td>399684.0</td>\n",
       "    </tr>\n",
       "    <tr>\n",
       "      <th>1</th>\n",
       "      <td>가평군</td>\n",
       "      <td>2022-11</td>\n",
       "      <td>701.0</td>\n",
       "      <td>435641.0</td>\n",
       "      <td>367397.0</td>\n",
       "    </tr>\n",
       "    <tr>\n",
       "      <th>2</th>\n",
       "      <td>가평군</td>\n",
       "      <td>2022-10</td>\n",
       "      <td>657.0</td>\n",
       "      <td>320589.0</td>\n",
       "      <td>358640.0</td>\n",
       "    </tr>\n",
       "    <tr>\n",
       "      <th>3</th>\n",
       "      <td>가평군</td>\n",
       "      <td>2022-09</td>\n",
       "      <td>832.0</td>\n",
       "      <td>433484.0</td>\n",
       "      <td>377356.0</td>\n",
       "    </tr>\n",
       "    <tr>\n",
       "      <th>4</th>\n",
       "      <td>가평군</td>\n",
       "      <td>2022-08</td>\n",
       "      <td>858.0</td>\n",
       "      <td>309135.0</td>\n",
       "      <td>360054.0</td>\n",
       "    </tr>\n",
       "  </tbody>\n",
       "</table>\n",
       "</div>"
      ],
      "text/plain": [
       "   시군명     기준년월  월별신규가입자수(명)  월별충전액(천원)  월별사용액(천원)\n",
       "0  가평군  2022-12        814.0   360088.0   399684.0\n",
       "1  가평군  2022-11        701.0   435641.0   367397.0\n",
       "2  가평군  2022-10        657.0   320589.0   358640.0\n",
       "3  가평군  2022-09        832.0   433484.0   377356.0\n",
       "4  가평군  2022-08        858.0   309135.0   360054.0"
      ]
     },
     "execution_count": 96,
     "metadata": {},
     "output_type": "execute_result"
    }
   ],
   "source": [
    "df_2022d.head()"
   ]
  },
  {
   "cell_type": "code",
   "execution_count": 97,
   "metadata": {},
   "outputs": [],
   "source": [
    "df_2023['월별충전액(백만원)']=df_2023['월별충전액(백만원)']*100"
   ]
  },
  {
   "cell_type": "code",
   "execution_count": 98,
   "metadata": {},
   "outputs": [],
   "source": [
    "df_2023['월별사용액(백만원)']=df_2023['월별사용액(백만원)']*100"
   ]
  },
  {
   "cell_type": "code",
   "execution_count": 99,
   "metadata": {},
   "outputs": [
    {
     "data": {
      "text/html": [
       "<div>\n",
       "<style scoped>\n",
       "    .dataframe tbody tr th:only-of-type {\n",
       "        vertical-align: middle;\n",
       "    }\n",
       "\n",
       "    .dataframe tbody tr th {\n",
       "        vertical-align: top;\n",
       "    }\n",
       "\n",
       "    .dataframe thead th {\n",
       "        text-align: right;\n",
       "    }\n",
       "</style>\n",
       "<table border=\"1\" class=\"dataframe\">\n",
       "  <thead>\n",
       "    <tr style=\"text-align: right;\">\n",
       "      <th></th>\n",
       "      <th>시군명</th>\n",
       "      <th>기준년월</th>\n",
       "      <th>월별신규가입자수(명)</th>\n",
       "      <th>월별충전액(백만원)</th>\n",
       "      <th>월별사용액(백만원)</th>\n",
       "    </tr>\n",
       "  </thead>\n",
       "  <tbody>\n",
       "    <tr>\n",
       "      <th>0</th>\n",
       "      <td>가평군</td>\n",
       "      <td>2023-12</td>\n",
       "      <td>484.0</td>\n",
       "      <td>405100</td>\n",
       "      <td>214000</td>\n",
       "    </tr>\n",
       "    <tr>\n",
       "      <th>1</th>\n",
       "      <td>가평군</td>\n",
       "      <td>2023-11</td>\n",
       "      <td>458.0</td>\n",
       "      <td>236800</td>\n",
       "      <td>218700</td>\n",
       "    </tr>\n",
       "    <tr>\n",
       "      <th>2</th>\n",
       "      <td>가평군</td>\n",
       "      <td>2023-10</td>\n",
       "      <td>555.0</td>\n",
       "      <td>259600</td>\n",
       "      <td>233500</td>\n",
       "    </tr>\n",
       "    <tr>\n",
       "      <th>3</th>\n",
       "      <td>가평군</td>\n",
       "      <td>2023-09</td>\n",
       "      <td>782.0</td>\n",
       "      <td>311300</td>\n",
       "      <td>237600</td>\n",
       "    </tr>\n",
       "    <tr>\n",
       "      <th>4</th>\n",
       "      <td>가평군</td>\n",
       "      <td>2023-08</td>\n",
       "      <td>473.0</td>\n",
       "      <td>363100</td>\n",
       "      <td>239200</td>\n",
       "    </tr>\n",
       "  </tbody>\n",
       "</table>\n",
       "</div>"
      ],
      "text/plain": [
       "   시군명     기준년월  월별신규가입자수(명)  월별충전액(백만원)  월별사용액(백만원)\n",
       "0  가평군  2023-12        484.0      405100      214000\n",
       "1  가평군  2023-11        458.0      236800      218700\n",
       "2  가평군  2023-10        555.0      259600      233500\n",
       "3  가평군  2023-09        782.0      311300      237600\n",
       "4  가평군  2023-08        473.0      363100      239200"
      ]
     },
     "execution_count": 99,
     "metadata": {},
     "output_type": "execute_result"
    }
   ],
   "source": [
    "df_2023.head()"
   ]
  },
  {
   "cell_type": "markdown",
   "metadata": {},
   "source": [
    "### 4.데이터 concat"
   ]
  },
  {
   "cell_type": "markdown",
   "metadata": {},
   "source": [
    "- 데이터 컬럼이름 맞춰주기()"
   ]
  },
  {
   "cell_type": "code",
   "execution_count": 100,
   "metadata": {},
   "outputs": [],
   "source": [
    "df_2022d.columns=['시군명','기준년월','월별신규가입자수(명)','월별충전액(만원)','월별사용액(만원)']"
   ]
  },
  {
   "cell_type": "code",
   "execution_count": 101,
   "metadata": {},
   "outputs": [],
   "source": [
    "df_2023.columns=['시군명','기준년월','월별신규가입자수(명)','월별충전액(만원)','월별사용액(만원)']"
   ]
  },
  {
   "cell_type": "code",
   "execution_count": 102,
   "metadata": {},
   "outputs": [
    {
     "name": "stdout",
     "output_type": "stream",
     "text": [
      "(372, 5)\n",
      "(744, 5)\n"
     ]
    }
   ],
   "source": [
    "print(df_2023.shape)\n",
    "print(df_2022d.shape)"
   ]
  },
  {
   "cell_type": "code",
   "execution_count": 103,
   "metadata": {},
   "outputs": [
    {
     "data": {
      "text/html": [
       "<div>\n",
       "<style scoped>\n",
       "    .dataframe tbody tr th:only-of-type {\n",
       "        vertical-align: middle;\n",
       "    }\n",
       "\n",
       "    .dataframe tbody tr th {\n",
       "        vertical-align: top;\n",
       "    }\n",
       "\n",
       "    .dataframe thead th {\n",
       "        text-align: right;\n",
       "    }\n",
       "</style>\n",
       "<table border=\"1\" class=\"dataframe\">\n",
       "  <thead>\n",
       "    <tr style=\"text-align: right;\">\n",
       "      <th></th>\n",
       "      <th>시군명</th>\n",
       "      <th>기준년월</th>\n",
       "      <th>월별신규가입자수(명)</th>\n",
       "      <th>월별충전액(만원)</th>\n",
       "      <th>월별사용액(만원)</th>\n",
       "    </tr>\n",
       "  </thead>\n",
       "  <tbody>\n",
       "    <tr>\n",
       "      <th>1111</th>\n",
       "      <td>화성시</td>\n",
       "      <td>2021-05</td>\n",
       "      <td>7615.0</td>\n",
       "      <td>2695582.0</td>\n",
       "      <td>2757823.0</td>\n",
       "    </tr>\n",
       "    <tr>\n",
       "      <th>1112</th>\n",
       "      <td>화성시</td>\n",
       "      <td>2021-04</td>\n",
       "      <td>23662.0</td>\n",
       "      <td>2789792.0</td>\n",
       "      <td>2789886.0</td>\n",
       "    </tr>\n",
       "    <tr>\n",
       "      <th>1113</th>\n",
       "      <td>화성시</td>\n",
       "      <td>2021-03</td>\n",
       "      <td>13378.0</td>\n",
       "      <td>1801626.0</td>\n",
       "      <td>2019251.0</td>\n",
       "    </tr>\n",
       "    <tr>\n",
       "      <th>1114</th>\n",
       "      <td>화성시</td>\n",
       "      <td>2021-02</td>\n",
       "      <td>23305.0</td>\n",
       "      <td>1801626.0</td>\n",
       "      <td>2019251.0</td>\n",
       "    </tr>\n",
       "    <tr>\n",
       "      <th>1115</th>\n",
       "      <td>화성시</td>\n",
       "      <td>2021-01</td>\n",
       "      <td>12936.0</td>\n",
       "      <td>3284509.0</td>\n",
       "      <td>3131276.0</td>\n",
       "    </tr>\n",
       "  </tbody>\n",
       "</table>\n",
       "</div>"
      ],
      "text/plain": [
       "      시군명     기준년월  월별신규가입자수(명)  월별충전액(만원)  월별사용액(만원)\n",
       "1111  화성시  2021-05       7615.0  2695582.0  2757823.0\n",
       "1112  화성시  2021-04      23662.0  2789792.0  2789886.0\n",
       "1113  화성시  2021-03      13378.0  1801626.0  2019251.0\n",
       "1114  화성시  2021-02      23305.0  1801626.0  2019251.0\n",
       "1115  화성시  2021-01      12936.0  3284509.0  3131276.0"
      ]
     },
     "execution_count": 103,
     "metadata": {},
     "output_type": "execute_result"
    }
   ],
   "source": [
    "Data2=pd.concat([df_2023,df_2022d],ignore_index=True)\n",
    "Data2.to_csv('Data2.csv',index=False)\n",
    "Data2.tail()"
   ]
  },
  {
   "cell_type": "code",
   "execution_count": 104,
   "metadata": {},
   "outputs": [],
   "source": [
    "Data2['기준년월'] = pd.to_datetime(Data2['기준년월'])"
   ]
  },
  {
   "cell_type": "code",
   "execution_count": 105,
   "metadata": {},
   "outputs": [
    {
     "name": "stdout",
     "output_type": "stream",
     "text": [
      "<class 'pandas.core.frame.DataFrame'>\n",
      "RangeIndex: 1116 entries, 0 to 1115\n",
      "Data columns (total 5 columns):\n",
      " #   Column       Non-Null Count  Dtype         \n",
      "---  ------       --------------  -----         \n",
      " 0   시군명          1116 non-null   object        \n",
      " 1   기준년월         1116 non-null   datetime64[ns]\n",
      " 2   월별신규가입자수(명)  1042 non-null   float64       \n",
      " 3   월별충전액(만원)    1070 non-null   float64       \n",
      " 4   월별사용액(만원)    1070 non-null   float64       \n",
      "dtypes: datetime64[ns](1), float64(3), object(1)\n",
      "memory usage: 43.7+ KB\n"
     ]
    }
   ],
   "source": [
    "Data2.info()"
   ]
  },
  {
   "cell_type": "markdown",
   "metadata": {},
   "source": [
    "------\n",
    "## 시각화=>Tableau 대시보드 사용"
   ]
  },
  {
   "cell_type": "markdown",
   "metadata": {},
   "source": [
    "<h3>[시각화 추가]</h3>"
   ]
  },
  {
   "cell_type": "markdown",
   "metadata": {},
   "source": [
    "<h4>1.상위권 7개 시군 중 하나인 평택시 시각화<h4>"
   ]
  },
  {
   "cell_type": "code",
   "execution_count": 106,
   "metadata": {},
   "outputs": [
    {
     "data": {
      "image/png": "[encoded data removed]",
      "text/plain": [
       "<Figure size 1400x1000 with 3 Axes>"
      ]
     },
     "metadata": {},
     "output_type": "display_data"
    }
   ],
   "source": [
    "# 라이브러리 불러오기\n",
    "import pandas as pd\n",
    "import matplotlib.pyplot as plt\n",
    "plt.rcParams.update({'font.family' : 'Malgun Gothic'}) \n",
    "from matplotlib.ticker import ScalarFormatter\n",
    "\n",
    "# 평택시 데이터 필터링\n",
    "pyeongtaek_df = Data2[Data2['시군명'] == '평택시']\n",
    "\n",
    "# 데이터 시각화\n",
    "plt.figure(figsize=(14, 10))\n",
    "\n",
    "# 월별 신규 가입자 수 시각화\n",
    "plt.subplot(3, 1, 1)\n",
    "plt.plot(pyeongtaek_df['기준년월'], pyeongtaek_df['월별신규가입자수(명)'], marker='o')\n",
    "plt.title('평택시 월별 신규 가입자 수')\n",
    "plt.xlabel('기준년월')\n",
    "plt.ylabel('신규 가입자 수')\n",
    "\n",
    "# 월별 충전액 시각화\n",
    "plt.subplot(3, 1, 2)\n",
    "plt.plot(pyeongtaek_df['기준년월'], pyeongtaek_df['월별충전액(만원)'], marker='o', color='orange')\n",
    "plt.title('평택시 월별 충전액')\n",
    "plt.xlabel('기준년월')\n",
    "plt.ylabel('충전액')\n",
    "plt.gca().yaxis.set_major_formatter(ScalarFormatter(useOffset=False))\n",
    "plt.gca().yaxis.get_major_formatter().set_scientific(False)\n",
    "\n",
    "# 월별 사용액 시각화\n",
    "plt.subplot(3, 1, 3)\n",
    "plt.plot(pyeongtaek_df['기준년월'], pyeongtaek_df['월별사용액(만원)'], marker='o', color='green')\n",
    "plt.title('평택시 월별 사용액')\n",
    "plt.xlabel('기준년월')\n",
    "plt.ylabel('사용액')\n",
    "plt.gca().yaxis.set_major_formatter(ScalarFormatter(useOffset=False))\n",
    "plt.gca().yaxis.get_major_formatter().set_scientific(False)\n",
    "\n",
    "# 레이아웃 조정\n",
    "plt.tight_layout()\n",
    "plt.show()"
   ]
  },
  {
   "cell_type": "markdown",
   "metadata": {},
   "source": [
    "<h4>2.하위권 3개 시군 중 하나인 동두천시 시각화</h4>"
   ]
  },
  {
   "cell_type": "code",
   "execution_count": 107,
   "metadata": {},
   "outputs": [
    {
     "data": {
      "image/png": "[encoded data removed]",
      "text/plain": [
       "<Figure size 1400x1000 with 3 Axes>"
      ]
     },
     "metadata": {},
     "output_type": "display_data"
    }
   ],
   "source": [
    "# 동두천시 데이터 필터링\n",
    "dongducheon_df = Data2[Data2['시군명'] == '동두천시']\n",
    "\n",
    "# 데이터 시각화\n",
    "plt.figure(figsize=(14, 10))\n",
    "\n",
    "# 월별 신규 가입자 수 시각화\n",
    "plt.subplot(3, 1, 1)\n",
    "plt.plot(dongducheon_df['기준년월'], dongducheon_df['월별신규가입자수(명)'], marker='o')\n",
    "plt.title('동두천시 월별 신규 가입자 수')\n",
    "plt.xlabel('기준년월')\n",
    "plt.ylabel('신규 가입자 수')\n",
    "\n",
    "# 월별 충전액 시각화\n",
    "plt.subplot(3, 1, 2)\n",
    "plt.plot(dongducheon_df['기준년월'], dongducheon_df['월별충전액(만원)'], marker='o', color='orange')\n",
    "plt.title('동두천시 월별 충전액')\n",
    "plt.xlabel('기준년월')\n",
    "plt.ylabel('충전액')\n",
    "\n",
    "\n",
    "# 월별 사용액 시각화\n",
    "plt.subplot(3, 1, 3)\n",
    "plt.plot(dongducheon_df['기준년월'], dongducheon_df['월별사용액(만원)'], marker='o', color='green')\n",
    "plt.title('동두천시 월별 사용액')\n",
    "plt.xlabel('기준년월')\n",
    "plt.ylabel('사용액')\n",
    "\n",
    "# 레이아웃 조정\n",
    "plt.tight_layout()\n",
    "plt.show()"
   ]
  },
  {
   "cell_type": "markdown",
   "metadata": {},
   "source": [
    "### 총신규가입자수 추이 시각화\n"
   ]
  },
  {
   "cell_type": "code",
   "execution_count": 128,
   "metadata": {},
   "outputs": [],
   "source": [
    "Data2['기준연도']=Data2['기준년월'].dt.year\n",
    "df_group1_12 = Data2.groupby(['시군명', '기준연도'], as_index=False) \\\n",
    "              .agg(totalPay=('월별사용액(만원)', 'sum'), \n",
    "                   totalNewSubscribers=('월별신규가입자수(명)', 'sum')) \\\n",
    "             "
   ]
  },
  {
   "cell_type": "code",
   "execution_count": null,
   "metadata": {},
   "outputs": [],
   "source": [
    "df_group1_11['시군명']=='화성시'"
   ]
  },
  {
   "cell_type": "code",
   "execution_count": 131,
   "metadata": {},
   "outputs": [
    {
     "data": {
      "application/vnd.plotly.v1+json": {
       "config": {
        "plotlyServerURL": "https://plot.ly"
       },
       "data": [
        {
         "hovertemplate": "시군명=가평군<br>기준연도=%{x}<br>totalNewSubscribers=%{y}<extra></extra>",
         "legendgroup": "가평군",
         "line": {
          "color": "#636efa",
          "dash": "solid",
          "shape": "linear"
         },
         "marker": {
          "symbol": "circle"
         },
         "mode": "markers+lines",
         "name": "가평군",
         "orientation": "v",
         "showlegend": true,
         "type": "scatter",
         "x": [
          2021,
          2022,
          2023
         ],
         "xaxis": "x",
         "y": [
          13043,
          8291,
          10557
         ],
         "yaxis": "y"
        },
        {
         "hovertemplate": "시군명=고양시<br>기준연도=%{x}<br>totalNewSubscribers=%{y}<extra></extra>",
         "legendgroup": "고양시",
         "line": {
          "color": "#EF553B",
          "dash": "solid",
          "shape": "linear"
         },
         "marker": {
          "symbol": "circle"
         },
         "mode": "markers+lines",
         "name": "고양시",
         "orientation": "v",
         "showlegend": true,
         "type": "scatter",
         "x": [
          2021,
          2022,
          2023
         ],
         "xaxis": "x",
         "y": [
          201819,
          70179,
          45931
         ],
         "yaxis": "y"
        },
        {
         "hovertemplate": "시군명=과천시<br>기준연도=%{x}<br>totalNewSubscribers=%{y}<extra></extra>",
         "legendgroup": "과천시",
         "line": {
          "color": "#00cc96",
          "dash": "solid",
          "shape": "linear"
         },
         "marker": {
          "symbol": "circle"
         },
         "mode": "markers+lines",
         "name": "과천시",
         "orientation": "v",
         "showlegend": true,
         "type": "scatter",
         "x": [
          2021,
          2022,
          2023
         ],
         "xaxis": "x",
         "y": [
          20897,
          25607,
          8579
         ],
         "yaxis": "y"
        },
        {
         "hovertemplate": "시군명=광명시<br>기준연도=%{x}<br>totalNewSubscribers=%{y}<extra></extra>",
         "legendgroup": "광명시",
         "line": {
          "color": "#ab63fa",
          "dash": "solid",
          "shape": "linear"
         },
         "marker": {
          "symbol": "circle"
         },
         "mode": "markers+lines",
         "name": "광명시",
         "orientation": "v",
         "showlegend": true,
         "type": "scatter",
         "x": [
          2021,
          2022,
          2023
         ],
         "xaxis": "x",
         "y": [
          66295,
          27420,
          61939
         ],
         "yaxis": "y"
        },
        {
         "hovertemplate": "시군명=광주시<br>기준연도=%{x}<br>totalNewSubscribers=%{y}<extra></extra>",
         "legendgroup": "광주시",
         "line": {
          "color": "#FFA15A",
          "dash": "solid",
          "shape": "linear"
         },
         "marker": {
          "symbol": "circle"
         },
         "mode": "markers+lines",
         "name": "광주시",
         "orientation": "v",
         "showlegend": true,
         "type": "scatter",
         "x": [
          2021,
          2022,
          2023
         ],
         "xaxis": "x",
         "y": [
          158752,
          28816,
          22055
         ],
         "yaxis": "y"
        },
        {
         "hovertemplate": "시군명=구리시<br>기준연도=%{x}<br>totalNewSubscribers=%{y}<extra></extra>",
         "legendgroup": "구리시",
         "line": {
          "color": "#19d3f3",
          "dash": "solid",
          "shape": "linear"
         },
         "marker": {
          "symbol": "circle"
         },
         "mode": "markers+lines",
         "name": "구리시",
         "orientation": "v",
         "showlegend": true,
         "type": "scatter",
         "x": [
          2021,
          2022,
          2023
         ],
         "xaxis": "x",
         "y": [
          37405,
          44064,
          20052
         ],
         "yaxis": "y"
        },
        {
         "hovertemplate": "시군명=군포시<br>기준연도=%{x}<br>totalNewSubscribers=%{y}<extra></extra>",
         "legendgroup": "군포시",
         "line": {
          "color": "#FF6692",
          "dash": "solid",
          "shape": "linear"
         },
         "marker": {
          "symbol": "circle"
         },
         "mode": "markers+lines",
         "name": "군포시",
         "orientation": "v",
         "showlegend": true,
         "type": "scatter",
         "x": [
          2021,
          2022,
          2023
         ],
         "xaxis": "x",
         "y": [
          63821,
          30674,
          20431
         ],
         "yaxis": "y"
        },
        {
         "hovertemplate": "시군명=김포시<br>기준연도=%{x}<br>totalNewSubscribers=%{y}<extra></extra>",
         "legendgroup": "김포시",
         "line": {
          "color": "#B6E880",
          "dash": "solid",
          "shape": "linear"
         },
         "marker": {
          "symbol": "circle"
         },
         "mode": "markers+lines",
         "name": "김포시",
         "orientation": "v",
         "showlegend": true,
         "type": "scatter",
         "x": [
          2021,
          2022,
          2023
         ],
         "xaxis": "x",
         "y": [
          0,
          0,
          31164
         ],
         "yaxis": "y"
        },
        {
         "hovertemplate": "시군명=남양주시<br>기준연도=%{x}<br>totalNewSubscribers=%{y}<extra></extra>",
         "legendgroup": "남양주시",
         "line": {
          "color": "#FF97FF",
          "dash": "solid",
          "shape": "linear"
         },
         "marker": {
          "symbol": "circle"
         },
         "mode": "markers+lines",
         "name": "남양주시",
         "orientation": "v",
         "showlegend": true,
         "type": "scatter",
         "x": [
          2021,
          2022,
          2023
         ],
         "xaxis": "x",
         "y": [
          129478,
          54093,
          55411
         ],
         "yaxis": "y"
        },
        {
         "hovertemplate": "시군명=동두천시<br>기준연도=%{x}<br>totalNewSubscribers=%{y}<extra></extra>",
         "legendgroup": "동두천시",
         "line": {
          "color": "#FECB52",
          "dash": "solid",
          "shape": "linear"
         },
         "marker": {
          "symbol": "circle"
         },
         "mode": "markers+lines",
         "name": "동두천시",
         "orientation": "v",
         "showlegend": true,
         "type": "scatter",
         "x": [
          2021,
          2022,
          2023
         ],
         "xaxis": "x",
         "y": [
          19267,
          9691,
          5964
         ],
         "yaxis": "y"
        },
        {
         "hovertemplate": "시군명=부천시<br>기준연도=%{x}<br>totalNewSubscribers=%{y}<extra></extra>",
         "legendgroup": "부천시",
         "line": {
          "color": "#636efa",
          "dash": "solid",
          "shape": "linear"
         },
         "marker": {
          "symbol": "circle"
         },
         "mode": "markers+lines",
         "name": "부천시",
         "orientation": "v",
         "showlegend": true,
         "type": "scatter",
         "x": [
          2021,
          2022,
          2023
         ],
         "xaxis": "x",
         "y": [
          180770,
          62090,
          48938
         ],
         "yaxis": "y"
        },
        {
         "hovertemplate": "시군명=성남시<br>기준연도=%{x}<br>totalNewSubscribers=%{y}<extra></extra>",
         "legendgroup": "성남시",
         "line": {
          "color": "#EF553B",
          "dash": "solid",
          "shape": "linear"
         },
         "marker": {
          "symbol": "circle"
         },
         "mode": "markers+lines",
         "name": "성남시",
         "orientation": "v",
         "showlegend": true,
         "type": "scatter",
         "x": [
          2021,
          2022,
          2023
         ],
         "xaxis": "x",
         "y": [
          0,
          0,
          90012
         ],
         "yaxis": "y"
        },
        {
         "hovertemplate": "시군명=수원시<br>기준연도=%{x}<br>totalNewSubscribers=%{y}<extra></extra>",
         "legendgroup": "수원시",
         "line": {
          "color": "#00cc96",
          "dash": "solid",
          "shape": "linear"
         },
         "marker": {
          "symbol": "circle"
         },
         "mode": "markers+lines",
         "name": "수원시",
         "orientation": "v",
         "showlegend": true,
         "type": "scatter",
         "x": [
          2021,
          2022,
          2023
         ],
         "xaxis": "x",
         "y": [
          238658,
          98489,
          83697
         ],
         "yaxis": "y"
        },
        {
         "hovertemplate": "시군명=시흥시<br>기준연도=%{x}<br>totalNewSubscribers=%{y}<extra></extra>",
         "legendgroup": "시흥시",
         "line": {
          "color": "#ab63fa",
          "dash": "solid",
          "shape": "linear"
         },
         "marker": {
          "symbol": "circle"
         },
         "mode": "markers+lines",
         "name": "시흥시",
         "orientation": "v",
         "showlegend": true,
         "type": "scatter",
         "x": [
          2021,
          2022,
          2023
         ],
         "xaxis": "x",
         "y": [
          0,
          0,
          38896
         ],
         "yaxis": "y"
        },
        {
         "hovertemplate": "시군명=안산시<br>기준연도=%{x}<br>totalNewSubscribers=%{y}<extra></extra>",
         "legendgroup": "안산시",
         "line": {
          "color": "#FFA15A",
          "dash": "solid",
          "shape": "linear"
         },
         "marker": {
          "symbol": "circle"
         },
         "mode": "markers+lines",
         "name": "안산시",
         "orientation": "v",
         "showlegend": true,
         "type": "scatter",
         "x": [
          2021,
          2022,
          2023
         ],
         "xaxis": "x",
         "y": [
          151781,
          59864,
          35667
         ],
         "yaxis": "y"
        },
        {
         "hovertemplate": "시군명=안성시<br>기준연도=%{x}<br>totalNewSubscribers=%{y}<extra></extra>",
         "legendgroup": "안성시",
         "line": {
          "color": "#19d3f3",
          "dash": "solid",
          "shape": "linear"
         },
         "marker": {
          "symbol": "circle"
         },
         "mode": "markers+lines",
         "name": "안성시",
         "orientation": "v",
         "showlegend": true,
         "type": "scatter",
         "x": [
          2021,
          2022,
          2023
         ],
         "xaxis": "x",
         "y": [
          75732,
          15975,
          37475
         ],
         "yaxis": "y"
        },
        {
         "hovertemplate": "시군명=안양시<br>기준연도=%{x}<br>totalNewSubscribers=%{y}<extra></extra>",
         "legendgroup": "안양시",
         "line": {
          "color": "#FF6692",
          "dash": "solid",
          "shape": "linear"
         },
         "marker": {
          "symbol": "circle"
         },
         "mode": "markers+lines",
         "name": "안양시",
         "orientation": "v",
         "showlegend": true,
         "type": "scatter",
         "x": [
          2021,
          2022,
          2023
         ],
         "xaxis": "x",
         "y": [
          133984,
          60344,
          169450
         ],
         "yaxis": "y"
        },
        {
         "hovertemplate": "시군명=양주시<br>기준연도=%{x}<br>totalNewSubscribers=%{y}<extra></extra>",
         "legendgroup": "양주시",
         "line": {
          "color": "#B6E880",
          "dash": "solid",
          "shape": "linear"
         },
         "marker": {
          "symbol": "circle"
         },
         "mode": "markers+lines",
         "name": "양주시",
         "orientation": "v",
         "showlegend": true,
         "type": "scatter",
         "x": [
          2021,
          2022,
          2023
         ],
         "xaxis": "x",
         "y": [
          41953,
          18289,
          21129
         ],
         "yaxis": "y"
        },
        {
         "hovertemplate": "시군명=양평군<br>기준연도=%{x}<br>totalNewSubscribers=%{y}<extra></extra>",
         "legendgroup": "양평군",
         "line": {
          "color": "#FF97FF",
          "dash": "solid",
          "shape": "linear"
         },
         "marker": {
          "symbol": "circle"
         },
         "mode": "markers+lines",
         "name": "양평군",
         "orientation": "v",
         "showlegend": true,
         "type": "scatter",
         "x": [
          2021,
          2022,
          2023
         ],
         "xaxis": "x",
         "y": [
          30767,
          17991,
          13199
         ],
         "yaxis": "y"
        },
        {
         "hovertemplate": "시군명=여주시<br>기준연도=%{x}<br>totalNewSubscribers=%{y}<extra></extra>",
         "legendgroup": "여주시",
         "line": {
          "color": "#FECB52",
          "dash": "solid",
          "shape": "linear"
         },
         "marker": {
          "symbol": "circle"
         },
         "mode": "markers+lines",
         "name": "여주시",
         "orientation": "v",
         "showlegend": true,
         "type": "scatter",
         "x": [
          2021,
          2022,
          2023
         ],
         "xaxis": "x",
         "y": [
          24596,
          13128,
          10330
         ],
         "yaxis": "y"
        },
        {
         "hovertemplate": "시군명=연천군<br>기준연도=%{x}<br>totalNewSubscribers=%{y}<extra></extra>",
         "legendgroup": "연천군",
         "line": {
          "color": "#636efa",
          "dash": "solid",
          "shape": "linear"
         },
         "marker": {
          "symbol": "circle"
         },
         "mode": "markers+lines",
         "name": "연천군",
         "orientation": "v",
         "showlegend": true,
         "type": "scatter",
         "x": [
          2021,
          2022,
          2023
         ],
         "xaxis": "x",
         "y": [
          8394,
          7911,
          6553
         ],
         "yaxis": "y"
        },
        {
         "hovertemplate": "시군명=오산시<br>기준연도=%{x}<br>totalNewSubscribers=%{y}<extra></extra>",
         "legendgroup": "오산시",
         "line": {
          "color": "#EF553B",
          "dash": "solid",
          "shape": "linear"
         },
         "marker": {
          "symbol": "circle"
         },
         "mode": "markers+lines",
         "name": "오산시",
         "orientation": "v",
         "showlegend": true,
         "type": "scatter",
         "x": [
          2021,
          2022,
          2023
         ],
         "xaxis": "x",
         "y": [
          55571,
          19948,
          14725
         ],
         "yaxis": "y"
        },
        {
         "hovertemplate": "시군명=용인시<br>기준연도=%{x}<br>totalNewSubscribers=%{y}<extra></extra>",
         "legendgroup": "용인시",
         "line": {
          "color": "#00cc96",
          "dash": "solid",
          "shape": "linear"
         },
         "marker": {
          "symbol": "circle"
         },
         "mode": "markers+lines",
         "name": "용인시",
         "orientation": "v",
         "showlegend": true,
         "type": "scatter",
         "x": [
          2021,
          2022,
          2023
         ],
         "xaxis": "x",
         "y": [
          206404,
          88399,
          79225
         ],
         "yaxis": "y"
        },
        {
         "hovertemplate": "시군명=의왕시<br>기준연도=%{x}<br>totalNewSubscribers=%{y}<extra></extra>",
         "legendgroup": "의왕시",
         "line": {
          "color": "#ab63fa",
          "dash": "solid",
          "shape": "linear"
         },
         "marker": {
          "symbol": "circle"
         },
         "mode": "markers+lines",
         "name": "의왕시",
         "orientation": "v",
         "showlegend": true,
         "type": "scatter",
         "x": [
          2021,
          2022,
          2023
         ],
         "xaxis": "x",
         "y": [
          44749,
          22667,
          13142
         ],
         "yaxis": "y"
        },
        {
         "hovertemplate": "시군명=의정부시<br>기준연도=%{x}<br>totalNewSubscribers=%{y}<extra></extra>",
         "legendgroup": "의정부시",
         "line": {
          "color": "#FFA15A",
          "dash": "solid",
          "shape": "linear"
         },
         "marker": {
          "symbol": "circle"
         },
         "mode": "markers+lines",
         "name": "의정부시",
         "orientation": "v",
         "showlegend": true,
         "type": "scatter",
         "x": [
          2021,
          2022,
          2023
         ],
         "xaxis": "x",
         "y": [
          95127,
          34617,
          19815
         ],
         "yaxis": "y"
        },
        {
         "hovertemplate": "시군명=이천시<br>기준연도=%{x}<br>totalNewSubscribers=%{y}<extra></extra>",
         "legendgroup": "이천시",
         "line": {
          "color": "#19d3f3",
          "dash": "solid",
          "shape": "linear"
         },
         "marker": {
          "symbol": "circle"
         },
         "mode": "markers+lines",
         "name": "이천시",
         "orientation": "v",
         "showlegend": true,
         "type": "scatter",
         "x": [
          2021,
          2022,
          2023
         ],
         "xaxis": "x",
         "y": [
          108551,
          20412,
          17951
         ],
         "yaxis": "y"
        },
        {
         "hovertemplate": "시군명=파주시<br>기준연도=%{x}<br>totalNewSubscribers=%{y}<extra></extra>",
         "legendgroup": "파주시",
         "line": {
          "color": "#FF6692",
          "dash": "solid",
          "shape": "linear"
         },
         "marker": {
          "symbol": "circle"
         },
         "mode": "markers+lines",
         "name": "파주시",
         "orientation": "v",
         "showlegend": true,
         "type": "scatter",
         "x": [
          2021,
          2022,
          2023
         ],
         "xaxis": "x",
         "y": [
          109795,
          41804,
          108008
         ],
         "yaxis": "y"
        },
        {
         "hovertemplate": "시군명=평택시<br>기준연도=%{x}<br>totalNewSubscribers=%{y}<extra></extra>",
         "legendgroup": "평택시",
         "line": {
          "color": "#B6E880",
          "dash": "solid",
          "shape": "linear"
         },
         "marker": {
          "symbol": "circle"
         },
         "mode": "markers+lines",
         "name": "평택시",
         "orientation": "v",
         "showlegend": true,
         "type": "scatter",
         "x": [
          2021,
          2022,
          2023
         ],
         "xaxis": "x",
         "y": [
          147977,
          56475,
          110882
         ],
         "yaxis": "y"
        },
        {
         "hovertemplate": "시군명=포천시<br>기준연도=%{x}<br>totalNewSubscribers=%{y}<extra></extra>",
         "legendgroup": "포천시",
         "line": {
          "color": "#FF97FF",
          "dash": "solid",
          "shape": "linear"
         },
         "marker": {
          "symbol": "circle"
         },
         "mode": "markers+lines",
         "name": "포천시",
         "orientation": "v",
         "showlegend": true,
         "type": "scatter",
         "x": [
          2021,
          2022,
          2023
         ],
         "xaxis": "x",
         "y": [
          47737,
          15076,
          10285
         ],
         "yaxis": "y"
        },
        {
         "hovertemplate": "시군명=하남시<br>기준연도=%{x}<br>totalNewSubscribers=%{y}<extra></extra>",
         "legendgroup": "하남시",
         "line": {
          "color": "#FECB52",
          "dash": "solid",
          "shape": "linear"
         },
         "marker": {
          "symbol": "circle"
         },
         "mode": "markers+lines",
         "name": "하남시",
         "orientation": "v",
         "showlegend": true,
         "type": "scatter",
         "x": [
          2021,
          2022,
          2023
         ],
         "xaxis": "x",
         "y": [
          76534,
          46277,
          29096
         ],
         "yaxis": "y"
        },
        {
         "hovertemplate": "시군명=화성시<br>기준연도=%{x}<br>totalNewSubscribers=%{y}<extra></extra>",
         "legendgroup": "화성시",
         "line": {
          "color": "#636efa",
          "dash": "solid",
          "shape": "linear"
         },
         "marker": {
          "symbol": "circle"
         },
         "mode": "markers+lines",
         "name": "화성시",
         "orientation": "v",
         "showlegend": true,
         "type": "scatter",
         "x": [
          2021,
          2022,
          2023
         ],
         "xaxis": "x",
         "y": [
          167965,
          70123,
          90907
         ],
         "yaxis": "y"
        }
       ],
       "layout": {
        "legend": {
         "title": {
          "text": "시군명"
         },
         "tracegroupgap": 0
        },
        "template": {
         "data": {
          "bar": [
           {
            "error_x": {
             "color": "#2a3f5f"
            },
            "error_y": {
             "color": "#2a3f5f"
            },
            "marker": {
             "line": {
              "color": "white",
              "width": 0.5
             },
             "pattern": {
              "fillmode": "overlay",
              "size": 10,
              "solidity": 0.2
             }
            },
            "type": "bar"
           }
          ],
          "barpolar": [
           {
            "marker": {
             "line": {
              "color": "white",
              "width": 0.5
             },
             "pattern": {
              "fillmode": "overlay",
              "size": 10,
              "solidity": 0.2
             }
            },
            "type": "barpolar"
           }
          ],
          "carpet": [
           {
            "aaxis": {
             "endlinecolor": "#2a3f5f",
             "gridcolor": "#C8D4E3",
             "linecolor": "#C8D4E3",
             "minorgridcolor": "#C8D4E3",
             "startlinecolor": "#2a3f5f"
            },
            "baxis": {
             "endlinecolor": "#2a3f5f",
             "gridcolor": "#C8D4E3",
             "linecolor": "#C8D4E3",
             "minorgridcolor": "#C8D4E3",
             "startlinecolor": "#2a3f5f"
            },
            "type": "carpet"
           }
          ],
          "choropleth": [
           {
            "colorbar": {
             "outlinewidth": 0,
             "ticks": ""
            },
            "type": "choropleth"
           }
          ],
          "contour": [
           {
            "colorbar": {
             "outlinewidth": 0,
             "ticks": ""
            },
            "colorscale": [
             [
              0,
              "#0d0887"
             ],
             [
              0.1111111111111111,
              "#46039f"
             ],
             [
              0.2222222222222222,
              "#7201a8"
             ],
             [
              0.3333333333333333,
              "#9c179e"
             ],
             [
              0.4444444444444444,
              "#bd3786"
             ],
             [
              0.5555555555555556,
              "#d8576b"
             ],
             [
              0.6666666666666666,
              "#ed7953"
             ],
             [
              0.7777777777777778,
              "#fb9f3a"
             ],
             [
              0.8888888888888888,
              "#fdca26"
             ],
             [
              1,
              "#f0f921"
             ]
            ],
            "type": "contour"
           }
          ],
          "contourcarpet": [
           {
            "colorbar": {
             "outlinewidth": 0,
             "ticks": ""
            },
            "type": "contourcarpet"
           }
          ],
          "heatmap": [
           {
            "colorbar": {
             "outlinewidth": 0,
             "ticks": ""
            },
            "colorscale": [
             [
              0,
              "#0d0887"
             ],
             [
              0.1111111111111111,
              "#46039f"
             ],
             [
              0.2222222222222222,
              "#7201a8"
             ],
             [
              0.3333333333333333,
              "#9c179e"
             ],
             [
              0.4444444444444444,
              "#bd3786"
             ],
             [
              0.5555555555555556,
              "#d8576b"
             ],
             [
              0.6666666666666666,
              "#ed7953"
             ],
             [
              0.7777777777777778,
              "#fb9f3a"
             ],
             [
              0.8888888888888888,
              "#fdca26"
             ],
             [
              1,
              "#f0f921"
             ]
            ],
            "type": "heatmap"
           }
          ],
          "heatmapgl": [
           {
            "colorbar": {
             "outlinewidth": 0,
             "ticks": ""
            },
            "colorscale": [
             [
              0,
              "#0d0887"
             ],
             [
              0.1111111111111111,
              "#46039f"
             ],
             [
              0.2222222222222222,
              "#7201a8"
             ],
             [
              0.3333333333333333,
              "#9c179e"
             ],
             [
              0.4444444444444444,
              "#bd3786"
             ],
             [
              0.5555555555555556,
              "#d8576b"
             ],
             [
              0.6666666666666666,
              "#ed7953"
             ],
             [
              0.7777777777777778,
              "#fb9f3a"
             ],
             [
              0.8888888888888888,
              "#fdca26"
             ],
             [
              1,
              "#f0f921"
             ]
            ],
            "type": "heatmapgl"
           }
          ],
          "histogram": [
           {
            "marker": {
             "pattern": {
              "fillmode": "overlay",
              "size": 10,
              "solidity": 0.2
             }
            },
            "type": "histogram"
           }
          ],
          "histogram2d": [
           {
            "colorbar": {
             "outlinewidth": 0,
             "ticks": ""
            },
            "colorscale": [
             [
              0,
              "#0d0887"
             ],
             [
              0.1111111111111111,
              "#46039f"
             ],
             [
              0.2222222222222222,
              "#7201a8"
             ],
             [
              0.3333333333333333,
              "#9c179e"
             ],
             [
              0.4444444444444444,
              "#bd3786"
             ],
             [
              0.5555555555555556,
              "#d8576b"
             ],
             [
              0.6666666666666666,
              "#ed7953"
             ],
             [
              0.7777777777777778,
              "#fb9f3a"
             ],
             [
              0.8888888888888888,
              "#fdca26"
             ],
             [
              1,
              "#f0f921"
             ]
            ],
            "type": "histogram2d"
           }
          ],
          "histogram2dcontour": [
           {
            "colorbar": {
             "outlinewidth": 0,
             "ticks": ""
            },
            "colorscale": [
             [
              0,
              "#0d0887"
             ],
             [
              0.1111111111111111,
              "#46039f"
             ],
             [
              0.2222222222222222,
              "#7201a8"
             ],
             [
              0.3333333333333333,
              "#9c179e"
             ],
             [
              0.4444444444444444,
              "#bd3786"
             ],
             [
              0.5555555555555556,
              "#d8576b"
             ],
             [
              0.6666666666666666,
              "#ed7953"
             ],
             [
              0.7777777777777778,
              "#fb9f3a"
             ],
             [
              0.8888888888888888,
              "#fdca26"
             ],
             [
              1,
              "#f0f921"
             ]
            ],
            "type": "histogram2dcontour"
           }
          ],
          "mesh3d": [
           {
            "colorbar": {
             "outlinewidth": 0,
             "ticks": ""
            },
            "type": "mesh3d"
           }
          ],
          "parcoords": [
           {
            "line": {
             "colorbar": {
              "outlinewidth": 0,
              "ticks": ""
             }
            },
            "type": "parcoords"
           }
          ],
          "pie": [
           {
            "automargin": true,
            "type": "pie"
           }
          ],
          "scatter": [
           {
            "fillpattern": {
             "fillmode": "overlay",
             "size": 10,
             "solidity": 0.2
            },
            "type": "scatter"
           }
          ],
          "scatter3d": [
           {
            "line": {
             "colorbar": {
              "outlinewidth": 0,
              "ticks": ""
             }
            },
            "marker": {
             "colorbar": {
              "outlinewidth": 0,
              "ticks": ""
             }
            },
            "type": "scatter3d"
           }
          ],
          "scattercarpet": [
           {
            "marker": {
             "colorbar": {
              "outlinewidth": 0,
              "ticks": ""
             }
            },
            "type": "scattercarpet"
           }
          ],
          "scattergeo": [
           {
            "marker": {
             "colorbar": {
              "outlinewidth": 0,
              "ticks": ""
             }
            },
            "type": "scattergeo"
           }
          ],
          "scattergl": [
           {
            "marker": {
             "colorbar": {
              "outlinewidth": 0,
              "ticks": ""
             }
            },
            "type": "scattergl"
           }
          ],
          "scattermapbox": [
           {
            "marker": {
             "colorbar": {
              "outlinewidth": 0,
              "ticks": ""
             }
            },
            "type": "scattermapbox"
           }
          ],
          "scatterpolar": [
           {
            "marker": {
             "colorbar": {
              "outlinewidth": 0,
              "ticks": ""
             }
            },
            "type": "scatterpolar"
           }
          ],
          "scatterpolargl": [
           {
            "marker": {
             "colorbar": {
              "outlinewidth": 0,
              "ticks": ""
             }
            },
            "type": "scatterpolargl"
           }
          ],
          "scatterternary": [
           {
            "marker": {
             "colorbar": {
              "outlinewidth": 0,
              "ticks": ""
             }
            },
            "type": "scatterternary"
           }
          ],
          "surface": [
           {
            "colorbar": {
             "outlinewidth": 0,
             "ticks": ""
            },
            "colorscale": [
             [
              0,
              "#0d0887"
             ],
             [
              0.1111111111111111,
              "#46039f"
             ],
             [
              0.2222222222222222,
              "#7201a8"
             ],
             [
              0.3333333333333333,
              "#9c179e"
             ],
             [
              0.4444444444444444,
              "#bd3786"
             ],
             [
              0.5555555555555556,
              "#d8576b"
             ],
             [
              0.6666666666666666,
              "#ed7953"
             ],
             [
              0.7777777777777778,
              "#fb9f3a"
             ],
             [
              0.8888888888888888,
              "#fdca26"
             ],
             [
              1,
              "#f0f921"
             ]
            ],
            "type": "surface"
           }
          ],
          "table": [
           {
            "cells": {
             "fill": {
              "color": "#EBF0F8"
             },
             "line": {
              "color": "white"
             }
            },
            "header": {
             "fill": {
              "color": "#C8D4E3"
             },
             "line": {
              "color": "white"
             }
            },
            "type": "table"
           }
          ]
         },
         "layout": {
          "annotationdefaults": {
           "arrowcolor": "#2a3f5f",
           "arrowhead": 0,
           "arrowwidth": 1
          },
          "autotypenumbers": "strict",
          "coloraxis": {
           "colorbar": {
            "outlinewidth": 0,
            "ticks": ""
           }
          },
          "colorscale": {
           "diverging": [
            [
             0,
             "#8e0152"
            ],
            [
             0.1,
             "#c51b7d"
            ],
            [
             0.2,
             "#de77ae"
            ],
            [
             0.3,
             "#f1b6da"
            ],
            [
             0.4,
             "#fde0ef"
            ],
            [
             0.5,
             "#f7f7f7"
            ],
            [
             0.6,
             "#e6f5d0"
            ],
            [
             0.7,
             "#b8e186"
            ],
            [
             0.8,
             "#7fbc41"
            ],
            [
             0.9,
             "#4d9221"
            ],
            [
             1,
             "#276419"
            ]
           ],
           "sequential": [
            [
             0,
             "#0d0887"
            ],
            [
             0.1111111111111111,
             "#46039f"
            ],
            [
             0.2222222222222222,
             "#7201a8"
            ],
            [
             0.3333333333333333,
             "#9c179e"
            ],
            [
             0.4444444444444444,
             "#bd3786"
            ],
            [
             0.5555555555555556,
             "#d8576b"
            ],
            [
             0.6666666666666666,
             "#ed7953"
            ],
            [
             0.7777777777777778,
             "#fb9f3a"
            ],
            [
             0.8888888888888888,
             "#fdca26"
            ],
            [
             1,
             "#f0f921"
            ]
           ],
           "sequentialminus": [
            [
             0,
             "#0d0887"
            ],
            [
             0.1111111111111111,
             "#46039f"
            ],
            [
             0.2222222222222222,
             "#7201a8"
            ],
            [
             0.3333333333333333,
             "#9c179e"
            ],
            [
             0.4444444444444444,
             "#bd3786"
            ],
            [
             0.5555555555555556,
             "#d8576b"
            ],
            [
             0.6666666666666666,
             "#ed7953"
            ],
            [
             0.7777777777777778,
             "#fb9f3a"
            ],
            [
             0.8888888888888888,
             "#fdca26"
            ],
            [
             1,
             "#f0f921"
            ]
           ]
          },
          "colorway": [
           "#636efa",
           "#EF553B",
           "#00cc96",
           "#ab63fa",
           "#FFA15A",
           "#19d3f3",
           "#FF6692",
           "#B6E880",
           "#FF97FF",
           "#FECB52"
          ],
          "font": {
           "color": "#2a3f5f"
          },
          "geo": {
           "bgcolor": "white",
           "lakecolor": "white",
           "landcolor": "white",
           "showlakes": true,
           "showland": true,
           "subunitcolor": "#C8D4E3"
          },
          "hoverlabel": {
           "align": "left"
          },
          "hovermode": "closest",
          "mapbox": {
           "style": "light"
          },
          "paper_bgcolor": "white",
          "plot_bgcolor": "white",
          "polar": {
           "angularaxis": {
            "gridcolor": "#EBF0F8",
            "linecolor": "#EBF0F8",
            "ticks": ""
           },
           "bgcolor": "white",
           "radialaxis": {
            "gridcolor": "#EBF0F8",
            "linecolor": "#EBF0F8",
            "ticks": ""
           }
          },
          "scene": {
           "xaxis": {
            "backgroundcolor": "white",
            "gridcolor": "#DFE8F3",
            "gridwidth": 2,
            "linecolor": "#EBF0F8",
            "showbackground": true,
            "ticks": "",
            "zerolinecolor": "#EBF0F8"
           },
           "yaxis": {
            "backgroundcolor": "white",
            "gridcolor": "#DFE8F3",
            "gridwidth": 2,
            "linecolor": "#EBF0F8",
            "showbackground": true,
            "ticks": "",
            "zerolinecolor": "#EBF0F8"
           },
           "zaxis": {
            "backgroundcolor": "white",
            "gridcolor": "#DFE8F3",
            "gridwidth": 2,
            "linecolor": "#EBF0F8",
            "showbackground": true,
            "ticks": "",
            "zerolinecolor": "#EBF0F8"
           }
          },
          "shapedefaults": {
           "line": {
            "color": "#2a3f5f"
           }
          },
          "ternary": {
           "aaxis": {
            "gridcolor": "#DFE8F3",
            "linecolor": "#A2B1C6",
            "ticks": ""
           },
           "baxis": {
            "gridcolor": "#DFE8F3",
            "linecolor": "#A2B1C6",
            "ticks": ""
           },
           "bgcolor": "white",
           "caxis": {
            "gridcolor": "#DFE8F3",
            "linecolor": "#A2B1C6",
            "ticks": ""
           }
          },
          "title": {
           "x": 0.05
          },
          "xaxis": {
           "automargin": true,
           "gridcolor": "#EBF0F8",
           "linecolor": "#EBF0F8",
           "ticks": "",
           "title": {
            "standoff": 15
           },
           "zerolinecolor": "#EBF0F8",
           "zerolinewidth": 2
          },
          "yaxis": {
           "automargin": true,
           "gridcolor": "#EBF0F8",
           "linecolor": "#EBF0F8",
           "ticks": "",
           "title": {
            "standoff": 15
           },
           "zerolinecolor": "#EBF0F8",
           "zerolinewidth": 2
          }
         }
        },
        "title": {
         "text": "시군별 신규가입자수 추이"
        },
        "xaxis": {
         "anchor": "y",
         "domain": [
          0,
          1
         ],
         "tickvals": [
          2021,
          2023,
          2022
         ],
         "title": {
          "text": "기준연도"
         }
        },
        "yaxis": {
         "anchor": "x",
         "domain": [
          0,
          1
         ],
         "tickformat": ",",
         "title": {
          "text": "신규가입자수"
         }
        }
       }
      }
     },
     "metadata": {},
     "output_type": "display_data"
    }
   ],
   "source": [
    "import pandas as pd\n",
    "import seaborn as sns\n",
    "import matplotlib.pyplot as plt\n",
    "import plotly.express as px\n",
    "\n",
    "plt.rcParams.update({'font.family' : 'Malgun Gothic'}) \n",
    "from matplotlib.ticker import ScalarFormatter\n",
    "fig = px.line(data_frame=df_group1_12, x='기준연도', y='totalNewSubscribers', color='시군명', markers=True, line_shape='linear', title='시군별 신규가입자수 추이')\n",
    "fig.update_layout(\n",
    "    yaxis_tickformat=',',  # 천 단위 구분 기호를 추가\n",
    "    xaxis_title='기준연도',\n",
    "    yaxis_title='신규가입자수',\n",
    "    legend_title='시군명',\n",
    "    title='시군별 신규가입자수 추이',\n",
    "    template='plotly_white'\n",
    ")\n",
    "# X축 눈금 설정 (고유 기준연도 값으로 설정)\n",
    "fig.update_xaxes(tickvals=df_group1_11['기준연도'].unique())\n"
   ]
  },
  {
   "cell_type": "markdown",
   "metadata": {},
   "source": [
    "-------\n"
   ]
  },
  {
   "cell_type": "markdown",
   "metadata": {},
   "source": [
    "## 지표설정"
   ]
  },
  {
   "cell_type": "markdown",
   "metadata": {},
   "source": [
    "### Data 1,3과 달리 Data2는 각 시군별 각 월별 총결제금액과 사용금액이 나와있으므로 각 시군별 을 월별로 점진적으로 , 수치적으로 비교할수있는 지표로 활용하는게 좋을것같다."
   ]
  },
  {
   "cell_type": "markdown",
   "metadata": {},
   "source": [
    "- 전년도 대비 결제금액 증감 %으로 지표를 설정해보자"
   ]
  },
  {
   "cell_type": "markdown",
   "metadata": {},
   "source": [
    "- Data2 보다는 Data1이 년도 대비 비교가 편리할거같다"
   ]
  },
  {
   "cell_type": "code",
   "execution_count": null,
   "metadata": {},
   "outputs": [
    {
     "data": {
      "text/html": [
       "<div>\n",
       "<style scoped>\n",
       "    .dataframe tbody tr th:only-of-type {\n",
       "        vertical-align: middle;\n",
       "    }\n",
       "\n",
       "    .dataframe tbody tr th {\n",
       "        vertical-align: top;\n",
       "    }\n",
       "\n",
       "    .dataframe thead th {\n",
       "        text-align: right;\n",
       "    }\n",
       "</style>\n",
       "<table border=\"1\" class=\"dataframe\">\n",
       "  <thead>\n",
       "    <tr style=\"text-align: right;\">\n",
       "      <th></th>\n",
       "      <th>기준연도</th>\n",
       "      <th>시군명</th>\n",
       "      <th>연령대</th>\n",
       "      <th>성별</th>\n",
       "      <th>결제건수</th>\n",
       "      <th>결제금액</th>\n",
       "      <th>결제취소건수</th>\n",
       "      <th>결제취소금액</th>\n",
       "      <th>1회평균결제금액</th>\n",
       "    </tr>\n",
       "  </thead>\n",
       "  <tbody>\n",
       "    <tr>\n",
       "      <th>1498</th>\n",
       "      <td>2021</td>\n",
       "      <td>화성시</td>\n",
       "      <td>70대</td>\n",
       "      <td>남</td>\n",
       "      <td>93924</td>\n",
       "      <td>2.016729e+09</td>\n",
       "      <td>878.0</td>\n",
       "      <td>36744696.0</td>\n",
       "      <td>21472.0</td>\n",
       "    </tr>\n",
       "    <tr>\n",
       "      <th>1499</th>\n",
       "      <td>2021</td>\n",
       "      <td>화성시</td>\n",
       "      <td>70대</td>\n",
       "      <td>여</td>\n",
       "      <td>94936</td>\n",
       "      <td>2.113137e+09</td>\n",
       "      <td>948.0</td>\n",
       "      <td>31082093.0</td>\n",
       "      <td>22259.0</td>\n",
       "    </tr>\n",
       "    <tr>\n",
       "      <th>1500</th>\n",
       "      <td>2021</td>\n",
       "      <td>화성시</td>\n",
       "      <td>80대 이상</td>\n",
       "      <td>남</td>\n",
       "      <td>14820</td>\n",
       "      <td>2.960631e+08</td>\n",
       "      <td>128.0</td>\n",
       "      <td>3424209.0</td>\n",
       "      <td>19977.0</td>\n",
       "    </tr>\n",
       "    <tr>\n",
       "      <th>1501</th>\n",
       "      <td>2021</td>\n",
       "      <td>화성시</td>\n",
       "      <td>80대 이상</td>\n",
       "      <td>여</td>\n",
       "      <td>19625</td>\n",
       "      <td>4.419913e+08</td>\n",
       "      <td>191.0</td>\n",
       "      <td>6208072.0</td>\n",
       "      <td>22522.0</td>\n",
       "    </tr>\n",
       "    <tr>\n",
       "      <th>1502</th>\n",
       "      <td>2021</td>\n",
       "      <td>화성시</td>\n",
       "      <td>기타</td>\n",
       "      <td>-</td>\n",
       "      <td>1245634</td>\n",
       "      <td>2.980095e+10</td>\n",
       "      <td>11553.0</td>\n",
       "      <td>415381458.0</td>\n",
       "      <td>23924.0</td>\n",
       "    </tr>\n",
       "  </tbody>\n",
       "</table>\n",
       "</div>"
      ],
      "text/plain": [
       "      기준연도  시군명     연령대 성별     결제건수          결제금액   결제취소건수       결제취소금액  \\\n",
       "1498  2021  화성시     70대  남    93924  2.016729e+09    878.0   36744696.0   \n",
       "1499  2021  화성시     70대  여    94936  2.113137e+09    948.0   31082093.0   \n",
       "1500  2021  화성시  80대 이상  남    14820  2.960631e+08    128.0    3424209.0   \n",
       "1501  2021  화성시  80대 이상  여    19625  4.419913e+08    191.0    6208072.0   \n",
       "1502  2021  화성시      기타  -  1245634  2.980095e+10  11553.0  415381458.0   \n",
       "\n",
       "      1회평균결제금액  \n",
       "1498   21472.0  \n",
       "1499   22259.0  \n",
       "1500   19977.0  \n",
       "1501   22522.0  \n",
       "1502   23924.0  "
      ]
     },
     "execution_count": 23,
     "metadata": {},
     "output_type": "execute_result"
    }
   ],
   "source": [
    "import pandas as pd\n",
    "dff=pd.read_csv('Data/Data1_전쳐리.csv')\n",
    "dff.tail()"
   ]
  },
  {
   "cell_type": "markdown",
   "metadata": {},
   "source": []
  },
  {
   "cell_type": "markdown",
   "metadata": {},
   "source": [
    "### 주요컬럼들 시군별 년도별로 그룹바이해서 보기"
   ]
  },
  {
   "cell_type": "code",
   "execution_count": 117,
   "metadata": {},
   "outputs": [],
   "source": [
    "df_group1_11 = Data2.groupby(['시군명', '기준연도'], as_index=False) \\\n",
    "              .agg(totalPay=('월별사용액(만원)', 'sum'), \n",
    "                   totalNewSubscribers=('월별신규가입자수(명)', 'sum')) \\\n",
    "              .sort_values('totalNewSubscribers', ascending=False)"
   ]
  },
  {
   "cell_type": "code",
   "execution_count": 118,
   "metadata": {},
   "outputs": [
    {
     "data": {
      "text/html": [
       "<div>\n",
       "<style scoped>\n",
       "    .dataframe tbody tr th:only-of-type {\n",
       "        vertical-align: middle;\n",
       "    }\n",
       "\n",
       "    .dataframe tbody tr th {\n",
       "        vertical-align: top;\n",
       "    }\n",
       "\n",
       "    .dataframe thead th {\n",
       "        text-align: right;\n",
       "    }\n",
       "</style>\n",
       "<table border=\"1\" class=\"dataframe\">\n",
       "  <thead>\n",
       "    <tr style=\"text-align: right;\">\n",
       "      <th></th>\n",
       "      <th>시군명</th>\n",
       "      <th>기준연도</th>\n",
       "      <th>totalPay</th>\n",
       "      <th>totalNewSubscribers</th>\n",
       "    </tr>\n",
       "  </thead>\n",
       "  <tbody>\n",
       "    <tr>\n",
       "      <th>36</th>\n",
       "      <td>수원시</td>\n",
       "      <td>2021</td>\n",
       "      <td>32086696.0</td>\n",
       "      <td>238658.0</td>\n",
       "    </tr>\n",
       "    <tr>\n",
       "      <th>66</th>\n",
       "      <td>용인시</td>\n",
       "      <td>2021</td>\n",
       "      <td>28349528.0</td>\n",
       "      <td>206404.0</td>\n",
       "    </tr>\n",
       "    <tr>\n",
       "      <th>3</th>\n",
       "      <td>고양시</td>\n",
       "      <td>2021</td>\n",
       "      <td>22776329.0</td>\n",
       "      <td>201819.0</td>\n",
       "    </tr>\n",
       "    <tr>\n",
       "      <th>30</th>\n",
       "      <td>부천시</td>\n",
       "      <td>2021</td>\n",
       "      <td>24694265.0</td>\n",
       "      <td>180770.0</td>\n",
       "    </tr>\n",
       "    <tr>\n",
       "      <th>50</th>\n",
       "      <td>안양시</td>\n",
       "      <td>2023</td>\n",
       "      <td>26560800.0</td>\n",
       "      <td>169450.0</td>\n",
       "    </tr>\n",
       "    <tr>\n",
       "      <th>...</th>\n",
       "      <td>...</td>\n",
       "      <td>...</td>\n",
       "      <td>...</td>\n",
       "      <td>...</td>\n",
       "    </tr>\n",
       "    <tr>\n",
       "      <th>39</th>\n",
       "      <td>시흥시</td>\n",
       "      <td>2021</td>\n",
       "      <td>0.0</td>\n",
       "      <td>0.0</td>\n",
       "    </tr>\n",
       "    <tr>\n",
       "      <th>33</th>\n",
       "      <td>성남시</td>\n",
       "      <td>2021</td>\n",
       "      <td>6597537.0</td>\n",
       "      <td>0.0</td>\n",
       "    </tr>\n",
       "    <tr>\n",
       "      <th>22</th>\n",
       "      <td>김포시</td>\n",
       "      <td>2022</td>\n",
       "      <td>0.0</td>\n",
       "      <td>0.0</td>\n",
       "    </tr>\n",
       "    <tr>\n",
       "      <th>21</th>\n",
       "      <td>김포시</td>\n",
       "      <td>2021</td>\n",
       "      <td>0.0</td>\n",
       "      <td>0.0</td>\n",
       "    </tr>\n",
       "    <tr>\n",
       "      <th>34</th>\n",
       "      <td>성남시</td>\n",
       "      <td>2022</td>\n",
       "      <td>7261983.0</td>\n",
       "      <td>0.0</td>\n",
       "    </tr>\n",
       "  </tbody>\n",
       "</table>\n",
       "<p>93 rows × 4 columns</p>\n",
       "</div>"
      ],
      "text/plain": [
       "    시군명  기준연도    totalPay  totalNewSubscribers\n",
       "36  수원시  2021  32086696.0             238658.0\n",
       "66  용인시  2021  28349528.0             206404.0\n",
       "3   고양시  2021  22776329.0             201819.0\n",
       "30  부천시  2021  24694265.0             180770.0\n",
       "50  안양시  2023  26560800.0             169450.0\n",
       "..  ...   ...         ...                  ...\n",
       "39  시흥시  2021         0.0                  0.0\n",
       "33  성남시  2021   6597537.0                  0.0\n",
       "22  김포시  2022         0.0                  0.0\n",
       "21  김포시  2021         0.0                  0.0\n",
       "34  성남시  2022   7261983.0                  0.0\n",
       "\n",
       "[93 rows x 4 columns]"
      ]
     },
     "execution_count": 118,
     "metadata": {},
     "output_type": "execute_result"
    }
   ],
   "source": [
    "df_group1_11"
   ]
  },
  {
   "cell_type": "code",
   "execution_count": 114,
   "metadata": {},
   "outputs": [],
   "source": [
    "def calculate_change(group):\n",
    "    group['전년도대비변화율(%)'] = group['totalPay'].pct_change() * 100\n",
    "    return group\n"
   ]
  },
  {
   "cell_type": "code",
   "execution_count": 124,
   "metadata": {},
   "outputs": [],
   "source": [
    "# 각 시군별로 변화율 계산\n",
    "df_group1_11['전년도대비변화율(%)']=(df_group1_11['totalPay'].pct_change() * 100).round(2)\n",
    "\n",
    "# # 변화율 소수점 이하 두 자리로 표시\n",
    "# data['전년도대비변화율(%)'] = data['전년도대비변화율(%)'].round(2)\n",
    "\n",
    "# data\n"
   ]
  },
  {
   "cell_type": "code",
   "execution_count": 125,
   "metadata": {},
   "outputs": [
    {
     "data": {
      "text/html": [
       "<div>\n",
       "<style scoped>\n",
       "    .dataframe tbody tr th:only-of-type {\n",
       "        vertical-align: middle;\n",
       "    }\n",
       "\n",
       "    .dataframe tbody tr th {\n",
       "        vertical-align: top;\n",
       "    }\n",
       "\n",
       "    .dataframe thead th {\n",
       "        text-align: right;\n",
       "    }\n",
       "</style>\n",
       "<table border=\"1\" class=\"dataframe\">\n",
       "  <thead>\n",
       "    <tr style=\"text-align: right;\">\n",
       "      <th></th>\n",
       "      <th>시군명</th>\n",
       "      <th>기준연도</th>\n",
       "      <th>totalPay</th>\n",
       "      <th>totalNewSubscribers</th>\n",
       "      <th>전년도대비변화율(%)</th>\n",
       "    </tr>\n",
       "  </thead>\n",
       "  <tbody>\n",
       "    <tr>\n",
       "      <th>36</th>\n",
       "      <td>수원시</td>\n",
       "      <td>2021</td>\n",
       "      <td>32086696.0</td>\n",
       "      <td>238658.0</td>\n",
       "      <td>NaN</td>\n",
       "    </tr>\n",
       "    <tr>\n",
       "      <th>66</th>\n",
       "      <td>용인시</td>\n",
       "      <td>2021</td>\n",
       "      <td>28349528.0</td>\n",
       "      <td>206404.0</td>\n",
       "      <td>-11.65</td>\n",
       "    </tr>\n",
       "    <tr>\n",
       "      <th>3</th>\n",
       "      <td>고양시</td>\n",
       "      <td>2021</td>\n",
       "      <td>22776329.0</td>\n",
       "      <td>201819.0</td>\n",
       "      <td>-19.66</td>\n",
       "    </tr>\n",
       "    <tr>\n",
       "      <th>30</th>\n",
       "      <td>부천시</td>\n",
       "      <td>2021</td>\n",
       "      <td>24694265.0</td>\n",
       "      <td>180770.0</td>\n",
       "      <td>8.42</td>\n",
       "    </tr>\n",
       "    <tr>\n",
       "      <th>50</th>\n",
       "      <td>안양시</td>\n",
       "      <td>2023</td>\n",
       "      <td>26560800.0</td>\n",
       "      <td>169450.0</td>\n",
       "      <td>7.56</td>\n",
       "    </tr>\n",
       "    <tr>\n",
       "      <th>...</th>\n",
       "      <td>...</td>\n",
       "      <td>...</td>\n",
       "      <td>...</td>\n",
       "      <td>...</td>\n",
       "      <td>...</td>\n",
       "    </tr>\n",
       "    <tr>\n",
       "      <th>39</th>\n",
       "      <td>시흥시</td>\n",
       "      <td>2021</td>\n",
       "      <td>0.0</td>\n",
       "      <td>0.0</td>\n",
       "      <td>NaN</td>\n",
       "    </tr>\n",
       "    <tr>\n",
       "      <th>33</th>\n",
       "      <td>성남시</td>\n",
       "      <td>2021</td>\n",
       "      <td>6597537.0</td>\n",
       "      <td>0.0</td>\n",
       "      <td>inf</td>\n",
       "    </tr>\n",
       "    <tr>\n",
       "      <th>22</th>\n",
       "      <td>김포시</td>\n",
       "      <td>2022</td>\n",
       "      <td>0.0</td>\n",
       "      <td>0.0</td>\n",
       "      <td>-100.00</td>\n",
       "    </tr>\n",
       "    <tr>\n",
       "      <th>21</th>\n",
       "      <td>김포시</td>\n",
       "      <td>2021</td>\n",
       "      <td>0.0</td>\n",
       "      <td>0.0</td>\n",
       "      <td>NaN</td>\n",
       "    </tr>\n",
       "    <tr>\n",
       "      <th>34</th>\n",
       "      <td>성남시</td>\n",
       "      <td>2022</td>\n",
       "      <td>7261983.0</td>\n",
       "      <td>0.0</td>\n",
       "      <td>inf</td>\n",
       "    </tr>\n",
       "  </tbody>\n",
       "</table>\n",
       "<p>93 rows × 5 columns</p>\n",
       "</div>"
      ],
      "text/plain": [
       "    시군명  기준연도    totalPay  totalNewSubscribers  전년도대비변화율(%)\n",
       "36  수원시  2021  32086696.0             238658.0          NaN\n",
       "66  용인시  2021  28349528.0             206404.0       -11.65\n",
       "3   고양시  2021  22776329.0             201819.0       -19.66\n",
       "30  부천시  2021  24694265.0             180770.0         8.42\n",
       "50  안양시  2023  26560800.0             169450.0         7.56\n",
       "..  ...   ...         ...                  ...          ...\n",
       "39  시흥시  2021         0.0                  0.0          NaN\n",
       "33  성남시  2021   6597537.0                  0.0          inf\n",
       "22  김포시  2022         0.0                  0.0      -100.00\n",
       "21  김포시  2021         0.0                  0.0          NaN\n",
       "34  성남시  2022   7261983.0                  0.0          inf\n",
       "\n",
       "[93 rows x 5 columns]"
      ]
     },
     "execution_count": 125,
     "metadata": {},
     "output_type": "execute_result"
    }
   ],
   "source": [
    "df_group1_11"
   ]
  },
  {
   "cell_type": "code",
   "execution_count": 126,
   "metadata": {},
   "outputs": [
    {
     "data": {
      "text/html": [
       "<div>\n",
       "<style scoped>\n",
       "    .dataframe tbody tr th:only-of-type {\n",
       "        vertical-align: middle;\n",
       "    }\n",
       "\n",
       "    .dataframe tbody tr th {\n",
       "        vertical-align: top;\n",
       "    }\n",
       "\n",
       "    .dataframe thead th {\n",
       "        text-align: right;\n",
       "    }\n",
       "</style>\n",
       "<table border=\"1\" class=\"dataframe\">\n",
       "  <thead>\n",
       "    <tr style=\"text-align: right;\">\n",
       "      <th></th>\n",
       "      <th>시군명</th>\n",
       "      <th>기준연도</th>\n",
       "      <th>totalPay</th>\n",
       "      <th>totalNewSubscribers</th>\n",
       "      <th>전년도대비변화율(%)</th>\n",
       "    </tr>\n",
       "  </thead>\n",
       "  <tbody>\n",
       "    <tr>\n",
       "      <th>36</th>\n",
       "      <td>수원시</td>\n",
       "      <td>2021</td>\n",
       "      <td>32086696.0</td>\n",
       "      <td>238658.0</td>\n",
       "      <td>NaN</td>\n",
       "    </tr>\n",
       "    <tr>\n",
       "      <th>66</th>\n",
       "      <td>용인시</td>\n",
       "      <td>2021</td>\n",
       "      <td>28349528.0</td>\n",
       "      <td>206404.0</td>\n",
       "      <td>-11.65</td>\n",
       "    </tr>\n",
       "    <tr>\n",
       "      <th>3</th>\n",
       "      <td>고양시</td>\n",
       "      <td>2021</td>\n",
       "      <td>22776329.0</td>\n",
       "      <td>201819.0</td>\n",
       "      <td>-19.66</td>\n",
       "    </tr>\n",
       "    <tr>\n",
       "      <th>30</th>\n",
       "      <td>부천시</td>\n",
       "      <td>2021</td>\n",
       "      <td>24694265.0</td>\n",
       "      <td>180770.0</td>\n",
       "      <td>8.42</td>\n",
       "    </tr>\n",
       "    <tr>\n",
       "      <th>50</th>\n",
       "      <td>안양시</td>\n",
       "      <td>2023</td>\n",
       "      <td>26560800.0</td>\n",
       "      <td>169450.0</td>\n",
       "      <td>7.56</td>\n",
       "    </tr>\n",
       "    <tr>\n",
       "      <th>...</th>\n",
       "      <td>...</td>\n",
       "      <td>...</td>\n",
       "      <td>...</td>\n",
       "      <td>...</td>\n",
       "      <td>...</td>\n",
       "    </tr>\n",
       "    <tr>\n",
       "      <th>39</th>\n",
       "      <td>시흥시</td>\n",
       "      <td>2021</td>\n",
       "      <td>0.0</td>\n",
       "      <td>0.0</td>\n",
       "      <td>NaN</td>\n",
       "    </tr>\n",
       "    <tr>\n",
       "      <th>33</th>\n",
       "      <td>성남시</td>\n",
       "      <td>2021</td>\n",
       "      <td>6597537.0</td>\n",
       "      <td>0.0</td>\n",
       "      <td>inf</td>\n",
       "    </tr>\n",
       "    <tr>\n",
       "      <th>22</th>\n",
       "      <td>김포시</td>\n",
       "      <td>2022</td>\n",
       "      <td>0.0</td>\n",
       "      <td>0.0</td>\n",
       "      <td>-100.00</td>\n",
       "    </tr>\n",
       "    <tr>\n",
       "      <th>21</th>\n",
       "      <td>김포시</td>\n",
       "      <td>2021</td>\n",
       "      <td>0.0</td>\n",
       "      <td>0.0</td>\n",
       "      <td>NaN</td>\n",
       "    </tr>\n",
       "    <tr>\n",
       "      <th>34</th>\n",
       "      <td>성남시</td>\n",
       "      <td>2022</td>\n",
       "      <td>7261983.0</td>\n",
       "      <td>0.0</td>\n",
       "      <td>inf</td>\n",
       "    </tr>\n",
       "  </tbody>\n",
       "</table>\n",
       "<p>93 rows × 5 columns</p>\n",
       "</div>"
      ],
      "text/plain": [
       "    시군명  기준연도    totalPay  totalNewSubscribers  전년도대비변화율(%)\n",
       "36  수원시  2021  32086696.0             238658.0          NaN\n",
       "66  용인시  2021  28349528.0             206404.0       -11.65\n",
       "3   고양시  2021  22776329.0             201819.0       -19.66\n",
       "30  부천시  2021  24694265.0             180770.0         8.42\n",
       "50  안양시  2023  26560800.0             169450.0         7.56\n",
       "..  ...   ...         ...                  ...          ...\n",
       "39  시흥시  2021         0.0                  0.0          NaN\n",
       "33  성남시  2021   6597537.0                  0.0          inf\n",
       "22  김포시  2022         0.0                  0.0      -100.00\n",
       "21  김포시  2021         0.0                  0.0          NaN\n",
       "34  성남시  2022   7261983.0                  0.0          inf\n",
       "\n",
       "[93 rows x 5 columns]"
      ]
     },
     "execution_count": 126,
     "metadata": {},
     "output_type": "execute_result"
    }
   ],
   "source": [
    "df_group1_11"
   ]
  },
  {
   "cell_type": "markdown",
   "metadata": {},
   "source": []
  },
  {
   "cell_type": "code",
   "execution_count": 127,
   "metadata": {},
   "outputs": [
    {
     "data": {
      "text/html": [
       "<div>\n",
       "<style scoped>\n",
       "    .dataframe tbody tr th:only-of-type {\n",
       "        vertical-align: middle;\n",
       "    }\n",
       "\n",
       "    .dataframe tbody tr th {\n",
       "        vertical-align: top;\n",
       "    }\n",
       "\n",
       "    .dataframe thead th {\n",
       "        text-align: right;\n",
       "    }\n",
       "</style>\n",
       "<table border=\"1\" class=\"dataframe\">\n",
       "  <thead>\n",
       "    <tr style=\"text-align: right;\">\n",
       "      <th></th>\n",
       "      <th>시군명</th>\n",
       "      <th>기준연도</th>\n",
       "      <th>totalPay</th>\n",
       "      <th>totalNewSubscribers</th>\n",
       "      <th>전년도대비변화율(%)</th>\n",
       "    </tr>\n",
       "  </thead>\n",
       "  <tbody>\n",
       "    <tr>\n",
       "      <th>36</th>\n",
       "      <td>수원시</td>\n",
       "      <td>2021</td>\n",
       "      <td>32086696.0</td>\n",
       "      <td>238658.0</td>\n",
       "      <td>NaN</td>\n",
       "    </tr>\n",
       "    <tr>\n",
       "      <th>66</th>\n",
       "      <td>용인시</td>\n",
       "      <td>2021</td>\n",
       "      <td>28349528.0</td>\n",
       "      <td>206404.0</td>\n",
       "      <td>-11.65</td>\n",
       "    </tr>\n",
       "    <tr>\n",
       "      <th>3</th>\n",
       "      <td>고양시</td>\n",
       "      <td>2021</td>\n",
       "      <td>22776329.0</td>\n",
       "      <td>201819.0</td>\n",
       "      <td>-19.66</td>\n",
       "    </tr>\n",
       "    <tr>\n",
       "      <th>30</th>\n",
       "      <td>부천시</td>\n",
       "      <td>2021</td>\n",
       "      <td>24694265.0</td>\n",
       "      <td>180770.0</td>\n",
       "      <td>8.42</td>\n",
       "    </tr>\n",
       "    <tr>\n",
       "      <th>90</th>\n",
       "      <td>화성시</td>\n",
       "      <td>2021</td>\n",
       "      <td>32995601.0</td>\n",
       "      <td>167965.0</td>\n",
       "      <td>24.23</td>\n",
       "    </tr>\n",
       "  </tbody>\n",
       "</table>\n",
       "</div>"
      ],
      "text/plain": [
       "    시군명  기준연도    totalPay  totalNewSubscribers  전년도대비변화율(%)\n",
       "36  수원시  2021  32086696.0             238658.0          NaN\n",
       "66  용인시  2021  28349528.0             206404.0       -11.65\n",
       "3   고양시  2021  22776329.0             201819.0       -19.66\n",
       "30  부천시  2021  24694265.0             180770.0         8.42\n",
       "90  화성시  2021  32995601.0             167965.0        24.23"
      ]
     },
     "execution_count": 127,
     "metadata": {},
     "output_type": "execute_result"
    }
   ],
   "source": [
    "df_group1_totalPay_2021=df_group1_11[df_group1_11['기준연도']==2021]\n",
    "df_group1_totalPay_2021.head(5)"
   ]
  },
  {
   "cell_type": "code",
   "execution_count": 121,
   "metadata": {},
   "outputs": [
    {
     "data": {
      "text/html": [
       "<div>\n",
       "<style scoped>\n",
       "    .dataframe tbody tr th:only-of-type {\n",
       "        vertical-align: middle;\n",
       "    }\n",
       "\n",
       "    .dataframe tbody tr th {\n",
       "        vertical-align: top;\n",
       "    }\n",
       "\n",
       "    .dataframe thead th {\n",
       "        text-align: right;\n",
       "    }\n",
       "</style>\n",
       "<table border=\"1\" class=\"dataframe\">\n",
       "  <thead>\n",
       "    <tr style=\"text-align: right;\">\n",
       "      <th></th>\n",
       "      <th>시군명</th>\n",
       "      <th>기준연도</th>\n",
       "      <th>totalPay</th>\n",
       "      <th>totalNewSubscribers</th>\n",
       "    </tr>\n",
       "  </thead>\n",
       "  <tbody>\n",
       "    <tr>\n",
       "      <th>37</th>\n",
       "      <td>수원시</td>\n",
       "      <td>2022</td>\n",
       "      <td>37945657.0</td>\n",
       "      <td>98489.0</td>\n",
       "    </tr>\n",
       "    <tr>\n",
       "      <th>67</th>\n",
       "      <td>용인시</td>\n",
       "      <td>2022</td>\n",
       "      <td>34344709.0</td>\n",
       "      <td>88399.0</td>\n",
       "    </tr>\n",
       "    <tr>\n",
       "      <th>4</th>\n",
       "      <td>고양시</td>\n",
       "      <td>2022</td>\n",
       "      <td>23362940.0</td>\n",
       "      <td>70179.0</td>\n",
       "    </tr>\n",
       "    <tr>\n",
       "      <th>91</th>\n",
       "      <td>화성시</td>\n",
       "      <td>2022</td>\n",
       "      <td>41328810.0</td>\n",
       "      <td>70123.0</td>\n",
       "    </tr>\n",
       "    <tr>\n",
       "      <th>31</th>\n",
       "      <td>부천시</td>\n",
       "      <td>2022</td>\n",
       "      <td>32460917.0</td>\n",
       "      <td>62090.0</td>\n",
       "    </tr>\n",
       "  </tbody>\n",
       "</table>\n",
       "</div>"
      ],
      "text/plain": [
       "    시군명  기준연도    totalPay  totalNewSubscribers\n",
       "37  수원시  2022  37945657.0              98489.0\n",
       "67  용인시  2022  34344709.0              88399.0\n",
       "4   고양시  2022  23362940.0              70179.0\n",
       "91  화성시  2022  41328810.0              70123.0\n",
       "31  부천시  2022  32460917.0              62090.0"
      ]
     },
     "execution_count": 121,
     "metadata": {},
     "output_type": "execute_result"
    }
   ],
   "source": [
    "df_group1_totalPay_2022=df_group1_11[df_group1_11['기준연도']==2022]\n",
    "df_group1_totalPay_2022.head(5)"
   ]
  },
  {
   "cell_type": "code",
   "execution_count": 122,
   "metadata": {},
   "outputs": [
    {
     "data": {
      "text/html": [
       "<div>\n",
       "<style scoped>\n",
       "    .dataframe tbody tr th:only-of-type {\n",
       "        vertical-align: middle;\n",
       "    }\n",
       "\n",
       "    .dataframe tbody tr th {\n",
       "        vertical-align: top;\n",
       "    }\n",
       "\n",
       "    .dataframe thead th {\n",
       "        text-align: right;\n",
       "    }\n",
       "</style>\n",
       "<table border=\"1\" class=\"dataframe\">\n",
       "  <thead>\n",
       "    <tr style=\"text-align: right;\">\n",
       "      <th></th>\n",
       "      <th>시군명</th>\n",
       "      <th>기준연도</th>\n",
       "      <th>totalPay</th>\n",
       "      <th>totalNewSubscribers</th>\n",
       "    </tr>\n",
       "  </thead>\n",
       "  <tbody>\n",
       "    <tr>\n",
       "      <th>50</th>\n",
       "      <td>안양시</td>\n",
       "      <td>2023</td>\n",
       "      <td>26560800.0</td>\n",
       "      <td>169450.0</td>\n",
       "    </tr>\n",
       "    <tr>\n",
       "      <th>83</th>\n",
       "      <td>평택시</td>\n",
       "      <td>2023</td>\n",
       "      <td>19989300.0</td>\n",
       "      <td>110882.0</td>\n",
       "    </tr>\n",
       "    <tr>\n",
       "      <th>80</th>\n",
       "      <td>파주시</td>\n",
       "      <td>2023</td>\n",
       "      <td>21181600.0</td>\n",
       "      <td>108008.0</td>\n",
       "    </tr>\n",
       "    <tr>\n",
       "      <th>92</th>\n",
       "      <td>화성시</td>\n",
       "      <td>2023</td>\n",
       "      <td>41837000.0</td>\n",
       "      <td>90907.0</td>\n",
       "    </tr>\n",
       "    <tr>\n",
       "      <th>35</th>\n",
       "      <td>성남시</td>\n",
       "      <td>2023</td>\n",
       "      <td>32920900.0</td>\n",
       "      <td>90012.0</td>\n",
       "    </tr>\n",
       "  </tbody>\n",
       "</table>\n",
       "</div>"
      ],
      "text/plain": [
       "    시군명  기준연도    totalPay  totalNewSubscribers\n",
       "50  안양시  2023  26560800.0             169450.0\n",
       "83  평택시  2023  19989300.0             110882.0\n",
       "80  파주시  2023  21181600.0             108008.0\n",
       "92  화성시  2023  41837000.0              90907.0\n",
       "35  성남시  2023  32920900.0              90012.0"
      ]
     },
     "execution_count": 122,
     "metadata": {},
     "output_type": "execute_result"
    }
   ],
   "source": [
    "df_group1_totalPay_2023=df_group1_11[df_group1_11['기준연도']==2023]\n",
    "df_group1_totalPay_2023.head(5)"
   ]
  },
  {
   "cell_type": "code",
   "execution_count": 123,
   "metadata": {},
   "outputs": [
    {
     "data": {
      "text/html": [
       "<div>\n",
       "<style scoped>\n",
       "    .dataframe tbody tr th:only-of-type {\n",
       "        vertical-align: middle;\n",
       "    }\n",
       "\n",
       "    .dataframe tbody tr th {\n",
       "        vertical-align: top;\n",
       "    }\n",
       "\n",
       "    .dataframe thead th {\n",
       "        text-align: right;\n",
       "    }\n",
       "</style>\n",
       "<table border=\"1\" class=\"dataframe\">\n",
       "  <thead>\n",
       "    <tr style=\"text-align: right;\">\n",
       "      <th></th>\n",
       "      <th>시군명</th>\n",
       "      <th>기준연도</th>\n",
       "      <th>totalPay</th>\n",
       "      <th>totalNewSubscribers</th>\n",
       "    </tr>\n",
       "  </thead>\n",
       "  <tbody>\n",
       "    <tr>\n",
       "      <th>58</th>\n",
       "      <td>여주시</td>\n",
       "      <td>2022</td>\n",
       "      <td>6227660.0</td>\n",
       "      <td>13128.0</td>\n",
       "    </tr>\n",
       "    <tr>\n",
       "      <th>28</th>\n",
       "      <td>동두천시</td>\n",
       "      <td>2022</td>\n",
       "      <td>2940920.0</td>\n",
       "      <td>9691.0</td>\n",
       "    </tr>\n",
       "    <tr>\n",
       "      <th>1</th>\n",
       "      <td>가평군</td>\n",
       "      <td>2022</td>\n",
       "      <td>3729533.0</td>\n",
       "      <td>8291.0</td>\n",
       "    </tr>\n",
       "    <tr>\n",
       "      <th>61</th>\n",
       "      <td>연천군</td>\n",
       "      <td>2022</td>\n",
       "      <td>2143581.0</td>\n",
       "      <td>7911.0</td>\n",
       "    </tr>\n",
       "    <tr>\n",
       "      <th>40</th>\n",
       "      <td>시흥시</td>\n",
       "      <td>2022</td>\n",
       "      <td>0.0</td>\n",
       "      <td>0.0</td>\n",
       "    </tr>\n",
       "    <tr>\n",
       "      <th>22</th>\n",
       "      <td>김포시</td>\n",
       "      <td>2022</td>\n",
       "      <td>0.0</td>\n",
       "      <td>0.0</td>\n",
       "    </tr>\n",
       "    <tr>\n",
       "      <th>34</th>\n",
       "      <td>성남시</td>\n",
       "      <td>2022</td>\n",
       "      <td>7261983.0</td>\n",
       "      <td>0.0</td>\n",
       "    </tr>\n",
       "  </tbody>\n",
       "</table>\n",
       "</div>"
      ],
      "text/plain": [
       "     시군명  기준연도   totalPay  totalNewSubscribers\n",
       "58   여주시  2022  6227660.0              13128.0\n",
       "28  동두천시  2022  2940920.0               9691.0\n",
       "1    가평군  2022  3729533.0               8291.0\n",
       "61   연천군  2022  2143581.0               7911.0\n",
       "40   시흥시  2022        0.0                  0.0\n",
       "22   김포시  2022        0.0                  0.0\n",
       "34   성남시  2022  7261983.0                  0.0"
      ]
     },
     "execution_count": 123,
     "metadata": {},
     "output_type": "execute_result"
    }
   ],
   "source": [
    "df_group1_totalPay_2022.tail(7)"
   ]
  }
 ],
 "metadata": {
  "kernelspec": {
   "display_name": "base",
   "language": "python",
   "name": "python3"
  },
  "language_info": {
   "codemirror_mode": {
    "name": "ipython",
    "version": 3
   },
   "file_extension": ".py",
   "mimetype": "text/x-python",
   "name": "python",
   "nbconvert_exporter": "python",
   "pygments_lexer": "ipython3",
   "version": "3.9.13"
  }
 },
 "nbformat": 4,
 "nbformat_minor": 2
}
