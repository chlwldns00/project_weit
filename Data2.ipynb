{
 "cells": [
  {
   "cell_type": "markdown",
   "metadata": {},
   "source": [
    "## 데이터불러오기 (지역화폐 발행 및 이용현황)"
   ]
  },
  {
   "cell_type": "code",
   "execution_count": 1,
   "metadata": {},
   "outputs": [
    {
     "name": "stderr",
     "output_type": "stream",
     "text": [
      "c:\\Users\\home\\anaconda3\\lib\\site-packages\\pandas\\core\\computation\\expressions.py:21: UserWarning: Pandas requires version '2.8.4' or newer of 'numexpr' (version '2.8.3' currently installed).\n",
      "  from pandas.core.computation.check import NUMEXPR_INSTALLED\n",
      "c:\\Users\\home\\anaconda3\\lib\\site-packages\\pandas\\core\\arrays\\masked.py:60: UserWarning: Pandas requires version '1.3.6' or newer of 'bottleneck' (version '1.3.5' currently installed).\n",
      "  from pandas.core import (\n"
     ]
    }
   ],
   "source": [
    "import pandas as pd\n",
    "\n",
    "# Load the CSV files\n",
    "file1_path = '지역화폐발행및이용현황_2019~2022.csv'  \n",
    "\n",
    "file2_path = '지역화폐발행및이용현황_2023.csv'\n",
    "\n",
    "df_2022d = pd.read_csv(file1_path, encoding='euc-kr')\n",
    "df_2023 = pd.read_csv(file2_path, encoding='euc-kr')\n",
    "\n",
    "# 색상 팔레트\n",
    "cluster_colors = ['#2E5BA3', '#4F92FF', '#B6D1FA', '#979797']\n",
    "cluster_colors2 = ['#2E5BA3','#79BEC9', '#B6D1FA', '#8DDEEB', '#4F92FF', '#DCE7FA', '#979797', '#D9D9D9']\n",
    "cluster_colors3 = ['#79BEC9', '#A3C2F4', '#8DDEEB', '#2E5BA3', '#4F92FF', '#979797', '#C9C9C9', '#D0DBEE']\n",
    "cluster_colors4 = ['#79BEC9', '#B6D1FA', '#8DDEEB', '#4F92FF', '#ECF3FF', '#979797', '#D9D9D9', '#DCE7FA']\n",
    "\n",
    "# 맥북용\n",
    "# df_2022d = pd.read_csv(file1_path, encoding='cp949')\n",
    "# df_2023 = pd.read_csv(file2_path, encoding='cp949')\n"
   ]
  },
  {
   "cell_type": "markdown",
   "metadata": {},
   "source": [
    "-----\n"
   ]
  },
  {
   "cell_type": "code",
   "execution_count": 2,
   "metadata": {},
   "outputs": [],
   "source": [
    "# 한글 글꼴 설정 (macOS에서 사용 가능한 한글 글꼴)\n",
    "# from matplotlib import font_manager, rc\n",
    "\n",
    "# font_path = \"/System/Library/Fonts/Supplemental/AppleGothic.ttf\"  # macOS에서 'AppleGothic' 글꼴을 사용합니다\n",
    "# font = font_manager.FontProperties(fname=font_path).get_name()\n",
    "# rc('font', family=font)"
   ]
  },
  {
   "cell_type": "markdown",
   "metadata": {},
   "source": [
    "## 전처리"
   ]
  },
  {
   "cell_type": "markdown",
   "metadata": {},
   "source": [
    "### 1.데이터 확인"
   ]
  },
  {
   "cell_type": "code",
   "execution_count": 3,
   "metadata": {},
   "outputs": [
    {
     "data": {
      "text/plain": [
       "(1488, 5)"
      ]
     },
     "execution_count": 3,
     "metadata": {},
     "output_type": "execute_result"
    }
   ],
   "source": [
    "df_2022d.shape"
   ]
  },
  {
   "cell_type": "code",
   "execution_count": 4,
   "metadata": {},
   "outputs": [
    {
     "data": {
      "text/plain": [
       "(372, 5)"
      ]
     },
     "execution_count": 4,
     "metadata": {},
     "output_type": "execute_result"
    }
   ],
   "source": [
    "df_2023.shape"
   ]
  },
  {
   "cell_type": "code",
   "execution_count": 5,
   "metadata": {},
   "outputs": [
    {
     "data": {
      "text/html": [
       "<div>\n",
       "<style scoped>\n",
       "    .dataframe tbody tr th:only-of-type {\n",
       "        vertical-align: middle;\n",
       "    }\n",
       "\n",
       "    .dataframe tbody tr th {\n",
       "        vertical-align: top;\n",
       "    }\n",
       "\n",
       "    .dataframe thead th {\n",
       "        text-align: right;\n",
       "    }\n",
       "</style>\n",
       "<table border=\"1\" class=\"dataframe\">\n",
       "  <thead>\n",
       "    <tr style=\"text-align: right;\">\n",
       "      <th></th>\n",
       "      <th>시군명</th>\n",
       "      <th>기준년월</th>\n",
       "      <th>월별신규가입자수(명)</th>\n",
       "      <th>월별충전액(천원)</th>\n",
       "      <th>월별사용액(천원)</th>\n",
       "    </tr>\n",
       "  </thead>\n",
       "  <tbody>\n",
       "    <tr>\n",
       "      <th>0</th>\n",
       "      <td>가평군</td>\n",
       "      <td>2022-12</td>\n",
       "      <td>814.0</td>\n",
       "      <td>3600881.0</td>\n",
       "      <td>3996840.0</td>\n",
       "    </tr>\n",
       "    <tr>\n",
       "      <th>1</th>\n",
       "      <td>가평군</td>\n",
       "      <td>2022-11</td>\n",
       "      <td>701.0</td>\n",
       "      <td>4356413.0</td>\n",
       "      <td>3673972.0</td>\n",
       "    </tr>\n",
       "    <tr>\n",
       "      <th>2</th>\n",
       "      <td>가평군</td>\n",
       "      <td>2022-10</td>\n",
       "      <td>657.0</td>\n",
       "      <td>3205893.0</td>\n",
       "      <td>3586395.0</td>\n",
       "    </tr>\n",
       "    <tr>\n",
       "      <th>3</th>\n",
       "      <td>가평군</td>\n",
       "      <td>2022-09</td>\n",
       "      <td>832.0</td>\n",
       "      <td>4334836.0</td>\n",
       "      <td>3773560.0</td>\n",
       "    </tr>\n",
       "    <tr>\n",
       "      <th>4</th>\n",
       "      <td>가평군</td>\n",
       "      <td>2022-08</td>\n",
       "      <td>858.0</td>\n",
       "      <td>3091351.0</td>\n",
       "      <td>3600543.0</td>\n",
       "    </tr>\n",
       "  </tbody>\n",
       "</table>\n",
       "</div>"
      ],
      "text/plain": [
       "   시군명     기준년월  월별신규가입자수(명)  월별충전액(천원)  월별사용액(천원)\n",
       "0  가평군  2022-12        814.0  3600881.0  3996840.0\n",
       "1  가평군  2022-11        701.0  4356413.0  3673972.0\n",
       "2  가평군  2022-10        657.0  3205893.0  3586395.0\n",
       "3  가평군  2022-09        832.0  4334836.0  3773560.0\n",
       "4  가평군  2022-08        858.0  3091351.0  3600543.0"
      ]
     },
     "execution_count": 5,
     "metadata": {},
     "output_type": "execute_result"
    }
   ],
   "source": [
    "df_2022d.head()"
   ]
  },
  {
   "cell_type": "code",
   "execution_count": 6,
   "metadata": {},
   "outputs": [
    {
     "data": {
      "text/html": [
       "<div>\n",
       "<style scoped>\n",
       "    .dataframe tbody tr th:only-of-type {\n",
       "        vertical-align: middle;\n",
       "    }\n",
       "\n",
       "    .dataframe tbody tr th {\n",
       "        vertical-align: top;\n",
       "    }\n",
       "\n",
       "    .dataframe thead th {\n",
       "        text-align: right;\n",
       "    }\n",
       "</style>\n",
       "<table border=\"1\" class=\"dataframe\">\n",
       "  <thead>\n",
       "    <tr style=\"text-align: right;\">\n",
       "      <th></th>\n",
       "      <th>시군명</th>\n",
       "      <th>기준년월</th>\n",
       "      <th>월별신규가입자수(명)</th>\n",
       "      <th>월별충전액(백만원)</th>\n",
       "      <th>월별사용액(백만원)</th>\n",
       "    </tr>\n",
       "  </thead>\n",
       "  <tbody>\n",
       "    <tr>\n",
       "      <th>0</th>\n",
       "      <td>가평군</td>\n",
       "      <td>2023-12</td>\n",
       "      <td>484.0</td>\n",
       "      <td>4051</td>\n",
       "      <td>2140</td>\n",
       "    </tr>\n",
       "    <tr>\n",
       "      <th>1</th>\n",
       "      <td>가평군</td>\n",
       "      <td>2023-11</td>\n",
       "      <td>458.0</td>\n",
       "      <td>2368</td>\n",
       "      <td>2187</td>\n",
       "    </tr>\n",
       "    <tr>\n",
       "      <th>2</th>\n",
       "      <td>가평군</td>\n",
       "      <td>2023-10</td>\n",
       "      <td>555.0</td>\n",
       "      <td>2596</td>\n",
       "      <td>2335</td>\n",
       "    </tr>\n",
       "    <tr>\n",
       "      <th>3</th>\n",
       "      <td>가평군</td>\n",
       "      <td>2023-09</td>\n",
       "      <td>782.0</td>\n",
       "      <td>3113</td>\n",
       "      <td>2376</td>\n",
       "    </tr>\n",
       "    <tr>\n",
       "      <th>4</th>\n",
       "      <td>가평군</td>\n",
       "      <td>2023-08</td>\n",
       "      <td>473.0</td>\n",
       "      <td>3631</td>\n",
       "      <td>2392</td>\n",
       "    </tr>\n",
       "  </tbody>\n",
       "</table>\n",
       "</div>"
      ],
      "text/plain": [
       "   시군명     기준년월  월별신규가입자수(명)  월별충전액(백만원)  월별사용액(백만원)\n",
       "0  가평군  2023-12        484.0        4051        2140\n",
       "1  가평군  2023-11        458.0        2368        2187\n",
       "2  가평군  2023-10        555.0        2596        2335\n",
       "3  가평군  2023-09        782.0        3113        2376\n",
       "4  가평군  2023-08        473.0        3631        2392"
      ]
     },
     "execution_count": 6,
     "metadata": {},
     "output_type": "execute_result"
    }
   ],
   "source": [
    "df_2023.head()"
   ]
  },
  {
   "cell_type": "code",
   "execution_count": 7,
   "metadata": {},
   "outputs": [
    {
     "data": {
      "text/plain": [
       "31"
      ]
     },
     "execution_count": 7,
     "metadata": {},
     "output_type": "execute_result"
    }
   ],
   "source": [
    "len(df_2023['시군명'].unique())"
   ]
  },
  {
   "cell_type": "code",
   "execution_count": 8,
   "metadata": {},
   "outputs": [
    {
     "data": {
      "text/plain": [
       "시군명            0\n",
       "기준년월           0\n",
       "월별신규가입자수(명)    2\n",
       "월별충전액(백만원)     0\n",
       "월별사용액(백만원)     0\n",
       "dtype: int64"
      ]
     },
     "execution_count": 8,
     "metadata": {},
     "output_type": "execute_result"
    }
   ],
   "source": [
    "df_2023.isnull().sum()"
   ]
  },
  {
   "cell_type": "code",
   "execution_count": null,
   "metadata": {},
   "outputs": [],
   "source": []
  },
  {
   "cell_type": "code",
   "execution_count": 9,
   "metadata": {},
   "outputs": [
    {
     "data": {
      "text/plain": [
       "시군명              0\n",
       "기준년월             0\n",
       "월별신규가입자수(명)    222\n",
       "월별충전액(천원)      181\n",
       "월별사용액(천원)      181\n",
       "dtype: int64"
      ]
     },
     "execution_count": 9,
     "metadata": {},
     "output_type": "execute_result"
    }
   ],
   "source": [
    "df_2022d.isnull().sum()"
   ]
  },
  {
   "cell_type": "code",
   "execution_count": null,
   "metadata": {},
   "outputs": [],
   "source": []
  },
  {
   "cell_type": "markdown",
   "metadata": {},
   "source": [
    "### 2.2019년까지 있는 데이터를 2021년부터 2023년까지만 다루기위해 데이터 슬라이싱\n"
   ]
  },
  {
   "cell_type": "code",
   "execution_count": 10,
   "metadata": {},
   "outputs": [
    {
     "data": {
      "text/html": [
       "<div>\n",
       "<style scoped>\n",
       "    .dataframe tbody tr th:only-of-type {\n",
       "        vertical-align: middle;\n",
       "    }\n",
       "\n",
       "    .dataframe tbody tr th {\n",
       "        vertical-align: top;\n",
       "    }\n",
       "\n",
       "    .dataframe thead th {\n",
       "        text-align: right;\n",
       "    }\n",
       "</style>\n",
       "<table border=\"1\" class=\"dataframe\">\n",
       "  <thead>\n",
       "    <tr style=\"text-align: right;\">\n",
       "      <th></th>\n",
       "      <th>시군명</th>\n",
       "      <th>기준년월</th>\n",
       "      <th>월별신규가입자수(명)</th>\n",
       "      <th>월별충전액(천원)</th>\n",
       "      <th>월별사용액(천원)</th>\n",
       "    </tr>\n",
       "  </thead>\n",
       "  <tbody>\n",
       "    <tr>\n",
       "      <th>1459</th>\n",
       "      <td>화성시</td>\n",
       "      <td>2021-05</td>\n",
       "      <td>7615.0</td>\n",
       "      <td>26955815.0</td>\n",
       "      <td>27578227.0</td>\n",
       "    </tr>\n",
       "    <tr>\n",
       "      <th>1460</th>\n",
       "      <td>화성시</td>\n",
       "      <td>2021-04</td>\n",
       "      <td>23662.0</td>\n",
       "      <td>27897920.0</td>\n",
       "      <td>27898856.0</td>\n",
       "    </tr>\n",
       "    <tr>\n",
       "      <th>1461</th>\n",
       "      <td>화성시</td>\n",
       "      <td>2021-03</td>\n",
       "      <td>13378.0</td>\n",
       "      <td>18016255.0</td>\n",
       "      <td>20192514.0</td>\n",
       "    </tr>\n",
       "    <tr>\n",
       "      <th>1462</th>\n",
       "      <td>화성시</td>\n",
       "      <td>2021-02</td>\n",
       "      <td>23305.0</td>\n",
       "      <td>18016255.0</td>\n",
       "      <td>20192514.0</td>\n",
       "    </tr>\n",
       "    <tr>\n",
       "      <th>1463</th>\n",
       "      <td>화성시</td>\n",
       "      <td>2021-01</td>\n",
       "      <td>12936.0</td>\n",
       "      <td>32845088.0</td>\n",
       "      <td>31312763.0</td>\n",
       "    </tr>\n",
       "  </tbody>\n",
       "</table>\n",
       "</div>"
      ],
      "text/plain": [
       "      시군명     기준년월  월별신규가입자수(명)   월별충전액(천원)   월별사용액(천원)\n",
       "1459  화성시  2021-05       7615.0  26955815.0  27578227.0\n",
       "1460  화성시  2021-04      23662.0  27897920.0  27898856.0\n",
       "1461  화성시  2021-03      13378.0  18016255.0  20192514.0\n",
       "1462  화성시  2021-02      23305.0  18016255.0  20192514.0\n",
       "1463  화성시  2021-01      12936.0  32845088.0  31312763.0"
      ]
     },
     "execution_count": 10,
     "metadata": {},
     "output_type": "execute_result"
    }
   ],
   "source": [
    "df_2022d = df_2022d[df_2022d['기준년월'].str[:4].astype(int).between(2021, 2023)]\n",
    "\n",
    "df_2022d.tail()"
   ]
  },
  {
   "cell_type": "code",
   "execution_count": 11,
   "metadata": {},
   "outputs": [
    {
     "data": {
      "text/plain": [
       "(744, 5)"
      ]
     },
     "execution_count": 11,
     "metadata": {},
     "output_type": "execute_result"
    }
   ],
   "source": [
    "df_2022d.shape"
   ]
  },
  {
   "cell_type": "markdown",
   "metadata": {},
   "source": [
    "### 3.금액단위를 만원단위로 맞추기 => 중요 지표인 충전금액,결제금액 등의 단위 통일을 위해서"
   ]
  },
  {
   "cell_type": "markdown",
   "metadata": {},
   "source": [
    "- 천원단위->만원단위"
   ]
  },
  {
   "cell_type": "code",
   "execution_count": 12,
   "metadata": {},
   "outputs": [],
   "source": [
    "df_2022d['월별충전액(천원)']=round(df_2022d['월별충전액(천원)']/10) #반올림해서 소수점 제거\n"
   ]
  },
  {
   "cell_type": "code",
   "execution_count": 13,
   "metadata": {},
   "outputs": [],
   "source": [
    "df_2022d['월별사용액(천원)']=round(df_2022d['월별사용액(천원)']/10)"
   ]
  },
  {
   "cell_type": "code",
   "execution_count": 15,
   "metadata": {},
   "outputs": [
    {
     "data": {
      "text/html": [
       "<div>\n",
       "<style scoped>\n",
       "    .dataframe tbody tr th:only-of-type {\n",
       "        vertical-align: middle;\n",
       "    }\n",
       "\n",
       "    .dataframe tbody tr th {\n",
       "        vertical-align: top;\n",
       "    }\n",
       "\n",
       "    .dataframe thead th {\n",
       "        text-align: right;\n",
       "    }\n",
       "</style>\n",
       "<table border=\"1\" class=\"dataframe\">\n",
       "  <thead>\n",
       "    <tr style=\"text-align: right;\">\n",
       "      <th></th>\n",
       "      <th>시군명</th>\n",
       "      <th>기준년월</th>\n",
       "      <th>월별신규가입자수(명)</th>\n",
       "      <th>월별충전액(천원)</th>\n",
       "      <th>월별사용액(천원)</th>\n",
       "    </tr>\n",
       "  </thead>\n",
       "  <tbody>\n",
       "    <tr>\n",
       "      <th>0</th>\n",
       "      <td>가평군</td>\n",
       "      <td>2022-12</td>\n",
       "      <td>814.0</td>\n",
       "      <td>360088.0</td>\n",
       "      <td>399684.0</td>\n",
       "    </tr>\n",
       "    <tr>\n",
       "      <th>1</th>\n",
       "      <td>가평군</td>\n",
       "      <td>2022-11</td>\n",
       "      <td>701.0</td>\n",
       "      <td>435641.0</td>\n",
       "      <td>367397.0</td>\n",
       "    </tr>\n",
       "    <tr>\n",
       "      <th>2</th>\n",
       "      <td>가평군</td>\n",
       "      <td>2022-10</td>\n",
       "      <td>657.0</td>\n",
       "      <td>320589.0</td>\n",
       "      <td>358640.0</td>\n",
       "    </tr>\n",
       "    <tr>\n",
       "      <th>3</th>\n",
       "      <td>가평군</td>\n",
       "      <td>2022-09</td>\n",
       "      <td>832.0</td>\n",
       "      <td>433484.0</td>\n",
       "      <td>377356.0</td>\n",
       "    </tr>\n",
       "    <tr>\n",
       "      <th>4</th>\n",
       "      <td>가평군</td>\n",
       "      <td>2022-08</td>\n",
       "      <td>858.0</td>\n",
       "      <td>309135.0</td>\n",
       "      <td>360054.0</td>\n",
       "    </tr>\n",
       "  </tbody>\n",
       "</table>\n",
       "</div>"
      ],
      "text/plain": [
       "   시군명     기준년월  월별신규가입자수(명)  월별충전액(천원)  월별사용액(천원)\n",
       "0  가평군  2022-12        814.0   360088.0   399684.0\n",
       "1  가평군  2022-11        701.0   435641.0   367397.0\n",
       "2  가평군  2022-10        657.0   320589.0   358640.0\n",
       "3  가평군  2022-09        832.0   433484.0   377356.0\n",
       "4  가평군  2022-08        858.0   309135.0   360054.0"
      ]
     },
     "execution_count": 15,
     "metadata": {},
     "output_type": "execute_result"
    }
   ],
   "source": [
    "df_2022d.head()"
   ]
  },
  {
   "cell_type": "markdown",
   "metadata": {},
   "source": [
    "- 백만원단위->만원단위"
   ]
  },
  {
   "cell_type": "code",
   "execution_count": 16,
   "metadata": {},
   "outputs": [],
   "source": [
    "df_2023['월별충전액(백만원)']=df_2023['월별충전액(백만원)']*100"
   ]
  },
  {
   "cell_type": "code",
   "execution_count": 17,
   "metadata": {},
   "outputs": [],
   "source": [
    "df_2023['월별사용액(백만원)']=df_2023['월별사용액(백만원)']*100"
   ]
  },
  {
   "cell_type": "code",
   "execution_count": 18,
   "metadata": {},
   "outputs": [
    {
     "data": {
      "text/html": [
       "<div>\n",
       "<style scoped>\n",
       "    .dataframe tbody tr th:only-of-type {\n",
       "        vertical-align: middle;\n",
       "    }\n",
       "\n",
       "    .dataframe tbody tr th {\n",
       "        vertical-align: top;\n",
       "    }\n",
       "\n",
       "    .dataframe thead th {\n",
       "        text-align: right;\n",
       "    }\n",
       "</style>\n",
       "<table border=\"1\" class=\"dataframe\">\n",
       "  <thead>\n",
       "    <tr style=\"text-align: right;\">\n",
       "      <th></th>\n",
       "      <th>시군명</th>\n",
       "      <th>기준년월</th>\n",
       "      <th>월별신규가입자수(명)</th>\n",
       "      <th>월별충전액(백만원)</th>\n",
       "      <th>월별사용액(백만원)</th>\n",
       "    </tr>\n",
       "  </thead>\n",
       "  <tbody>\n",
       "    <tr>\n",
       "      <th>0</th>\n",
       "      <td>가평군</td>\n",
       "      <td>2023-12</td>\n",
       "      <td>484.0</td>\n",
       "      <td>405100</td>\n",
       "      <td>214000</td>\n",
       "    </tr>\n",
       "    <tr>\n",
       "      <th>1</th>\n",
       "      <td>가평군</td>\n",
       "      <td>2023-11</td>\n",
       "      <td>458.0</td>\n",
       "      <td>236800</td>\n",
       "      <td>218700</td>\n",
       "    </tr>\n",
       "    <tr>\n",
       "      <th>2</th>\n",
       "      <td>가평군</td>\n",
       "      <td>2023-10</td>\n",
       "      <td>555.0</td>\n",
       "      <td>259600</td>\n",
       "      <td>233500</td>\n",
       "    </tr>\n",
       "    <tr>\n",
       "      <th>3</th>\n",
       "      <td>가평군</td>\n",
       "      <td>2023-09</td>\n",
       "      <td>782.0</td>\n",
       "      <td>311300</td>\n",
       "      <td>237600</td>\n",
       "    </tr>\n",
       "    <tr>\n",
       "      <th>4</th>\n",
       "      <td>가평군</td>\n",
       "      <td>2023-08</td>\n",
       "      <td>473.0</td>\n",
       "      <td>363100</td>\n",
       "      <td>239200</td>\n",
       "    </tr>\n",
       "  </tbody>\n",
       "</table>\n",
       "</div>"
      ],
      "text/plain": [
       "   시군명     기준년월  월별신규가입자수(명)  월별충전액(백만원)  월별사용액(백만원)\n",
       "0  가평군  2023-12        484.0      405100      214000\n",
       "1  가평군  2023-11        458.0      236800      218700\n",
       "2  가평군  2023-10        555.0      259600      233500\n",
       "3  가평군  2023-09        782.0      311300      237600\n",
       "4  가평군  2023-08        473.0      363100      239200"
      ]
     },
     "execution_count": 18,
     "metadata": {},
     "output_type": "execute_result"
    }
   ],
   "source": [
    "df_2023.head()"
   ]
  },
  {
   "cell_type": "markdown",
   "metadata": {},
   "source": [
    "### 4.데이터 concat"
   ]
  },
  {
   "cell_type": "markdown",
   "metadata": {},
   "source": [
    "**최근 3개년의 데이터만 분석할거기 때문에 19~22년도 데이터 와 23년도 데이터를 21~23년도 데이터만 합쳐서 뽑아낸다**"
   ]
  },
  {
   "cell_type": "markdown",
   "metadata": {},
   "source": [
    "- 데이터 컬럼이름 맞춰주기()"
   ]
  },
  {
   "cell_type": "code",
   "execution_count": 19,
   "metadata": {},
   "outputs": [],
   "source": [
    "df_2022d.columns=['시군명','기준년월','월별신규가입자수(명)','월별충전액(만원)','월별사용액(만원)']"
   ]
  },
  {
   "cell_type": "code",
   "execution_count": 20,
   "metadata": {},
   "outputs": [],
   "source": [
    "df_2023.columns=['시군명','기준년월','월별신규가입자수(명)','월별충전액(만원)','월별사용액(만원)']"
   ]
  },
  {
   "cell_type": "code",
   "execution_count": 21,
   "metadata": {},
   "outputs": [
    {
     "name": "stdout",
     "output_type": "stream",
     "text": [
      "(372, 5)\n",
      "(744, 5)\n"
     ]
    }
   ],
   "source": [
    "print(df_2023.shape)\n",
    "print(df_2022d.shape)"
   ]
  },
  {
   "cell_type": "code",
   "execution_count": 22,
   "metadata": {},
   "outputs": [
    {
     "data": {
      "text/html": [
       "<div>\n",
       "<style scoped>\n",
       "    .dataframe tbody tr th:only-of-type {\n",
       "        vertical-align: middle;\n",
       "    }\n",
       "\n",
       "    .dataframe tbody tr th {\n",
       "        vertical-align: top;\n",
       "    }\n",
       "\n",
       "    .dataframe thead th {\n",
       "        text-align: right;\n",
       "    }\n",
       "</style>\n",
       "<table border=\"1\" class=\"dataframe\">\n",
       "  <thead>\n",
       "    <tr style=\"text-align: right;\">\n",
       "      <th></th>\n",
       "      <th>시군명</th>\n",
       "      <th>기준년월</th>\n",
       "      <th>월별신규가입자수(명)</th>\n",
       "      <th>월별충전액(만원)</th>\n",
       "      <th>월별사용액(만원)</th>\n",
       "    </tr>\n",
       "  </thead>\n",
       "  <tbody>\n",
       "    <tr>\n",
       "      <th>1111</th>\n",
       "      <td>화성시</td>\n",
       "      <td>2021-05</td>\n",
       "      <td>7615.0</td>\n",
       "      <td>2695582.0</td>\n",
       "      <td>2757823.0</td>\n",
       "    </tr>\n",
       "    <tr>\n",
       "      <th>1112</th>\n",
       "      <td>화성시</td>\n",
       "      <td>2021-04</td>\n",
       "      <td>23662.0</td>\n",
       "      <td>2789792.0</td>\n",
       "      <td>2789886.0</td>\n",
       "    </tr>\n",
       "    <tr>\n",
       "      <th>1113</th>\n",
       "      <td>화성시</td>\n",
       "      <td>2021-03</td>\n",
       "      <td>13378.0</td>\n",
       "      <td>1801626.0</td>\n",
       "      <td>2019251.0</td>\n",
       "    </tr>\n",
       "    <tr>\n",
       "      <th>1114</th>\n",
       "      <td>화성시</td>\n",
       "      <td>2021-02</td>\n",
       "      <td>23305.0</td>\n",
       "      <td>1801626.0</td>\n",
       "      <td>2019251.0</td>\n",
       "    </tr>\n",
       "    <tr>\n",
       "      <th>1115</th>\n",
       "      <td>화성시</td>\n",
       "      <td>2021-01</td>\n",
       "      <td>12936.0</td>\n",
       "      <td>3284509.0</td>\n",
       "      <td>3131276.0</td>\n",
       "    </tr>\n",
       "  </tbody>\n",
       "</table>\n",
       "</div>"
      ],
      "text/plain": [
       "      시군명     기준년월  월별신규가입자수(명)  월별충전액(만원)  월별사용액(만원)\n",
       "1111  화성시  2021-05       7615.0  2695582.0  2757823.0\n",
       "1112  화성시  2021-04      23662.0  2789792.0  2789886.0\n",
       "1113  화성시  2021-03      13378.0  1801626.0  2019251.0\n",
       "1114  화성시  2021-02      23305.0  1801626.0  2019251.0\n",
       "1115  화성시  2021-01      12936.0  3284509.0  3131276.0"
      ]
     },
     "execution_count": 22,
     "metadata": {},
     "output_type": "execute_result"
    }
   ],
   "source": [
    "Data2=pd.concat([df_2023,df_2022d],ignore_index=True)\n",
    "Data2.to_csv('Data2_전처리.csv',index=False)\n",
    "Data2.tail()"
   ]
  },
  {
   "cell_type": "markdown",
   "metadata": {},
   "source": [
    "----\n",
    "## 군집화를 위한 추가전처리"
   ]
  },
  {
   "cell_type": "markdown",
   "metadata": {},
   "source": [
    "> 군집으로 분석하기위해 분석단위를 '기준년월' 이아닌 '기준연도'로 잡았으므로, 월별 데이터를 년별 데이터로 합쳐준다"
   ]
  },
  {
   "cell_type": "markdown",
   "metadata": {},
   "source": [
    "> 주요 변수인 신규가입자수 와 충전금액을 위주로 분석하기위해 전처리한다"
   ]
  },
  {
   "cell_type": "markdown",
   "metadata": {},
   "source": [
    "- 기준연도 컬럼 추가(datetime type)"
   ]
  },
  {
   "cell_type": "code",
   "execution_count": 23,
   "metadata": {},
   "outputs": [],
   "source": [
    "Data2['기준연도'] = pd.to_datetime(Data2['기준년월'])\n",
    "Data2['기준연도']=Data2['기준연도'].dt.year"
   ]
  },
  {
   "cell_type": "code",
   "execution_count": 24,
   "metadata": {},
   "outputs": [
    {
     "name": "stdout",
     "output_type": "stream",
     "text": [
      "<class 'pandas.core.frame.DataFrame'>\n",
      "RangeIndex: 1116 entries, 0 to 1115\n",
      "Data columns (total 6 columns):\n",
      " #   Column       Non-Null Count  Dtype  \n",
      "---  ------       --------------  -----  \n",
      " 0   시군명          1116 non-null   object \n",
      " 1   기준년월         1116 non-null   object \n",
      " 2   월별신규가입자수(명)  1042 non-null   float64\n",
      " 3   월별충전액(만원)    1070 non-null   float64\n",
      " 4   월별사용액(만원)    1070 non-null   float64\n",
      " 5   기준연도         1116 non-null   int32  \n",
      "dtypes: float64(3), int32(1), object(2)\n",
      "memory usage: 48.1+ KB\n"
     ]
    }
   ],
   "source": [
    "Data2.info()"
   ]
  },
  {
   "cell_type": "code",
   "execution_count": 25,
   "metadata": {},
   "outputs": [
    {
     "data": {
      "text/plain": [
       "시군명             0\n",
       "기준년월            0\n",
       "월별신규가입자수(명)    74\n",
       "월별충전액(만원)      46\n",
       "월별사용액(만원)      46\n",
       "기준연도            0\n",
       "dtype: int64"
      ]
     },
     "execution_count": 25,
     "metadata": {},
     "output_type": "execute_result"
    }
   ],
   "source": [
    "Data2.isnull().sum()"
   ]
  },
  {
   "cell_type": "markdown",
   "metadata": {},
   "source": [
    "- 결측지를 평균값으로 채워넣는다"
   ]
  },
  {
   "cell_type": "code",
   "execution_count": 26,
   "metadata": {},
   "outputs": [],
   "source": [
    "# 각 연도별 평균값 계산\n",
    "yearly_mean_new_subscribers = Data2.groupby('기준연도')['월별신규가입자수(명)'].transform('mean')\n",
    "yearly_mean_recharge_amount = Data2.groupby('기준연도')['월별충전액(만원)'].transform('mean')\n",
    "\n",
    "# null 값을 연도별 평균값으로 채우기\n",
    "Data2['월별신규가입자수(명)'] = Data2['월별신규가입자수(명)'].fillna(yearly_mean_new_subscribers)\n",
    "Data2['월별충전액(만원)'] = Data2['월별충전액(만원)'].fillna(yearly_mean_recharge_amount)\n"
   ]
  },
  {
   "cell_type": "code",
   "execution_count": 27,
   "metadata": {},
   "outputs": [
    {
     "data": {
      "text/plain": [
       "시군명             0\n",
       "기준년월            0\n",
       "월별신규가입자수(명)     0\n",
       "월별충전액(만원)       0\n",
       "월별사용액(만원)      46\n",
       "기준연도            0\n",
       "dtype: int64"
      ]
     },
     "execution_count": 27,
     "metadata": {},
     "output_type": "execute_result"
    }
   ],
   "source": [
    "Data2.isnull().sum()"
   ]
  },
  {
   "cell_type": "markdown",
   "metadata": {},
   "source": [
    "- 신규가입자수 와 충전액이 군집별로 비교해볼만한 요소이므로 이를 연도별 시군별로 나타내야한다"
   ]
  },
  {
   "cell_type": "code",
   "execution_count": 28,
   "metadata": {},
   "outputs": [
    {
     "data": {
      "text/plain": [
       "기준연도           0\n",
       "시군명            0\n",
       "월별신규가입자수(명)    0\n",
       "월별충전액(만원)      0\n",
       "dtype: int64"
      ]
     },
     "execution_count": 28,
     "metadata": {},
     "output_type": "execute_result"
    }
   ],
   "source": [
    "average_new_subscribers = Data2.groupby(['기준연도', '시군명'])[['월별신규가입자수(명)','월별충전액(만원)']].sum().reset_index()\n",
    "average_new_subscribers.isnull().sum()"
   ]
  },
  {
   "cell_type": "code",
   "execution_count": 29,
   "metadata": {},
   "outputs": [
    {
     "data": {
      "text/html": [
       "<div>\n",
       "<style scoped>\n",
       "    .dataframe tbody tr th:only-of-type {\n",
       "        vertical-align: middle;\n",
       "    }\n",
       "\n",
       "    .dataframe tbody tr th {\n",
       "        vertical-align: top;\n",
       "    }\n",
       "\n",
       "    .dataframe thead th {\n",
       "        text-align: right;\n",
       "    }\n",
       "</style>\n",
       "<table border=\"1\" class=\"dataframe\">\n",
       "  <thead>\n",
       "    <tr style=\"text-align: right;\">\n",
       "      <th></th>\n",
       "      <th>기준연도</th>\n",
       "      <th>시군명</th>\n",
       "      <th>월별신규가입자수(명)</th>\n",
       "      <th>월별충전액(만원)</th>\n",
       "    </tr>\n",
       "  </thead>\n",
       "  <tbody>\n",
       "    <tr>\n",
       "      <th>0</th>\n",
       "      <td>2021</td>\n",
       "      <td>가평군</td>\n",
       "      <td>13043.0</td>\n",
       "      <td>1773996.0</td>\n",
       "    </tr>\n",
       "    <tr>\n",
       "      <th>1</th>\n",
       "      <td>2021</td>\n",
       "      <td>고양시</td>\n",
       "      <td>201819.0</td>\n",
       "      <td>22711180.0</td>\n",
       "    </tr>\n",
       "    <tr>\n",
       "      <th>2</th>\n",
       "      <td>2021</td>\n",
       "      <td>과천시</td>\n",
       "      <td>20897.0</td>\n",
       "      <td>3611000.0</td>\n",
       "    </tr>\n",
       "    <tr>\n",
       "      <th>3</th>\n",
       "      <td>2021</td>\n",
       "      <td>광명시</td>\n",
       "      <td>66295.0</td>\n",
       "      <td>10260619.0</td>\n",
       "    </tr>\n",
       "    <tr>\n",
       "      <th>4</th>\n",
       "      <td>2021</td>\n",
       "      <td>광주시</td>\n",
       "      <td>158752.0</td>\n",
       "      <td>17469409.0</td>\n",
       "    </tr>\n",
       "    <tr>\n",
       "      <th>...</th>\n",
       "      <td>...</td>\n",
       "      <td>...</td>\n",
       "      <td>...</td>\n",
       "      <td>...</td>\n",
       "    </tr>\n",
       "    <tr>\n",
       "      <th>88</th>\n",
       "      <td>2023</td>\n",
       "      <td>파주시</td>\n",
       "      <td>108008.0</td>\n",
       "      <td>21634600.0</td>\n",
       "    </tr>\n",
       "    <tr>\n",
       "      <th>89</th>\n",
       "      <td>2023</td>\n",
       "      <td>평택시</td>\n",
       "      <td>110882.0</td>\n",
       "      <td>19601900.0</td>\n",
       "    </tr>\n",
       "    <tr>\n",
       "      <th>90</th>\n",
       "      <td>2023</td>\n",
       "      <td>포천시</td>\n",
       "      <td>10285.0</td>\n",
       "      <td>3865900.0</td>\n",
       "    </tr>\n",
       "    <tr>\n",
       "      <th>91</th>\n",
       "      <td>2023</td>\n",
       "      <td>하남시</td>\n",
       "      <td>29096.0</td>\n",
       "      <td>14169300.0</td>\n",
       "    </tr>\n",
       "    <tr>\n",
       "      <th>92</th>\n",
       "      <td>2023</td>\n",
       "      <td>화성시</td>\n",
       "      <td>90907.0</td>\n",
       "      <td>40451900.0</td>\n",
       "    </tr>\n",
       "  </tbody>\n",
       "</table>\n",
       "<p>93 rows × 4 columns</p>\n",
       "</div>"
      ],
      "text/plain": [
       "    기준연도  시군명  월별신규가입자수(명)   월별충전액(만원)\n",
       "0   2021  가평군      13043.0   1773996.0\n",
       "1   2021  고양시     201819.0  22711180.0\n",
       "2   2021  과천시      20897.0   3611000.0\n",
       "3   2021  광명시      66295.0  10260619.0\n",
       "4   2021  광주시     158752.0  17469409.0\n",
       "..   ...  ...          ...         ...\n",
       "88  2023  파주시     108008.0  21634600.0\n",
       "89  2023  평택시     110882.0  19601900.0\n",
       "90  2023  포천시      10285.0   3865900.0\n",
       "91  2023  하남시      29096.0  14169300.0\n",
       "92  2023  화성시      90907.0  40451900.0\n",
       "\n",
       "[93 rows x 4 columns]"
      ]
     },
     "execution_count": 29,
     "metadata": {},
     "output_type": "execute_result"
    }
   ],
   "source": [
    "average_new_subscribers"
   ]
  },
  {
   "cell_type": "markdown",
   "metadata": {},
   "source": [
    "- 신규가입자와 월별 충전액의 군집별 결과를 보기위한 데이터 완성 및 추출"
   ]
  },
  {
   "cell_type": "code",
   "execution_count": 30,
   "metadata": {},
   "outputs": [],
   "source": [
    "average_new_subscribers.to_csv('Data2_신규가입자.csv',index=False)"
   ]
  },
  {
   "cell_type": "code",
   "execution_count": 31,
   "metadata": {},
   "outputs": [
    {
     "data": {
      "text/plain": [
       "(31, 4)"
      ]
     },
     "execution_count": 31,
     "metadata": {},
     "output_type": "execute_result"
    }
   ],
   "source": [
    "average_new_subscribers[average_new_subscribers['기준연도']==2023].shape"
   ]
  },
  {
   "cell_type": "markdown",
   "metadata": {},
   "source": [
    "---"
   ]
  },
  {
   "cell_type": "markdown",
   "metadata": {},
   "source": [
    "<h3>[시각화로 변수 추이보기(주요 시군만)]</h3>"
   ]
  },
  {
   "cell_type": "markdown",
   "metadata": {},
   "source": [
    "<h4>1.상위권 7개 시군 중 하나인 평택시 시각화<h4>"
   ]
  },
  {
   "cell_type": "code",
   "execution_count": 32,
   "metadata": {},
   "outputs": [
    {
     "data": {
      "image/png": "[encoded data removed]",
      "text/plain": [
       "<Figure size 1400x1000 with 3 Axes>"
      ]
     },
     "metadata": {},
     "output_type": "display_data"
    }
   ],
   "source": [
    "# 라이브러리 불러오기\n",
    "import pandas as pd\n",
    "import matplotlib.pyplot as plt\n",
    "plt.rcParams.update({'font.family' : 'Malgun Gothic'}) \n",
    "from matplotlib.ticker import ScalarFormatter\n",
    "\n",
    "# 평택시 데이터 필터링\n",
    "pyeongtaek_df = Data2[Data2['시군명'] == '하남시']\n",
    "\n",
    "# 데이터 시각화\n",
    "plt.figure(figsize=(14, 10))\n",
    "\n",
    "# 월별 신규 가입자 수 시각화\n",
    "plt.subplot(3, 1, 1)\n",
    "plt.plot(pyeongtaek_df['기준년월'], pyeongtaek_df['월별신규가입자수(명)'], marker='o')\n",
    "plt.title('평택시 월별 신규 가입자 수')\n",
    "plt.xlabel('기준년월')\n",
    "plt.ylabel('신규 가입자 수')\n",
    "\n",
    "# 월별 충전액 시각화\n",
    "plt.subplot(3, 1, 2)\n",
    "plt.plot(pyeongtaek_df['기준년월'], pyeongtaek_df['월별충전액(만원)'], marker='o', color='orange')\n",
    "plt.title('평택시 월별 충전액')\n",
    "plt.xlabel('기준년월')\n",
    "plt.ylabel('충전액')\n",
    "plt.gca().yaxis.set_major_formatter(ScalarFormatter(useOffset=False))\n",
    "plt.gca().yaxis.get_major_formatter().set_scientific(False)\n",
    "\n",
    "# 월별 사용액 시각화\n",
    "plt.subplot(3, 1, 3)\n",
    "plt.plot(pyeongtaek_df['기준년월'], pyeongtaek_df['월별사용액(만원)'], marker='o', color='green')\n",
    "plt.title('평택시 월별 사용액')\n",
    "plt.xlabel('기준년월')\n",
    "plt.ylabel('사용액')\n",
    "plt.gca().yaxis.set_major_formatter(ScalarFormatter(useOffset=False))\n",
    "plt.gca().yaxis.get_major_formatter().set_scientific(False)\n",
    "\n",
    "# 레이아웃 조정\n",
    "plt.tight_layout()\n",
    "plt.show()"
   ]
  },
  {
   "cell_type": "markdown",
   "metadata": {},
   "source": [
    "<h4>2.하위권 3개 시군 중 하나인 동두천시 시각화</h4>"
   ]
  },
  {
   "cell_type": "code",
   "execution_count": 33,
   "metadata": {},
   "outputs": [
    {
     "data": {
      "image/png": "[encoded data removed]",
      "text/plain": [
       "<Figure size 1400x1000 with 3 Axes>"
      ]
     },
     "metadata": {},
     "output_type": "display_data"
    }
   ],
   "source": [
    "# 동두천시 데이터 필터링\n",
    "dongducheon_df = Data2[Data2['시군명'] == '동두천시']\n",
    "\n",
    "# 데이터 시각화\n",
    "plt.figure(figsize=(14, 10))\n",
    "\n",
    "# 월별 신규 가입자 수 시각화\n",
    "plt.subplot(3, 1, 1)\n",
    "plt.plot(dongducheon_df['기준년월'], dongducheon_df['월별신규가입자수(명)'], marker='o')\n",
    "plt.title('동두천시 월별 신규 가입자 수')\n",
    "plt.xlabel('기준년월')\n",
    "plt.ylabel('신규 가입자 수')\n",
    "\n",
    "# 월별 충전액 시각화\n",
    "plt.subplot(3, 1, 2)\n",
    "plt.plot(dongducheon_df['기준년월'], dongducheon_df['월별충전액(만원)'], marker='o', color='orange')\n",
    "plt.title('동두천시 월별 충전액')\n",
    "plt.xlabel('기준년월')\n",
    "plt.ylabel('충전액')\n",
    "\n",
    "\n",
    "# 월별 사용액 시각화\n",
    "plt.subplot(3, 1, 3)\n",
    "plt.plot(dongducheon_df['기준년월'], dongducheon_df['월별사용액(만원)'], marker='o', color='green')\n",
    "plt.title('동두천시 월별 사용액')\n",
    "plt.xlabel('기준년월')\n",
    "plt.ylabel('사용액')\n",
    "\n",
    "# 레이아웃 조정\n",
    "plt.tight_layout()\n",
    "plt.show()"
   ]
  },
  {
   "cell_type": "markdown",
   "metadata": {},
   "source": [
    "---"
   ]
  },
  {
   "cell_type": "markdown",
   "metadata": {},
   "source": [
    "## 총신규가입자수 추이 시각화\n"
   ]
  },
  {
   "cell_type": "markdown",
   "metadata": {},
   "source": [
    "- 군집화 주요 변수인 신규가입자수의 시군별 추이를 확인한다"
   ]
  },
  {
   "cell_type": "code",
   "execution_count": 34,
   "metadata": {},
   "outputs": [],
   "source": [
    "df_group1_12 = Data2.groupby(['시군명', '기준연도'], as_index=False) \\\n",
    "              .agg(totalPay=('월별사용액(만원)', 'sum'), \n",
    "                   totalNewSubscribers=('월별신규가입자수(명)', 'sum')) \\\n",
    "             "
   ]
  },
  {
   "cell_type": "code",
   "execution_count": 35,
   "metadata": {},
   "outputs": [
    {
     "data": {
      "application/vnd.plotly.v1+json": {
       "config": {
        "plotlyServerURL": "https://plot.ly"
       },
       "data": [
        {
         "hovertemplate": "시군명=가평군<br>기준연도=%{x}<br>totalNewSubscribers=%{y}<extra></extra>",
         "legendgroup": "가평군",
         "line": {
          "color": "#636efa",
          "dash": "solid",
          "shape": "linear"
         },
         "marker": {
          "symbol": "circle"
         },
         "mode": "lines+markers",
         "name": "가평군",
         "orientation": "v",
         "showlegend": true,
         "type": "scatter",
         "x": [
          2021,
          2022,
          2023
         ],
         "xaxis": "x",
         "y": [
          13043,
          8291,
          10557
         ],
         "yaxis": "y"
        },
        {
         "hovertemplate": "시군명=고양시<br>기준연도=%{x}<br>totalNewSubscribers=%{y}<extra></extra>",
         "legendgroup": "고양시",
         "line": {
          "color": "#EF553B",
          "dash": "solid",
          "shape": "linear"
         },
         "marker": {
          "symbol": "circle"
         },
         "mode": "lines+markers",
         "name": "고양시",
         "orientation": "v",
         "showlegend": true,
         "type": "scatter",
         "x": [
          2021,
          2022,
          2023
         ],
         "xaxis": "x",
         "y": [
          201819,
          70179,
          45931
         ],
         "yaxis": "y"
        },
        {
         "hovertemplate": "시군명=과천시<br>기준연도=%{x}<br>totalNewSubscribers=%{y}<extra></extra>",
         "legendgroup": "과천시",
         "line": {
          "color": "#00cc96",
          "dash": "solid",
          "shape": "linear"
         },
         "marker": {
          "symbol": "circle"
         },
         "mode": "lines+markers",
         "name": "과천시",
         "orientation": "v",
         "showlegend": true,
         "type": "scatter",
         "x": [
          2021,
          2022,
          2023
         ],
         "xaxis": "x",
         "y": [
          20897,
          25607,
          8579
         ],
         "yaxis": "y"
        },
        {
         "hovertemplate": "시군명=광명시<br>기준연도=%{x}<br>totalNewSubscribers=%{y}<extra></extra>",
         "legendgroup": "광명시",
         "line": {
          "color": "#ab63fa",
          "dash": "solid",
          "shape": "linear"
         },
         "marker": {
          "symbol": "circle"
         },
         "mode": "lines+markers",
         "name": "광명시",
         "orientation": "v",
         "showlegend": true,
         "type": "scatter",
         "x": [
          2021,
          2022,
          2023
         ],
         "xaxis": "x",
         "y": [
          66295,
          27420,
          61939
         ],
         "yaxis": "y"
        },
        {
         "hovertemplate": "시군명=광주시<br>기준연도=%{x}<br>totalNewSubscribers=%{y}<extra></extra>",
         "legendgroup": "광주시",
         "line": {
          "color": "#FFA15A",
          "dash": "solid",
          "shape": "linear"
         },
         "marker": {
          "symbol": "circle"
         },
         "mode": "lines+markers",
         "name": "광주시",
         "orientation": "v",
         "showlegend": true,
         "type": "scatter",
         "x": [
          2021,
          2022,
          2023
         ],
         "xaxis": "x",
         "y": [
          158752,
          28816,
          22055
         ],
         "yaxis": "y"
        },
        {
         "hovertemplate": "시군명=구리시<br>기준연도=%{x}<br>totalNewSubscribers=%{y}<extra></extra>",
         "legendgroup": "구리시",
         "line": {
          "color": "#19d3f3",
          "dash": "solid",
          "shape": "linear"
         },
         "marker": {
          "symbol": "circle"
         },
         "mode": "lines+markers",
         "name": "구리시",
         "orientation": "v",
         "showlegend": true,
         "type": "scatter",
         "x": [
          2021,
          2022,
          2023
         ],
         "xaxis": "x",
         "y": [
          37405,
          44064,
          20052
         ],
         "yaxis": "y"
        },
        {
         "hovertemplate": "시군명=군포시<br>기준연도=%{x}<br>totalNewSubscribers=%{y}<extra></extra>",
         "legendgroup": "군포시",
         "line": {
          "color": "#FF6692",
          "dash": "solid",
          "shape": "linear"
         },
         "marker": {
          "symbol": "circle"
         },
         "mode": "lines+markers",
         "name": "군포시",
         "orientation": "v",
         "showlegend": true,
         "type": "scatter",
         "x": [
          2021,
          2022,
          2023
         ],
         "xaxis": "x",
         "y": [
          63821,
          30674,
          20431
         ],
         "yaxis": "y"
        },
        {
         "hovertemplate": "시군명=김포시<br>기준연도=%{x}<br>totalNewSubscribers=%{y}<extra></extra>",
         "legendgroup": "김포시",
         "line": {
          "color": "#B6E880",
          "dash": "solid",
          "shape": "linear"
         },
         "marker": {
          "symbol": "circle"
         },
         "mode": "lines+markers",
         "name": "김포시",
         "orientation": "v",
         "showlegend": true,
         "type": "scatter",
         "x": [
          2021,
          2022,
          2023
         ],
         "xaxis": "x",
         "y": [
          94922.21428571429,
          38168.357142857145,
          38361.10810810811
         ],
         "yaxis": "y"
        },
        {
         "hovertemplate": "시군명=남양주시<br>기준연도=%{x}<br>totalNewSubscribers=%{y}<extra></extra>",
         "legendgroup": "남양주시",
         "line": {
          "color": "#FF97FF",
          "dash": "solid",
          "shape": "linear"
         },
         "marker": {
          "symbol": "circle"
         },
         "mode": "lines+markers",
         "name": "남양주시",
         "orientation": "v",
         "showlegend": true,
         "type": "scatter",
         "x": [
          2021,
          2022,
          2023
         ],
         "xaxis": "x",
         "y": [
          129478,
          54093,
          55411
         ],
         "yaxis": "y"
        },
        {
         "hovertemplate": "시군명=동두천시<br>기준연도=%{x}<br>totalNewSubscribers=%{y}<extra></extra>",
         "legendgroup": "동두천시",
         "line": {
          "color": "#FECB52",
          "dash": "solid",
          "shape": "linear"
         },
         "marker": {
          "symbol": "circle"
         },
         "mode": "lines+markers",
         "name": "동두천시",
         "orientation": "v",
         "showlegend": true,
         "type": "scatter",
         "x": [
          2021,
          2022,
          2023
         ],
         "xaxis": "x",
         "y": [
          19267,
          9691,
          5964
         ],
         "yaxis": "y"
        },
        {
         "hovertemplate": "시군명=부천시<br>기준연도=%{x}<br>totalNewSubscribers=%{y}<extra></extra>",
         "legendgroup": "부천시",
         "line": {
          "color": "#636efa",
          "dash": "solid",
          "shape": "linear"
         },
         "marker": {
          "symbol": "circle"
         },
         "mode": "lines+markers",
         "name": "부천시",
         "orientation": "v",
         "showlegend": true,
         "type": "scatter",
         "x": [
          2021,
          2022,
          2023
         ],
         "xaxis": "x",
         "y": [
          180770,
          62090,
          48938
         ],
         "yaxis": "y"
        },
        {
         "hovertemplate": "시군명=성남시<br>기준연도=%{x}<br>totalNewSubscribers=%{y}<extra></extra>",
         "legendgroup": "성남시",
         "line": {
          "color": "#EF553B",
          "dash": "solid",
          "shape": "linear"
         },
         "marker": {
          "symbol": "circle"
         },
         "mode": "lines+markers",
         "name": "성남시",
         "orientation": "v",
         "showlegend": true,
         "type": "scatter",
         "x": [
          2021,
          2022,
          2023
         ],
         "xaxis": "x",
         "y": [
          94922.21428571429,
          38168.357142857145,
          90012
         ],
         "yaxis": "y"
        },
        {
         "hovertemplate": "시군명=수원시<br>기준연도=%{x}<br>totalNewSubscribers=%{y}<extra></extra>",
         "legendgroup": "수원시",
         "line": {
          "color": "#00cc96",
          "dash": "solid",
          "shape": "linear"
         },
         "marker": {
          "symbol": "circle"
         },
         "mode": "lines+markers",
         "name": "수원시",
         "orientation": "v",
         "showlegend": true,
         "type": "scatter",
         "x": [
          2021,
          2022,
          2023
         ],
         "xaxis": "x",
         "y": [
          238658,
          98489,
          83697
         ],
         "yaxis": "y"
        },
        {
         "hovertemplate": "시군명=시흥시<br>기준연도=%{x}<br>totalNewSubscribers=%{y}<extra></extra>",
         "legendgroup": "시흥시",
         "line": {
          "color": "#ab63fa",
          "dash": "solid",
          "shape": "linear"
         },
         "marker": {
          "symbol": "circle"
         },
         "mode": "lines+markers",
         "name": "시흥시",
         "orientation": "v",
         "showlegend": true,
         "type": "scatter",
         "x": [
          2021,
          2022,
          2023
         ],
         "xaxis": "x",
         "y": [
          94922.21428571429,
          38168.357142857145,
          38896
         ],
         "yaxis": "y"
        },
        {
         "hovertemplate": "시군명=안산시<br>기준연도=%{x}<br>totalNewSubscribers=%{y}<extra></extra>",
         "legendgroup": "안산시",
         "line": {
          "color": "#FFA15A",
          "dash": "solid",
          "shape": "linear"
         },
         "marker": {
          "symbol": "circle"
         },
         "mode": "lines+markers",
         "name": "안산시",
         "orientation": "v",
         "showlegend": true,
         "type": "scatter",
         "x": [
          2021,
          2022,
          2023
         ],
         "xaxis": "x",
         "y": [
          151781,
          59864,
          35667
         ],
         "yaxis": "y"
        },
        {
         "hovertemplate": "시군명=안성시<br>기준연도=%{x}<br>totalNewSubscribers=%{y}<extra></extra>",
         "legendgroup": "안성시",
         "line": {
          "color": "#19d3f3",
          "dash": "solid",
          "shape": "linear"
         },
         "marker": {
          "symbol": "circle"
         },
         "mode": "lines+markers",
         "name": "안성시",
         "orientation": "v",
         "showlegend": true,
         "type": "scatter",
         "x": [
          2021,
          2022,
          2023
         ],
         "xaxis": "x",
         "y": [
          75732,
          15975,
          37475
         ],
         "yaxis": "y"
        },
        {
         "hovertemplate": "시군명=안양시<br>기준연도=%{x}<br>totalNewSubscribers=%{y}<extra></extra>",
         "legendgroup": "안양시",
         "line": {
          "color": "#FF6692",
          "dash": "solid",
          "shape": "linear"
         },
         "marker": {
          "symbol": "circle"
         },
         "mode": "lines+markers",
         "name": "안양시",
         "orientation": "v",
         "showlegend": true,
         "type": "scatter",
         "x": [
          2021,
          2022,
          2023
         ],
         "xaxis": "x",
         "y": [
          133984,
          60344,
          169450
         ],
         "yaxis": "y"
        },
        {
         "hovertemplate": "시군명=양주시<br>기준연도=%{x}<br>totalNewSubscribers=%{y}<extra></extra>",
         "legendgroup": "양주시",
         "line": {
          "color": "#B6E880",
          "dash": "solid",
          "shape": "linear"
         },
         "marker": {
          "symbol": "circle"
         },
         "mode": "lines+markers",
         "name": "양주시",
         "orientation": "v",
         "showlegend": true,
         "type": "scatter",
         "x": [
          2021,
          2022,
          2023
         ],
         "xaxis": "x",
         "y": [
          41953,
          18289,
          21129
         ],
         "yaxis": "y"
        },
        {
         "hovertemplate": "시군명=양평군<br>기준연도=%{x}<br>totalNewSubscribers=%{y}<extra></extra>",
         "legendgroup": "양평군",
         "line": {
          "color": "#FF97FF",
          "dash": "solid",
          "shape": "linear"
         },
         "marker": {
          "symbol": "circle"
         },
         "mode": "lines+markers",
         "name": "양평군",
         "orientation": "v",
         "showlegend": true,
         "type": "scatter",
         "x": [
          2021,
          2022,
          2023
         ],
         "xaxis": "x",
         "y": [
          30767,
          17991,
          13199
         ],
         "yaxis": "y"
        },
        {
         "hovertemplate": "시군명=여주시<br>기준연도=%{x}<br>totalNewSubscribers=%{y}<extra></extra>",
         "legendgroup": "여주시",
         "line": {
          "color": "#FECB52",
          "dash": "solid",
          "shape": "linear"
         },
         "marker": {
          "symbol": "circle"
         },
         "mode": "lines+markers",
         "name": "여주시",
         "orientation": "v",
         "showlegend": true,
         "type": "scatter",
         "x": [
          2021,
          2022,
          2023
         ],
         "xaxis": "x",
         "y": [
          24596,
          13128,
          10330
         ],
         "yaxis": "y"
        },
        {
         "hovertemplate": "시군명=연천군<br>기준연도=%{x}<br>totalNewSubscribers=%{y}<extra></extra>",
         "legendgroup": "연천군",
         "line": {
          "color": "#636efa",
          "dash": "solid",
          "shape": "linear"
         },
         "marker": {
          "symbol": "circle"
         },
         "mode": "lines+markers",
         "name": "연천군",
         "orientation": "v",
         "showlegend": true,
         "type": "scatter",
         "x": [
          2021,
          2022,
          2023
         ],
         "xaxis": "x",
         "y": [
          8394,
          7911,
          6553
         ],
         "yaxis": "y"
        },
        {
         "hovertemplate": "시군명=오산시<br>기준연도=%{x}<br>totalNewSubscribers=%{y}<extra></extra>",
         "legendgroup": "오산시",
         "line": {
          "color": "#EF553B",
          "dash": "solid",
          "shape": "linear"
         },
         "marker": {
          "symbol": "circle"
         },
         "mode": "lines+markers",
         "name": "오산시",
         "orientation": "v",
         "showlegend": true,
         "type": "scatter",
         "x": [
          2021,
          2022,
          2023
         ],
         "xaxis": "x",
         "y": [
          55571,
          19948,
          14725
         ],
         "yaxis": "y"
        },
        {
         "hovertemplate": "시군명=용인시<br>기준연도=%{x}<br>totalNewSubscribers=%{y}<extra></extra>",
         "legendgroup": "용인시",
         "line": {
          "color": "#00cc96",
          "dash": "solid",
          "shape": "linear"
         },
         "marker": {
          "symbol": "circle"
         },
         "mode": "lines+markers",
         "name": "용인시",
         "orientation": "v",
         "showlegend": true,
         "type": "scatter",
         "x": [
          2021,
          2022,
          2023
         ],
         "xaxis": "x",
         "y": [
          206404,
          88399,
          79225
         ],
         "yaxis": "y"
        },
        {
         "hovertemplate": "시군명=의왕시<br>기준연도=%{x}<br>totalNewSubscribers=%{y}<extra></extra>",
         "legendgroup": "의왕시",
         "line": {
          "color": "#ab63fa",
          "dash": "solid",
          "shape": "linear"
         },
         "marker": {
          "symbol": "circle"
         },
         "mode": "lines+markers",
         "name": "의왕시",
         "orientation": "v",
         "showlegend": true,
         "type": "scatter",
         "x": [
          2021,
          2022,
          2023
         ],
         "xaxis": "x",
         "y": [
          44749,
          22667,
          13142
         ],
         "yaxis": "y"
        },
        {
         "hovertemplate": "시군명=의정부시<br>기준연도=%{x}<br>totalNewSubscribers=%{y}<extra></extra>",
         "legendgroup": "의정부시",
         "line": {
          "color": "#FFA15A",
          "dash": "solid",
          "shape": "linear"
         },
         "marker": {
          "symbol": "circle"
         },
         "mode": "lines+markers",
         "name": "의정부시",
         "orientation": "v",
         "showlegend": true,
         "type": "scatter",
         "x": [
          2021,
          2022,
          2023
         ],
         "xaxis": "x",
         "y": [
          95127,
          34617,
          19815
         ],
         "yaxis": "y"
        },
        {
         "hovertemplate": "시군명=이천시<br>기준연도=%{x}<br>totalNewSubscribers=%{y}<extra></extra>",
         "legendgroup": "이천시",
         "line": {
          "color": "#19d3f3",
          "dash": "solid",
          "shape": "linear"
         },
         "marker": {
          "symbol": "circle"
         },
         "mode": "lines+markers",
         "name": "이천시",
         "orientation": "v",
         "showlegend": true,
         "type": "scatter",
         "x": [
          2021,
          2022,
          2023
         ],
         "xaxis": "x",
         "y": [
          108551,
          20412,
          17951
         ],
         "yaxis": "y"
        },
        {
         "hovertemplate": "시군명=파주시<br>기준연도=%{x}<br>totalNewSubscribers=%{y}<extra></extra>",
         "legendgroup": "파주시",
         "line": {
          "color": "#FF6692",
          "dash": "solid",
          "shape": "linear"
         },
         "marker": {
          "symbol": "circle"
         },
         "mode": "lines+markers",
         "name": "파주시",
         "orientation": "v",
         "showlegend": true,
         "type": "scatter",
         "x": [
          2021,
          2022,
          2023
         ],
         "xaxis": "x",
         "y": [
          109795,
          41804,
          108008
         ],
         "yaxis": "y"
        },
        {
         "hovertemplate": "시군명=평택시<br>기준연도=%{x}<br>totalNewSubscribers=%{y}<extra></extra>",
         "legendgroup": "평택시",
         "line": {
          "color": "#B6E880",
          "dash": "solid",
          "shape": "linear"
         },
         "marker": {
          "symbol": "circle"
         },
         "mode": "lines+markers",
         "name": "평택시",
         "orientation": "v",
         "showlegend": true,
         "type": "scatter",
         "x": [
          2021,
          2022,
          2023
         ],
         "xaxis": "x",
         "y": [
          147977,
          56475,
          110882
         ],
         "yaxis": "y"
        },
        {
         "hovertemplate": "시군명=포천시<br>기준연도=%{x}<br>totalNewSubscribers=%{y}<extra></extra>",
         "legendgroup": "포천시",
         "line": {
          "color": "#FF97FF",
          "dash": "solid",
          "shape": "linear"
         },
         "marker": {
          "symbol": "circle"
         },
         "mode": "lines+markers",
         "name": "포천시",
         "orientation": "v",
         "showlegend": true,
         "type": "scatter",
         "x": [
          2021,
          2022,
          2023
         ],
         "xaxis": "x",
         "y": [
          47737,
          15076,
          10285
         ],
         "yaxis": "y"
        },
        {
         "hovertemplate": "시군명=하남시<br>기준연도=%{x}<br>totalNewSubscribers=%{y}<extra></extra>",
         "legendgroup": "하남시",
         "line": {
          "color": "#FECB52",
          "dash": "solid",
          "shape": "linear"
         },
         "marker": {
          "symbol": "circle"
         },
         "mode": "lines+markers",
         "name": "하남시",
         "orientation": "v",
         "showlegend": true,
         "type": "scatter",
         "x": [
          2021,
          2022,
          2023
         ],
         "xaxis": "x",
         "y": [
          76534,
          46277,
          29096
         ],
         "yaxis": "y"
        },
        {
         "hovertemplate": "시군명=화성시<br>기준연도=%{x}<br>totalNewSubscribers=%{y}<extra></extra>",
         "legendgroup": "화성시",
         "line": {
          "color": "#636efa",
          "dash": "solid",
          "shape": "linear"
         },
         "marker": {
          "symbol": "circle"
         },
         "mode": "lines+markers",
         "name": "화성시",
         "orientation": "v",
         "showlegend": true,
         "type": "scatter",
         "x": [
          2021,
          2022,
          2023
         ],
         "xaxis": "x",
         "y": [
          167965,
          70123,
          90907
         ],
         "yaxis": "y"
        }
       ],
       "layout": {
        "legend": {
         "title": {
          "text": "시군명"
         },
         "tracegroupgap": 0
        },
        "template": {
         "data": {
          "bar": [
           {
            "error_x": {
             "color": "#2a3f5f"
            },
            "error_y": {
             "color": "#2a3f5f"
            },
            "marker": {
             "line": {
              "color": "white",
              "width": 0.5
             },
             "pattern": {
              "fillmode": "overlay",
              "size": 10,
              "solidity": 0.2
             }
            },
            "type": "bar"
           }
          ],
          "barpolar": [
           {
            "marker": {
             "line": {
              "color": "white",
              "width": 0.5
             },
             "pattern": {
              "fillmode": "overlay",
              "size": 10,
              "solidity": 0.2
             }
            },
            "type": "barpolar"
           }
          ],
          "carpet": [
           {
            "aaxis": {
             "endlinecolor": "#2a3f5f",
             "gridcolor": "#C8D4E3",
             "linecolor": "#C8D4E3",
             "minorgridcolor": "#C8D4E3",
             "startlinecolor": "#2a3f5f"
            },
            "baxis": {
             "endlinecolor": "#2a3f5f",
             "gridcolor": "#C8D4E3",
             "linecolor": "#C8D4E3",
             "minorgridcolor": "#C8D4E3",
             "startlinecolor": "#2a3f5f"
            },
            "type": "carpet"
           }
          ],
          "choropleth": [
           {
            "colorbar": {
             "outlinewidth": 0,
             "ticks": ""
            },
            "type": "choropleth"
           }
          ],
          "contour": [
           {
            "colorbar": {
             "outlinewidth": 0,
             "ticks": ""
            },
            "colorscale": [
             [
              0,
              "#0d0887"
             ],
             [
              0.1111111111111111,
              "#46039f"
             ],
             [
              0.2222222222222222,
              "#7201a8"
             ],
             [
              0.3333333333333333,
              "#9c179e"
             ],
             [
              0.4444444444444444,
              "#bd3786"
             ],
             [
              0.5555555555555556,
              "#d8576b"
             ],
             [
              0.6666666666666666,
              "#ed7953"
             ],
             [
              0.7777777777777778,
              "#fb9f3a"
             ],
             [
              0.8888888888888888,
              "#fdca26"
             ],
             [
              1,
              "#f0f921"
             ]
            ],
            "type": "contour"
           }
          ],
          "contourcarpet": [
           {
            "colorbar": {
             "outlinewidth": 0,
             "ticks": ""
            },
            "type": "contourcarpet"
           }
          ],
          "heatmap": [
           {
            "colorbar": {
             "outlinewidth": 0,
             "ticks": ""
            },
            "colorscale": [
             [
              0,
              "#0d0887"
             ],
             [
              0.1111111111111111,
              "#46039f"
             ],
             [
              0.2222222222222222,
              "#7201a8"
             ],
             [
              0.3333333333333333,
              "#9c179e"
             ],
             [
              0.4444444444444444,
              "#bd3786"
             ],
             [
              0.5555555555555556,
              "#d8576b"
             ],
             [
              0.6666666666666666,
              "#ed7953"
             ],
             [
              0.7777777777777778,
              "#fb9f3a"
             ],
             [
              0.8888888888888888,
              "#fdca26"
             ],
             [
              1,
              "#f0f921"
             ]
            ],
            "type": "heatmap"
           }
          ],
          "heatmapgl": [
           {
            "colorbar": {
             "outlinewidth": 0,
             "ticks": ""
            },
            "colorscale": [
             [
              0,
              "#0d0887"
             ],
             [
              0.1111111111111111,
              "#46039f"
             ],
             [
              0.2222222222222222,
              "#7201a8"
             ],
             [
              0.3333333333333333,
              "#9c179e"
             ],
             [
              0.4444444444444444,
              "#bd3786"
             ],
             [
              0.5555555555555556,
              "#d8576b"
             ],
             [
              0.6666666666666666,
              "#ed7953"
             ],
             [
              0.7777777777777778,
              "#fb9f3a"
             ],
             [
              0.8888888888888888,
              "#fdca26"
             ],
             [
              1,
              "#f0f921"
             ]
            ],
            "type": "heatmapgl"
           }
          ],
          "histogram": [
           {
            "marker": {
             "pattern": {
              "fillmode": "overlay",
              "size": 10,
              "solidity": 0.2
             }
            },
            "type": "histogram"
           }
          ],
          "histogram2d": [
           {
            "colorbar": {
             "outlinewidth": 0,
             "ticks": ""
            },
            "colorscale": [
             [
              0,
              "#0d0887"
             ],
             [
              0.1111111111111111,
              "#46039f"
             ],
             [
              0.2222222222222222,
              "#7201a8"
             ],
             [
              0.3333333333333333,
              "#9c179e"
             ],
             [
              0.4444444444444444,
              "#bd3786"
             ],
             [
              0.5555555555555556,
              "#d8576b"
             ],
             [
              0.6666666666666666,
              "#ed7953"
             ],
             [
              0.7777777777777778,
              "#fb9f3a"
             ],
             [
              0.8888888888888888,
              "#fdca26"
             ],
             [
              1,
              "#f0f921"
             ]
            ],
            "type": "histogram2d"
           }
          ],
          "histogram2dcontour": [
           {
            "colorbar": {
             "outlinewidth": 0,
             "ticks": ""
            },
            "colorscale": [
             [
              0,
              "#0d0887"
             ],
             [
              0.1111111111111111,
              "#46039f"
             ],
             [
              0.2222222222222222,
              "#7201a8"
             ],
             [
              0.3333333333333333,
              "#9c179e"
             ],
             [
              0.4444444444444444,
              "#bd3786"
             ],
             [
              0.5555555555555556,
              "#d8576b"
             ],
             [
              0.6666666666666666,
              "#ed7953"
             ],
             [
              0.7777777777777778,
              "#fb9f3a"
             ],
             [
              0.8888888888888888,
              "#fdca26"
             ],
             [
              1,
              "#f0f921"
             ]
            ],
            "type": "histogram2dcontour"
           }
          ],
          "mesh3d": [
           {
            "colorbar": {
             "outlinewidth": 0,
             "ticks": ""
            },
            "type": "mesh3d"
           }
          ],
          "parcoords": [
           {
            "line": {
             "colorbar": {
              "outlinewidth": 0,
              "ticks": ""
             }
            },
            "type": "parcoords"
           }
          ],
          "pie": [
           {
            "automargin": true,
            "type": "pie"
           }
          ],
          "scatter": [
           {
            "fillpattern": {
             "fillmode": "overlay",
             "size": 10,
             "solidity": 0.2
            },
            "type": "scatter"
           }
          ],
          "scatter3d": [
           {
            "line": {
             "colorbar": {
              "outlinewidth": 0,
              "ticks": ""
             }
            },
            "marker": {
             "colorbar": {
              "outlinewidth": 0,
              "ticks": ""
             }
            },
            "type": "scatter3d"
           }
          ],
          "scattercarpet": [
           {
            "marker": {
             "colorbar": {
              "outlinewidth": 0,
              "ticks": ""
             }
            },
            "type": "scattercarpet"
           }
          ],
          "scattergeo": [
           {
            "marker": {
             "colorbar": {
              "outlinewidth": 0,
              "ticks": ""
             }
            },
            "type": "scattergeo"
           }
          ],
          "scattergl": [
           {
            "marker": {
             "colorbar": {
              "outlinewidth": 0,
              "ticks": ""
             }
            },
            "type": "scattergl"
           }
          ],
          "scattermapbox": [
           {
            "marker": {
             "colorbar": {
              "outlinewidth": 0,
              "ticks": ""
             }
            },
            "type": "scattermapbox"
           }
          ],
          "scatterpolar": [
           {
            "marker": {
             "colorbar": {
              "outlinewidth": 0,
              "ticks": ""
             }
            },
            "type": "scatterpolar"
           }
          ],
          "scatterpolargl": [
           {
            "marker": {
             "colorbar": {
              "outlinewidth": 0,
              "ticks": ""
             }
            },
            "type": "scatterpolargl"
           }
          ],
          "scatterternary": [
           {
            "marker": {
             "colorbar": {
              "outlinewidth": 0,
              "ticks": ""
             }
            },
            "type": "scatterternary"
           }
          ],
          "surface": [
           {
            "colorbar": {
             "outlinewidth": 0,
             "ticks": ""
            },
            "colorscale": [
             [
              0,
              "#0d0887"
             ],
             [
              0.1111111111111111,
              "#46039f"
             ],
             [
              0.2222222222222222,
              "#7201a8"
             ],
             [
              0.3333333333333333,
              "#9c179e"
             ],
             [
              0.4444444444444444,
              "#bd3786"
             ],
             [
              0.5555555555555556,
              "#d8576b"
             ],
             [
              0.6666666666666666,
              "#ed7953"
             ],
             [
              0.7777777777777778,
              "#fb9f3a"
             ],
             [
              0.8888888888888888,
              "#fdca26"
             ],
             [
              1,
              "#f0f921"
             ]
            ],
            "type": "surface"
           }
          ],
          "table": [
           {
            "cells": {
             "fill": {
              "color": "#EBF0F8"
             },
             "line": {
              "color": "white"
             }
            },
            "header": {
             "fill": {
              "color": "#C8D4E3"
             },
             "line": {
              "color": "white"
             }
            },
            "type": "table"
           }
          ]
         },
         "layout": {
          "annotationdefaults": {
           "arrowcolor": "#2a3f5f",
           "arrowhead": 0,
           "arrowwidth": 1
          },
          "autotypenumbers": "strict",
          "coloraxis": {
           "colorbar": {
            "outlinewidth": 0,
            "ticks": ""
           }
          },
          "colorscale": {
           "diverging": [
            [
             0,
             "#8e0152"
            ],
            [
             0.1,
             "#c51b7d"
            ],
            [
             0.2,
             "#de77ae"
            ],
            [
             0.3,
             "#f1b6da"
            ],
            [
             0.4,
             "#fde0ef"
            ],
            [
             0.5,
             "#f7f7f7"
            ],
            [
             0.6,
             "#e6f5d0"
            ],
            [
             0.7,
             "#b8e186"
            ],
            [
             0.8,
             "#7fbc41"
            ],
            [
             0.9,
             "#4d9221"
            ],
            [
             1,
             "#276419"
            ]
           ],
           "sequential": [
            [
             0,
             "#0d0887"
            ],
            [
             0.1111111111111111,
             "#46039f"
            ],
            [
             0.2222222222222222,
             "#7201a8"
            ],
            [
             0.3333333333333333,
             "#9c179e"
            ],
            [
             0.4444444444444444,
             "#bd3786"
            ],
            [
             0.5555555555555556,
             "#d8576b"
            ],
            [
             0.6666666666666666,
             "#ed7953"
            ],
            [
             0.7777777777777778,
             "#fb9f3a"
            ],
            [
             0.8888888888888888,
             "#fdca26"
            ],
            [
             1,
             "#f0f921"
            ]
           ],
           "sequentialminus": [
            [
             0,
             "#0d0887"
            ],
            [
             0.1111111111111111,
             "#46039f"
            ],
            [
             0.2222222222222222,
             "#7201a8"
            ],
            [
             0.3333333333333333,
             "#9c179e"
            ],
            [
             0.4444444444444444,
             "#bd3786"
            ],
            [
             0.5555555555555556,
             "#d8576b"
            ],
            [
             0.6666666666666666,
             "#ed7953"
            ],
            [
             0.7777777777777778,
             "#fb9f3a"
            ],
            [
             0.8888888888888888,
             "#fdca26"
            ],
            [
             1,
             "#f0f921"
            ]
           ]
          },
          "colorway": [
           "#636efa",
           "#EF553B",
           "#00cc96",
           "#ab63fa",
           "#FFA15A",
           "#19d3f3",
           "#FF6692",
           "#B6E880",
           "#FF97FF",
           "#FECB52"
          ],
          "font": {
           "color": "#2a3f5f"
          },
          "geo": {
           "bgcolor": "white",
           "lakecolor": "white",
           "landcolor": "white",
           "showlakes": true,
           "showland": true,
           "subunitcolor": "#C8D4E3"
          },
          "hoverlabel": {
           "align": "left"
          },
          "hovermode": "closest",
          "mapbox": {
           "style": "light"
          },
          "paper_bgcolor": "white",
          "plot_bgcolor": "white",
          "polar": {
           "angularaxis": {
            "gridcolor": "#EBF0F8",
            "linecolor": "#EBF0F8",
            "ticks": ""
           },
           "bgcolor": "white",
           "radialaxis": {
            "gridcolor": "#EBF0F8",
            "linecolor": "#EBF0F8",
            "ticks": ""
           }
          },
          "scene": {
           "xaxis": {
            "backgroundcolor": "white",
            "gridcolor": "#DFE8F3",
            "gridwidth": 2,
            "linecolor": "#EBF0F8",
            "showbackground": true,
            "ticks": "",
            "zerolinecolor": "#EBF0F8"
           },
           "yaxis": {
            "backgroundcolor": "white",
            "gridcolor": "#DFE8F3",
            "gridwidth": 2,
            "linecolor": "#EBF0F8",
            "showbackground": true,
            "ticks": "",
            "zerolinecolor": "#EBF0F8"
           },
           "zaxis": {
            "backgroundcolor": "white",
            "gridcolor": "#DFE8F3",
            "gridwidth": 2,
            "linecolor": "#EBF0F8",
            "showbackground": true,
            "ticks": "",
            "zerolinecolor": "#EBF0F8"
           }
          },
          "shapedefaults": {
           "line": {
            "color": "#2a3f5f"
           }
          },
          "ternary": {
           "aaxis": {
            "gridcolor": "#DFE8F3",
            "linecolor": "#A2B1C6",
            "ticks": ""
           },
           "baxis": {
            "gridcolor": "#DFE8F3",
            "linecolor": "#A2B1C6",
            "ticks": ""
           },
           "bgcolor": "white",
           "caxis": {
            "gridcolor": "#DFE8F3",
            "linecolor": "#A2B1C6",
            "ticks": ""
           }
          },
          "title": {
           "x": 0.05
          },
          "xaxis": {
           "automargin": true,
           "gridcolor": "#EBF0F8",
           "linecolor": "#EBF0F8",
           "ticks": "",
           "title": {
            "standoff": 15
           },
           "zerolinecolor": "#EBF0F8",
           "zerolinewidth": 2
          },
          "yaxis": {
           "automargin": true,
           "gridcolor": "#EBF0F8",
           "linecolor": "#EBF0F8",
           "ticks": "",
           "title": {
            "standoff": 15
           },
           "zerolinecolor": "#EBF0F8",
           "zerolinewidth": 2
          }
         }
        },
        "title": {
         "text": "시군별 신규가입자수 추이"
        },
        "xaxis": {
         "anchor": "y",
         "domain": [
          0,
          1
         ],
         "tickvals": [
          2021,
          2022,
          2023
         ],
         "title": {
          "text": "기준연도"
         }
        },
        "yaxis": {
         "anchor": "x",
         "domain": [
          0,
          1
         ],
         "tickformat": ",",
         "title": {
          "text": "신규가입자수"
         }
        }
       }
      }
     },
     "metadata": {},
     "output_type": "display_data"
    }
   ],
   "source": [
    "import pandas as pd\n",
    "import seaborn as sns\n",
    "import matplotlib.pyplot as plt\n",
    "import plotly.express as px\n",
    "\n",
    "plt.rcParams.update({'font.family' : 'Malgun Gothic'}) \n",
    "from matplotlib.ticker import ScalarFormatter\n",
    "fig = px.line(data_frame=df_group1_12, x='기준연도', y='totalNewSubscribers', color='시군명', markers=True, line_shape='linear', title='시군별 신규가입자수 추이')\n",
    "fig.update_layout(\n",
    "    yaxis_tickformat=',',  # 천 단위 구분 기호를 추가\n",
    "    xaxis_title='기준연도',\n",
    "    yaxis_title='신규가입자수',\n",
    "    legend_title='시군명',\n",
    "    title='시군별 신규가입자수 추이',\n",
    "    template='plotly_white'\n",
    ")\n",
    "# X축 눈금 설정 (고유 기준연도 값으로 설정)\n",
    "fig.update_xaxes(tickvals=df_group1_12['기준연도'].unique())\n"
   ]
  },
  {
   "cell_type": "markdown",
   "metadata": {},
   "source": [
    "-------\n"
   ]
  },
  {
   "cell_type": "markdown",
   "metadata": {},
   "source": [
    "## 각 변수(신규가입자,충전금액) 의 변화율 정도를 확인하여 위 2개의 변수가 우리의 목표지표(KPI)에 반영될 정도를 판단한다(가중치판단)"
   ]
  },
  {
   "cell_type": "markdown",
   "metadata": {},
   "source": [
    "### 시군별 신규가입자수 충전금액 변화율 보기"
   ]
  },
  {
   "cell_type": "markdown",
   "metadata": {},
   "source": [
    "- "
   ]
  },
  {
   "cell_type": "code",
   "execution_count": 66,
   "metadata": {},
   "outputs": [],
   "source": [
    "df2_group_sgy = Data2.groupby(['시군명', '기준연도'], as_index=False) \\\n",
    "              .agg(총충전금액=('월별사용액(만원)', 'sum'), \n",
    "                   총신규가입자수=('월별신규가입자수(명)', 'sum')) \\\n",
    "               .sort_values('총신규가입자수',ascending=False)\n",
    "              "
   ]
  },
  {
   "cell_type": "code",
   "execution_count": 67,
   "metadata": {},
   "outputs": [
    {
     "data": {
      "text/html": [
       "<div>\n",
       "<style scoped>\n",
       "    .dataframe tbody tr th:only-of-type {\n",
       "        vertical-align: middle;\n",
       "    }\n",
       "\n",
       "    .dataframe tbody tr th {\n",
       "        vertical-align: top;\n",
       "    }\n",
       "\n",
       "    .dataframe thead th {\n",
       "        text-align: right;\n",
       "    }\n",
       "</style>\n",
       "<table border=\"1\" class=\"dataframe\">\n",
       "  <thead>\n",
       "    <tr style=\"text-align: right;\">\n",
       "      <th></th>\n",
       "      <th>시군명</th>\n",
       "      <th>기준연도</th>\n",
       "      <th>총충전금액</th>\n",
       "      <th>총신규가입자수</th>\n",
       "    </tr>\n",
       "  </thead>\n",
       "  <tbody>\n",
       "    <tr>\n",
       "      <th>36</th>\n",
       "      <td>수원시</td>\n",
       "      <td>2021</td>\n",
       "      <td>32086696.0</td>\n",
       "      <td>238658.0</td>\n",
       "    </tr>\n",
       "    <tr>\n",
       "      <th>66</th>\n",
       "      <td>용인시</td>\n",
       "      <td>2021</td>\n",
       "      <td>28349528.0</td>\n",
       "      <td>206404.0</td>\n",
       "    </tr>\n",
       "    <tr>\n",
       "      <th>3</th>\n",
       "      <td>고양시</td>\n",
       "      <td>2021</td>\n",
       "      <td>22776329.0</td>\n",
       "      <td>201819.0</td>\n",
       "    </tr>\n",
       "    <tr>\n",
       "      <th>30</th>\n",
       "      <td>부천시</td>\n",
       "      <td>2021</td>\n",
       "      <td>24694265.0</td>\n",
       "      <td>180770.0</td>\n",
       "    </tr>\n",
       "    <tr>\n",
       "      <th>50</th>\n",
       "      <td>안양시</td>\n",
       "      <td>2023</td>\n",
       "      <td>26560800.0</td>\n",
       "      <td>169450.0</td>\n",
       "    </tr>\n",
       "    <tr>\n",
       "      <th>...</th>\n",
       "      <td>...</td>\n",
       "      <td>...</td>\n",
       "      <td>...</td>\n",
       "      <td>...</td>\n",
       "    </tr>\n",
       "    <tr>\n",
       "      <th>60</th>\n",
       "      <td>연천군</td>\n",
       "      <td>2021</td>\n",
       "      <td>1239240.0</td>\n",
       "      <td>8394.0</td>\n",
       "    </tr>\n",
       "    <tr>\n",
       "      <th>1</th>\n",
       "      <td>가평군</td>\n",
       "      <td>2022</td>\n",
       "      <td>3729533.0</td>\n",
       "      <td>8291.0</td>\n",
       "    </tr>\n",
       "    <tr>\n",
       "      <th>61</th>\n",
       "      <td>연천군</td>\n",
       "      <td>2022</td>\n",
       "      <td>2143581.0</td>\n",
       "      <td>7911.0</td>\n",
       "    </tr>\n",
       "    <tr>\n",
       "      <th>62</th>\n",
       "      <td>연천군</td>\n",
       "      <td>2023</td>\n",
       "      <td>2279700.0</td>\n",
       "      <td>6553.0</td>\n",
       "    </tr>\n",
       "    <tr>\n",
       "      <th>29</th>\n",
       "      <td>동두천시</td>\n",
       "      <td>2023</td>\n",
       "      <td>2345100.0</td>\n",
       "      <td>5964.0</td>\n",
       "    </tr>\n",
       "  </tbody>\n",
       "</table>\n",
       "<p>93 rows × 4 columns</p>\n",
       "</div>"
      ],
      "text/plain": [
       "     시군명  기준연도       총충전금액   총신규가입자수\n",
       "36   수원시  2021  32086696.0  238658.0\n",
       "66   용인시  2021  28349528.0  206404.0\n",
       "3    고양시  2021  22776329.0  201819.0\n",
       "30   부천시  2021  24694265.0  180770.0\n",
       "50   안양시  2023  26560800.0  169450.0\n",
       "..   ...   ...         ...       ...\n",
       "60   연천군  2021   1239240.0    8394.0\n",
       "1    가평군  2022   3729533.0    8291.0\n",
       "61   연천군  2022   2143581.0    7911.0\n",
       "62   연천군  2023   2279700.0    6553.0\n",
       "29  동두천시  2023   2345100.0    5964.0\n",
       "\n",
       "[93 rows x 4 columns]"
      ]
     },
     "execution_count": 67,
     "metadata": {},
     "output_type": "execute_result"
    }
   ],
   "source": [
    "df2_group_sgy"
   ]
  },
  {
   "cell_type": "markdown",
   "metadata": {},
   "source": [
    "- 변화율계산"
   ]
  },
  {
   "cell_type": "code",
   "execution_count": 69,
   "metadata": {},
   "outputs": [],
   "source": [
    "\n",
    "\n",
    "\n",
    "df2_group_sgy['총충전금액변화율'] = df2_group_sgy.groupby('시군명')['총충전금액'].pct_change() * 100\n",
    "df2_group_sgy['총신규가입자수변화율'] = df2_group_sgy.groupby('시군명')['총신규가입자수'].pct_change() * 100\n",
    "\n"
   ]
  },
  {
   "cell_type": "code",
   "execution_count": 70,
   "metadata": {},
   "outputs": [
    {
     "data": {
      "text/html": [
       "<div>\n",
       "<style scoped>\n",
       "    .dataframe tbody tr th:only-of-type {\n",
       "        vertical-align: middle;\n",
       "    }\n",
       "\n",
       "    .dataframe tbody tr th {\n",
       "        vertical-align: top;\n",
       "    }\n",
       "\n",
       "    .dataframe thead th {\n",
       "        text-align: right;\n",
       "    }\n",
       "</style>\n",
       "<table border=\"1\" class=\"dataframe\">\n",
       "  <thead>\n",
       "    <tr style=\"text-align: right;\">\n",
       "      <th></th>\n",
       "      <th>시군명</th>\n",
       "      <th>기준연도</th>\n",
       "      <th>총충전금액</th>\n",
       "      <th>총신규가입자수</th>\n",
       "      <th>총충전금액변화율</th>\n",
       "      <th>총신규가입자수변화율</th>\n",
       "    </tr>\n",
       "  </thead>\n",
       "  <tbody>\n",
       "    <tr>\n",
       "      <th>36</th>\n",
       "      <td>수원시</td>\n",
       "      <td>2021</td>\n",
       "      <td>32086696.0</td>\n",
       "      <td>238658.0</td>\n",
       "      <td>NaN</td>\n",
       "      <td>NaN</td>\n",
       "    </tr>\n",
       "    <tr>\n",
       "      <th>66</th>\n",
       "      <td>용인시</td>\n",
       "      <td>2021</td>\n",
       "      <td>28349528.0</td>\n",
       "      <td>206404.0</td>\n",
       "      <td>NaN</td>\n",
       "      <td>NaN</td>\n",
       "    </tr>\n",
       "    <tr>\n",
       "      <th>3</th>\n",
       "      <td>고양시</td>\n",
       "      <td>2021</td>\n",
       "      <td>22776329.0</td>\n",
       "      <td>201819.0</td>\n",
       "      <td>NaN</td>\n",
       "      <td>NaN</td>\n",
       "    </tr>\n",
       "    <tr>\n",
       "      <th>30</th>\n",
       "      <td>부천시</td>\n",
       "      <td>2021</td>\n",
       "      <td>24694265.0</td>\n",
       "      <td>180770.0</td>\n",
       "      <td>NaN</td>\n",
       "      <td>NaN</td>\n",
       "    </tr>\n",
       "    <tr>\n",
       "      <th>50</th>\n",
       "      <td>안양시</td>\n",
       "      <td>2023</td>\n",
       "      <td>26560800.0</td>\n",
       "      <td>169450.0</td>\n",
       "      <td>NaN</td>\n",
       "      <td>NaN</td>\n",
       "    </tr>\n",
       "    <tr>\n",
       "      <th>...</th>\n",
       "      <td>...</td>\n",
       "      <td>...</td>\n",
       "      <td>...</td>\n",
       "      <td>...</td>\n",
       "      <td>...</td>\n",
       "      <td>...</td>\n",
       "    </tr>\n",
       "    <tr>\n",
       "      <th>60</th>\n",
       "      <td>연천군</td>\n",
       "      <td>2021</td>\n",
       "      <td>1239240.0</td>\n",
       "      <td>8394.0</td>\n",
       "      <td>NaN</td>\n",
       "      <td>NaN</td>\n",
       "    </tr>\n",
       "    <tr>\n",
       "      <th>1</th>\n",
       "      <td>가평군</td>\n",
       "      <td>2022</td>\n",
       "      <td>3729533.0</td>\n",
       "      <td>8291.0</td>\n",
       "      <td>3.334063</td>\n",
       "      <td>-21.464431</td>\n",
       "    </tr>\n",
       "    <tr>\n",
       "      <th>61</th>\n",
       "      <td>연천군</td>\n",
       "      <td>2022</td>\n",
       "      <td>2143581.0</td>\n",
       "      <td>7911.0</td>\n",
       "      <td>72.975453</td>\n",
       "      <td>-5.754110</td>\n",
       "    </tr>\n",
       "    <tr>\n",
       "      <th>62</th>\n",
       "      <td>연천군</td>\n",
       "      <td>2023</td>\n",
       "      <td>2279700.0</td>\n",
       "      <td>6553.0</td>\n",
       "      <td>6.350075</td>\n",
       "      <td>-17.165971</td>\n",
       "    </tr>\n",
       "    <tr>\n",
       "      <th>29</th>\n",
       "      <td>동두천시</td>\n",
       "      <td>2023</td>\n",
       "      <td>2345100.0</td>\n",
       "      <td>5964.0</td>\n",
       "      <td>-20.259647</td>\n",
       "      <td>-38.458363</td>\n",
       "    </tr>\n",
       "  </tbody>\n",
       "</table>\n",
       "<p>93 rows × 6 columns</p>\n",
       "</div>"
      ],
      "text/plain": [
       "     시군명  기준연도       총충전금액   총신규가입자수   총충전금액변화율  총신규가입자수변화율\n",
       "36   수원시  2021  32086696.0  238658.0        NaN         NaN\n",
       "66   용인시  2021  28349528.0  206404.0        NaN         NaN\n",
       "3    고양시  2021  22776329.0  201819.0        NaN         NaN\n",
       "30   부천시  2021  24694265.0  180770.0        NaN         NaN\n",
       "50   안양시  2023  26560800.0  169450.0        NaN         NaN\n",
       "..   ...   ...         ...       ...        ...         ...\n",
       "60   연천군  2021   1239240.0    8394.0        NaN         NaN\n",
       "1    가평군  2022   3729533.0    8291.0   3.334063  -21.464431\n",
       "61   연천군  2022   2143581.0    7911.0  72.975453   -5.754110\n",
       "62   연천군  2023   2279700.0    6553.0   6.350075  -17.165971\n",
       "29  동두천시  2023   2345100.0    5964.0 -20.259647  -38.458363\n",
       "\n",
       "[93 rows x 6 columns]"
      ]
     },
     "execution_count": 70,
     "metadata": {},
     "output_type": "execute_result"
    }
   ],
   "source": [
    "df2_group_sgy"
   ]
  },
  {
   "cell_type": "markdown",
   "metadata": {},
   "source": []
  },
  {
   "cell_type": "markdown",
   "metadata": {},
   "source": [
    "- 신규가입자 변화율 시각화"
   ]
  },
  {
   "cell_type": "code",
   "execution_count": 85,
   "metadata": {},
   "outputs": [
    {
     "data": {
      "application/vnd.plotly.v1+json": {
       "config": {
        "plotlyServerURL": "https://plot.ly"
       },
       "data": [
        {
         "hovertemplate": "시군명=수원시<br>기준연도=%{x}<br>총신규가입자수변화율=%{y}<extra></extra>",
         "legendgroup": "수원시",
         "line": {
          "color": "#636efa",
          "dash": "solid",
          "shape": "linear"
         },
         "marker": {
          "symbol": "circle"
         },
         "mode": "lines+markers",
         "name": "수원시",
         "orientation": "v",
         "showlegend": true,
         "type": "scatter",
         "x": [
          2021,
          2022,
          2023
         ],
         "xaxis": "x",
         "y": [
          null,
          -58.73216066505209,
          -15.018936124846427
         ],
         "yaxis": "y"
        },
        {
         "hovertemplate": "시군명=용인시<br>기준연도=%{x}<br>총신규가입자수변화율=%{y}<extra></extra>",
         "legendgroup": "용인시",
         "line": {
          "color": "#EF553B",
          "dash": "solid",
          "shape": "linear"
         },
         "marker": {
          "symbol": "circle"
         },
         "mode": "lines+markers",
         "name": "용인시",
         "orientation": "v",
         "showlegend": true,
         "type": "scatter",
         "x": [
          2021,
          2022,
          2023
         ],
         "xaxis": "x",
         "y": [
          null,
          -57.171857134551665,
          -10.377945451871629
         ],
         "yaxis": "y"
        },
        {
         "hovertemplate": "시군명=고양시<br>기준연도=%{x}<br>총신규가입자수변화율=%{y}<extra></extra>",
         "legendgroup": "고양시",
         "line": {
          "color": "#00cc96",
          "dash": "solid",
          "shape": "linear"
         },
         "marker": {
          "symbol": "circle"
         },
         "mode": "lines+markers",
         "name": "고양시",
         "orientation": "v",
         "showlegend": true,
         "type": "scatter",
         "x": [
          2021,
          2022,
          2023
         ],
         "xaxis": "x",
         "y": [
          null,
          -65.2267625942057,
          -34.55164650393993
         ],
         "yaxis": "y"
        },
        {
         "hovertemplate": "시군명=부천시<br>기준연도=%{x}<br>총신규가입자수변화율=%{y}<extra></extra>",
         "legendgroup": "부천시",
         "line": {
          "color": "#ab63fa",
          "dash": "solid",
          "shape": "linear"
         },
         "marker": {
          "symbol": "circle"
         },
         "mode": "lines+markers",
         "name": "부천시",
         "orientation": "v",
         "showlegend": true,
         "type": "scatter",
         "x": [
          2021,
          2022,
          2023
         ],
         "xaxis": "x",
         "y": [
          null,
          -65.65248658516347,
          -21.18215493638267
         ],
         "yaxis": "y"
        },
        {
         "hovertemplate": "시군명=안양시<br>기준연도=%{x}<br>총신규가입자수변화율=%{y}<extra></extra>",
         "legendgroup": "안양시",
         "line": {
          "color": "#FFA15A",
          "dash": "solid",
          "shape": "linear"
         },
         "marker": {
          "symbol": "circle"
         },
         "mode": "lines+markers",
         "name": "안양시",
         "orientation": "v",
         "showlegend": true,
         "type": "scatter",
         "x": [
          2023,
          2021,
          2022
         ],
         "xaxis": "x",
         "y": [
          null,
          -20.930067866627322,
          -54.96178648196799
         ],
         "yaxis": "y"
        },
        {
         "hovertemplate": "시군명=화성시<br>기준연도=%{x}<br>총신규가입자수변화율=%{y}<extra></extra>",
         "legendgroup": "화성시",
         "line": {
          "color": "#19d3f3",
          "dash": "solid",
          "shape": "linear"
         },
         "marker": {
          "symbol": "circle"
         },
         "mode": "lines+markers",
         "name": "화성시",
         "orientation": "v",
         "showlegend": true,
         "type": "scatter",
         "x": [
          2021,
          2023,
          2022
         ],
         "xaxis": "x",
         "y": [
          null,
          -45.87741493763582,
          -22.86292584729449
         ],
         "yaxis": "y"
        },
        {
         "hovertemplate": "시군명=광주시<br>기준연도=%{x}<br>총신규가입자수변화율=%{y}<extra></extra>",
         "legendgroup": "광주시",
         "line": {
          "color": "#FF6692",
          "dash": "solid",
          "shape": "linear"
         },
         "marker": {
          "symbol": "circle"
         },
         "mode": "lines+markers",
         "name": "광주시",
         "orientation": "v",
         "showlegend": true,
         "type": "scatter",
         "x": [
          2021,
          2022,
          2023
         ],
         "xaxis": "x",
         "y": [
          null,
          -81.8484176577303,
          -23.46265963353692
         ],
         "yaxis": "y"
        },
        {
         "hovertemplate": "시군명=안산시<br>기준연도=%{x}<br>총신규가입자수변화율=%{y}<extra></extra>",
         "legendgroup": "안산시",
         "line": {
          "color": "#B6E880",
          "dash": "solid",
          "shape": "linear"
         },
         "marker": {
          "symbol": "circle"
         },
         "mode": "lines+markers",
         "name": "안산시",
         "orientation": "v",
         "showlegend": true,
         "type": "scatter",
         "x": [
          2021,
          2022,
          2023
         ],
         "xaxis": "x",
         "y": [
          null,
          -60.558963243093665,
          -40.419951890952824
         ],
         "yaxis": "y"
        },
        {
         "hovertemplate": "시군명=평택시<br>기준연도=%{x}<br>총신규가입자수변화율=%{y}<extra></extra>",
         "legendgroup": "평택시",
         "line": {
          "color": "#FF97FF",
          "dash": "solid",
          "shape": "linear"
         },
         "marker": {
          "symbol": "circle"
         },
         "mode": "lines+markers",
         "name": "평택시",
         "orientation": "v",
         "showlegend": true,
         "type": "scatter",
         "x": [
          2021,
          2023,
          2022
         ],
         "xaxis": "x",
         "y": [
          null,
          -25.068084905086597,
          -49.06747713785826
         ],
         "yaxis": "y"
        },
        {
         "hovertemplate": "시군명=남양주시<br>기준연도=%{x}<br>총신규가입자수변화율=%{y}<extra></extra>",
         "legendgroup": "남양주시",
         "line": {
          "color": "#FECB52",
          "dash": "solid",
          "shape": "linear"
         },
         "marker": {
          "symbol": "circle"
         },
         "mode": "lines+markers",
         "name": "남양주시",
         "orientation": "v",
         "showlegend": true,
         "type": "scatter",
         "x": [
          2021,
          2023,
          2022
         ],
         "xaxis": "x",
         "y": [
          null,
          -57.204312701771734,
          -2.37858908880908
         ],
         "yaxis": "y"
        },
        {
         "hovertemplate": "시군명=파주시<br>기준연도=%{x}<br>총신규가입자수변화율=%{y}<extra></extra>",
         "legendgroup": "파주시",
         "line": {
          "color": "#636efa",
          "dash": "solid",
          "shape": "linear"
         },
         "marker": {
          "symbol": "circle"
         },
         "mode": "lines+markers",
         "name": "파주시",
         "orientation": "v",
         "showlegend": true,
         "type": "scatter",
         "x": [
          2021,
          2023,
          2022
         ],
         "xaxis": "x",
         "y": [
          null,
          -1.6275786693383143,
          -61.29545959558551
         ],
         "yaxis": "y"
        },
        {
         "hovertemplate": "시군명=이천시<br>기준연도=%{x}<br>총신규가입자수변화율=%{y}<extra></extra>",
         "legendgroup": "이천시",
         "line": {
          "color": "#EF553B",
          "dash": "solid",
          "shape": "linear"
         },
         "marker": {
          "symbol": "circle"
         },
         "mode": "lines+markers",
         "name": "이천시",
         "orientation": "v",
         "showlegend": true,
         "type": "scatter",
         "x": [
          2021,
          2022,
          2023
         ],
         "xaxis": "x",
         "y": [
          null,
          -81.19593555103131,
          -12.056633352929646
         ],
         "yaxis": "y"
        },
        {
         "hovertemplate": "시군명=의정부시<br>기준연도=%{x}<br>총신규가입자수변화율=%{y}<extra></extra>",
         "legendgroup": "의정부시",
         "line": {
          "color": "#00cc96",
          "dash": "solid",
          "shape": "linear"
         },
         "marker": {
          "symbol": "circle"
         },
         "mode": "lines+markers",
         "name": "의정부시",
         "orientation": "v",
         "showlegend": true,
         "type": "scatter",
         "x": [
          2021,
          2022,
          2023
         ],
         "xaxis": "x",
         "y": [
          null,
          -63.609700715885076,
          -42.75933789756478
         ],
         "yaxis": "y"
        },
        {
         "hovertemplate": "시군명=김포시<br>기준연도=%{x}<br>총신규가입자수변화율=%{y}<extra></extra>",
         "legendgroup": "김포시",
         "line": {
          "color": "#ab63fa",
          "dash": "solid",
          "shape": "linear"
         },
         "marker": {
          "symbol": "circle"
         },
         "mode": "lines+markers",
         "name": "김포시",
         "orientation": "v",
         "showlegend": true,
         "type": "scatter",
         "x": [
          2021,
          2023,
          2022
         ],
         "xaxis": "x",
         "y": [
          null,
          -59.586795992093265,
          -0.5024645396263239
         ],
         "yaxis": "y"
        },
        {
         "hovertemplate": "시군명=시흥시<br>기준연도=%{x}<br>총신규가입자수변화율=%{y}<extra></extra>",
         "legendgroup": "시흥시",
         "line": {
          "color": "#FFA15A",
          "dash": "solid",
          "shape": "linear"
         },
         "marker": {
          "symbol": "circle"
         },
         "mode": "lines+markers",
         "name": "시흥시",
         "orientation": "v",
         "showlegend": true,
         "type": "scatter",
         "x": [
          2021,
          2023,
          2022
         ],
         "xaxis": "x",
         "y": [
          null,
          -59.023290498761774,
          -1.8707395545630834
         ],
         "yaxis": "y"
        },
        {
         "hovertemplate": "시군명=성남시<br>기준연도=%{x}<br>총신규가입자수변화율=%{y}<extra></extra>",
         "legendgroup": "성남시",
         "line": {
          "color": "#19d3f3",
          "dash": "solid",
          "shape": "linear"
         },
         "marker": {
          "symbol": "circle"
         },
         "mode": "lines+markers",
         "name": "성남시",
         "orientation": "v",
         "showlegend": true,
         "type": "scatter",
         "x": [
          2021,
          2023,
          2022
         ],
         "xaxis": "x",
         "y": [
          null,
          -5.172882156893877,
          -57.59636810330051
         ],
         "yaxis": "y"
        },
        {
         "hovertemplate": "시군명=하남시<br>기준연도=%{x}<br>총신규가입자수변화율=%{y}<extra></extra>",
         "legendgroup": "하남시",
         "line": {
          "color": "#FF6692",
          "dash": "solid",
          "shape": "linear"
         },
         "marker": {
          "symbol": "circle"
         },
         "mode": "lines+markers",
         "name": "하남시",
         "orientation": "v",
         "showlegend": true,
         "type": "scatter",
         "x": [
          2021,
          2022,
          2023
         ],
         "xaxis": "x",
         "y": [
          null,
          -39.534063292131606,
          -37.12643429781532
         ],
         "yaxis": "y"
        },
        {
         "hovertemplate": "시군명=안성시<br>기준연도=%{x}<br>총신규가입자수변화율=%{y}<extra></extra>",
         "legendgroup": "안성시",
         "line": {
          "color": "#B6E880",
          "dash": "solid",
          "shape": "linear"
         },
         "marker": {
          "symbol": "circle"
         },
         "mode": "lines+markers",
         "name": "안성시",
         "orientation": "v",
         "showlegend": true,
         "type": "scatter",
         "x": [
          2021,
          2023,
          2022
         ],
         "xaxis": "x",
         "y": [
          null,
          -50.51629430095601,
          -57.37158105403603
         ],
         "yaxis": "y"
        },
        {
         "hovertemplate": "시군명=광명시<br>기준연도=%{x}<br>총신규가입자수변화율=%{y}<extra></extra>",
         "legendgroup": "광명시",
         "line": {
          "color": "#FF97FF",
          "dash": "solid",
          "shape": "linear"
         },
         "marker": {
          "symbol": "circle"
         },
         "mode": "lines+markers",
         "name": "광명시",
         "orientation": "v",
         "showlegend": true,
         "type": "scatter",
         "x": [
          2021,
          2023,
          2022
         ],
         "xaxis": "x",
         "y": [
          null,
          -6.570631269326499,
          -55.73063820856004
         ],
         "yaxis": "y"
        },
        {
         "hovertemplate": "시군명=군포시<br>기준연도=%{x}<br>총신규가입자수변화율=%{y}<extra></extra>",
         "legendgroup": "군포시",
         "line": {
          "color": "#FECB52",
          "dash": "solid",
          "shape": "linear"
         },
         "marker": {
          "symbol": "circle"
         },
         "mode": "lines+markers",
         "name": "군포시",
         "orientation": "v",
         "showlegend": true,
         "type": "scatter",
         "x": [
          2021,
          2022,
          2023
         ],
         "xaxis": "x",
         "y": [
          null,
          -51.937450055624325,
          -33.393101649605526
         ],
         "yaxis": "y"
        },
        {
         "hovertemplate": "시군명=오산시<br>기준연도=%{x}<br>총신규가입자수변화율=%{y}<extra></extra>",
         "legendgroup": "오산시",
         "line": {
          "color": "#636efa",
          "dash": "solid",
          "shape": "linear"
         },
         "marker": {
          "symbol": "circle"
         },
         "mode": "lines+markers",
         "name": "오산시",
         "orientation": "v",
         "showlegend": true,
         "type": "scatter",
         "x": [
          2021,
          2022,
          2023
         ],
         "xaxis": "x",
         "y": [
          null,
          -64.10357920498102,
          -26.18307599759374
         ],
         "yaxis": "y"
        },
        {
         "hovertemplate": "시군명=포천시<br>기준연도=%{x}<br>총신규가입자수변화율=%{y}<extra></extra>",
         "legendgroup": "포천시",
         "line": {
          "color": "#EF553B",
          "dash": "solid",
          "shape": "linear"
         },
         "marker": {
          "symbol": "circle"
         },
         "mode": "lines+markers",
         "name": "포천시",
         "orientation": "v",
         "showlegend": true,
         "type": "scatter",
         "x": [
          2021,
          2022,
          2023
         ],
         "xaxis": "x",
         "y": [
          null,
          -68.41862706077046,
          -31.7789864685593
         ],
         "yaxis": "y"
        },
        {
         "hovertemplate": "시군명=의왕시<br>기준연도=%{x}<br>총신규가입자수변화율=%{y}<extra></extra>",
         "legendgroup": "의왕시",
         "line": {
          "color": "#00cc96",
          "dash": "solid",
          "shape": "linear"
         },
         "marker": {
          "symbol": "circle"
         },
         "mode": "lines+markers",
         "name": "의왕시",
         "orientation": "v",
         "showlegend": true,
         "type": "scatter",
         "x": [
          2021,
          2022,
          2023
         ],
         "xaxis": "x",
         "y": [
          null,
          -49.3463541084717,
          -42.0214408611638
         ],
         "yaxis": "y"
        },
        {
         "hovertemplate": "시군명=구리시<br>기준연도=%{x}<br>총신규가입자수변화율=%{y}<extra></extra>",
         "legendgroup": "구리시",
         "line": {
          "color": "#ab63fa",
          "dash": "solid",
          "shape": "linear"
         },
         "marker": {
          "symbol": "circle"
         },
         "mode": "lines+markers",
         "name": "구리시",
         "orientation": "v",
         "showlegend": true,
         "type": "scatter",
         "x": [
          2022,
          2021,
          2023
         ],
         "xaxis": "x",
         "y": [
          null,
          -15.112109658678285,
          -46.3921935570111
         ],
         "yaxis": "y"
        },
        {
         "hovertemplate": "시군명=양주시<br>기준연도=%{x}<br>총신규가입자수변화율=%{y}<extra></extra>",
         "legendgroup": "양주시",
         "line": {
          "color": "#FFA15A",
          "dash": "solid",
          "shape": "linear"
         },
         "marker": {
          "symbol": "circle"
         },
         "mode": "lines+markers",
         "name": "양주시",
         "orientation": "v",
         "showlegend": true,
         "type": "scatter",
         "x": [
          2021,
          2023,
          2022
         ],
         "xaxis": "x",
         "y": [
          null,
          -49.6364979858413,
          -13.44124189502579
         ],
         "yaxis": "y"
        },
        {
         "hovertemplate": "시군명=양평군<br>기준연도=%{x}<br>총신규가입자수변화율=%{y}<extra></extra>",
         "legendgroup": "양평군",
         "line": {
          "color": "#19d3f3",
          "dash": "solid",
          "shape": "linear"
         },
         "marker": {
          "symbol": "circle"
         },
         "mode": "lines+markers",
         "name": "양평군",
         "orientation": "v",
         "showlegend": true,
         "type": "scatter",
         "x": [
          2021,
          2022,
          2023
         ],
         "xaxis": "x",
         "y": [
          null,
          -41.52501056326584,
          -26.635539992218327
         ],
         "yaxis": "y"
        },
        {
         "hovertemplate": "시군명=과천시<br>기준연도=%{x}<br>총신규가입자수변화율=%{y}<extra></extra>",
         "legendgroup": "과천시",
         "line": {
          "color": "#FF6692",
          "dash": "solid",
          "shape": "linear"
         },
         "marker": {
          "symbol": "circle"
         },
         "mode": "lines+markers",
         "name": "과천시",
         "orientation": "v",
         "showlegend": true,
         "type": "scatter",
         "x": [
          2022,
          2021,
          2023
         ],
         "xaxis": "x",
         "y": [
          null,
          -18.39340805248565,
          -58.94626022874097
         ],
         "yaxis": "y"
        },
        {
         "hovertemplate": "시군명=여주시<br>기준연도=%{x}<br>총신규가입자수변화율=%{y}<extra></extra>",
         "legendgroup": "여주시",
         "line": {
          "color": "#B6E880",
          "dash": "solid",
          "shape": "linear"
         },
         "marker": {
          "symbol": "circle"
         },
         "mode": "lines+markers",
         "name": "여주시",
         "orientation": "v",
         "showlegend": true,
         "type": "scatter",
         "x": [
          2021,
          2022,
          2023
         ],
         "xaxis": "x",
         "y": [
          null,
          -46.62546755570012,
          -21.31322364411944
         ],
         "yaxis": "y"
        },
        {
         "hovertemplate": "시군명=동두천시<br>기준연도=%{x}<br>총신규가입자수변화율=%{y}<extra></extra>",
         "legendgroup": "동두천시",
         "line": {
          "color": "#FF97FF",
          "dash": "solid",
          "shape": "linear"
         },
         "marker": {
          "symbol": "circle"
         },
         "mode": "lines+markers",
         "name": "동두천시",
         "orientation": "v",
         "showlegend": true,
         "type": "scatter",
         "x": [
          2021,
          2022,
          2023
         ],
         "xaxis": "x",
         "y": [
          null,
          -49.701562256708364,
          -38.45836342998658
         ],
         "yaxis": "y"
        },
        {
         "hovertemplate": "시군명=가평군<br>기준연도=%{x}<br>총신규가입자수변화율=%{y}<extra></extra>",
         "legendgroup": "가평군",
         "line": {
          "color": "#FECB52",
          "dash": "solid",
          "shape": "linear"
         },
         "marker": {
          "symbol": "circle"
         },
         "mode": "lines+markers",
         "name": "가평군",
         "orientation": "v",
         "showlegend": true,
         "type": "scatter",
         "x": [
          2021,
          2023,
          2022
         ],
         "xaxis": "x",
         "y": [
          null,
          -19.06003220118071,
          -21.46443118310126
         ],
         "yaxis": "y"
        },
        {
         "hovertemplate": "시군명=연천군<br>기준연도=%{x}<br>총신규가입자수변화율=%{y}<extra></extra>",
         "legendgroup": "연천군",
         "line": {
          "color": "#636efa",
          "dash": "solid",
          "shape": "linear"
         },
         "marker": {
          "symbol": "circle"
         },
         "mode": "lines+markers",
         "name": "연천군",
         "orientation": "v",
         "showlegend": true,
         "type": "scatter",
         "x": [
          2021,
          2022,
          2023
         ],
         "xaxis": "x",
         "y": [
          null,
          -5.754110078627594,
          -17.165971432183035
         ],
         "yaxis": "y"
        }
       ],
       "layout": {
        "legend": {
         "title": {
          "text": "시군명"
         },
         "tracegroupgap": 0
        },
        "template": {
         "data": {
          "bar": [
           {
            "error_x": {
             "color": "#2a3f5f"
            },
            "error_y": {
             "color": "#2a3f5f"
            },
            "marker": {
             "line": {
              "color": "white",
              "width": 0.5
             },
             "pattern": {
              "fillmode": "overlay",
              "size": 10,
              "solidity": 0.2
             }
            },
            "type": "bar"
           }
          ],
          "barpolar": [
           {
            "marker": {
             "line": {
              "color": "white",
              "width": 0.5
             },
             "pattern": {
              "fillmode": "overlay",
              "size": 10,
              "solidity": 0.2
             }
            },
            "type": "barpolar"
           }
          ],
          "carpet": [
           {
            "aaxis": {
             "endlinecolor": "#2a3f5f",
             "gridcolor": "#C8D4E3",
             "linecolor": "#C8D4E3",
             "minorgridcolor": "#C8D4E3",
             "startlinecolor": "#2a3f5f"
            },
            "baxis": {
             "endlinecolor": "#2a3f5f",
             "gridcolor": "#C8D4E3",
             "linecolor": "#C8D4E3",
             "minorgridcolor": "#C8D4E3",
             "startlinecolor": "#2a3f5f"
            },
            "type": "carpet"
           }
          ],
          "choropleth": [
           {
            "colorbar": {
             "outlinewidth": 0,
             "ticks": ""
            },
            "type": "choropleth"
           }
          ],
          "contour": [
           {
            "colorbar": {
             "outlinewidth": 0,
             "ticks": ""
            },
            "colorscale": [
             [
              0,
              "#0d0887"
             ],
             [
              0.1111111111111111,
              "#46039f"
             ],
             [
              0.2222222222222222,
              "#7201a8"
             ],
             [
              0.3333333333333333,
              "#9c179e"
             ],
             [
              0.4444444444444444,
              "#bd3786"
             ],
             [
              0.5555555555555556,
              "#d8576b"
             ],
             [
              0.6666666666666666,
              "#ed7953"
             ],
             [
              0.7777777777777778,
              "#fb9f3a"
             ],
             [
              0.8888888888888888,
              "#fdca26"
             ],
             [
              1,
              "#f0f921"
             ]
            ],
            "type": "contour"
           }
          ],
          "contourcarpet": [
           {
            "colorbar": {
             "outlinewidth": 0,
             "ticks": ""
            },
            "type": "contourcarpet"
           }
          ],
          "heatmap": [
           {
            "colorbar": {
             "outlinewidth": 0,
             "ticks": ""
            },
            "colorscale": [
             [
              0,
              "#0d0887"
             ],
             [
              0.1111111111111111,
              "#46039f"
             ],
             [
              0.2222222222222222,
              "#7201a8"
             ],
             [
              0.3333333333333333,
              "#9c179e"
             ],
             [
              0.4444444444444444,
              "#bd3786"
             ],
             [
              0.5555555555555556,
              "#d8576b"
             ],
             [
              0.6666666666666666,
              "#ed7953"
             ],
             [
              0.7777777777777778,
              "#fb9f3a"
             ],
             [
              0.8888888888888888,
              "#fdca26"
             ],
             [
              1,
              "#f0f921"
             ]
            ],
            "type": "heatmap"
           }
          ],
          "heatmapgl": [
           {
            "colorbar": {
             "outlinewidth": 0,
             "ticks": ""
            },
            "colorscale": [
             [
              0,
              "#0d0887"
             ],
             [
              0.1111111111111111,
              "#46039f"
             ],
             [
              0.2222222222222222,
              "#7201a8"
             ],
             [
              0.3333333333333333,
              "#9c179e"
             ],
             [
              0.4444444444444444,
              "#bd3786"
             ],
             [
              0.5555555555555556,
              "#d8576b"
             ],
             [
              0.6666666666666666,
              "#ed7953"
             ],
             [
              0.7777777777777778,
              "#fb9f3a"
             ],
             [
              0.8888888888888888,
              "#fdca26"
             ],
             [
              1,
              "#f0f921"
             ]
            ],
            "type": "heatmapgl"
           }
          ],
          "histogram": [
           {
            "marker": {
             "pattern": {
              "fillmode": "overlay",
              "size": 10,
              "solidity": 0.2
             }
            },
            "type": "histogram"
           }
          ],
          "histogram2d": [
           {
            "colorbar": {
             "outlinewidth": 0,
             "ticks": ""
            },
            "colorscale": [
             [
              0,
              "#0d0887"
             ],
             [
              0.1111111111111111,
              "#46039f"
             ],
             [
              0.2222222222222222,
              "#7201a8"
             ],
             [
              0.3333333333333333,
              "#9c179e"
             ],
             [
              0.4444444444444444,
              "#bd3786"
             ],
             [
              0.5555555555555556,
              "#d8576b"
             ],
             [
              0.6666666666666666,
              "#ed7953"
             ],
             [
              0.7777777777777778,
              "#fb9f3a"
             ],
             [
              0.8888888888888888,
              "#fdca26"
             ],
             [
              1,
              "#f0f921"
             ]
            ],
            "type": "histogram2d"
           }
          ],
          "histogram2dcontour": [
           {
            "colorbar": {
             "outlinewidth": 0,
             "ticks": ""
            },
            "colorscale": [
             [
              0,
              "#0d0887"
             ],
             [
              0.1111111111111111,
              "#46039f"
             ],
             [
              0.2222222222222222,
              "#7201a8"
             ],
             [
              0.3333333333333333,
              "#9c179e"
             ],
             [
              0.4444444444444444,
              "#bd3786"
             ],
             [
              0.5555555555555556,
              "#d8576b"
             ],
             [
              0.6666666666666666,
              "#ed7953"
             ],
             [
              0.7777777777777778,
              "#fb9f3a"
             ],
             [
              0.8888888888888888,
              "#fdca26"
             ],
             [
              1,
              "#f0f921"
             ]
            ],
            "type": "histogram2dcontour"
           }
          ],
          "mesh3d": [
           {
            "colorbar": {
             "outlinewidth": 0,
             "ticks": ""
            },
            "type": "mesh3d"
           }
          ],
          "parcoords": [
           {
            "line": {
             "colorbar": {
              "outlinewidth": 0,
              "ticks": ""
             }
            },
            "type": "parcoords"
           }
          ],
          "pie": [
           {
            "automargin": true,
            "type": "pie"
           }
          ],
          "scatter": [
           {
            "fillpattern": {
             "fillmode": "overlay",
             "size": 10,
             "solidity": 0.2
            },
            "type": "scatter"
           }
          ],
          "scatter3d": [
           {
            "line": {
             "colorbar": {
              "outlinewidth": 0,
              "ticks": ""
             }
            },
            "marker": {
             "colorbar": {
              "outlinewidth": 0,
              "ticks": ""
             }
            },
            "type": "scatter3d"
           }
          ],
          "scattercarpet": [
           {
            "marker": {
             "colorbar": {
              "outlinewidth": 0,
              "ticks": ""
             }
            },
            "type": "scattercarpet"
           }
          ],
          "scattergeo": [
           {
            "marker": {
             "colorbar": {
              "outlinewidth": 0,
              "ticks": ""
             }
            },
            "type": "scattergeo"
           }
          ],
          "scattergl": [
           {
            "marker": {
             "colorbar": {
              "outlinewidth": 0,
              "ticks": ""
             }
            },
            "type": "scattergl"
           }
          ],
          "scattermapbox": [
           {
            "marker": {
             "colorbar": {
              "outlinewidth": 0,
              "ticks": ""
             }
            },
            "type": "scattermapbox"
           }
          ],
          "scatterpolar": [
           {
            "marker": {
             "colorbar": {
              "outlinewidth": 0,
              "ticks": ""
             }
            },
            "type": "scatterpolar"
           }
          ],
          "scatterpolargl": [
           {
            "marker": {
             "colorbar": {
              "outlinewidth": 0,
              "ticks": ""
             }
            },
            "type": "scatterpolargl"
           }
          ],
          "scatterternary": [
           {
            "marker": {
             "colorbar": {
              "outlinewidth": 0,
              "ticks": ""
             }
            },
            "type": "scatterternary"
           }
          ],
          "surface": [
           {
            "colorbar": {
             "outlinewidth": 0,
             "ticks": ""
            },
            "colorscale": [
             [
              0,
              "#0d0887"
             ],
             [
              0.1111111111111111,
              "#46039f"
             ],
             [
              0.2222222222222222,
              "#7201a8"
             ],
             [
              0.3333333333333333,
              "#9c179e"
             ],
             [
              0.4444444444444444,
              "#bd3786"
             ],
             [
              0.5555555555555556,
              "#d8576b"
             ],
             [
              0.6666666666666666,
              "#ed7953"
             ],
             [
              0.7777777777777778,
              "#fb9f3a"
             ],
             [
              0.8888888888888888,
              "#fdca26"
             ],
             [
              1,
              "#f0f921"
             ]
            ],
            "type": "surface"
           }
          ],
          "table": [
           {
            "cells": {
             "fill": {
              "color": "#EBF0F8"
             },
             "line": {
              "color": "white"
             }
            },
            "header": {
             "fill": {
              "color": "#C8D4E3"
             },
             "line": {
              "color": "white"
             }
            },
            "type": "table"
           }
          ]
         },
         "layout": {
          "annotationdefaults": {
           "arrowcolor": "#2a3f5f",
           "arrowhead": 0,
           "arrowwidth": 1
          },
          "autotypenumbers": "strict",
          "coloraxis": {
           "colorbar": {
            "outlinewidth": 0,
            "ticks": ""
           }
          },
          "colorscale": {
           "diverging": [
            [
             0,
             "#8e0152"
            ],
            [
             0.1,
             "#c51b7d"
            ],
            [
             0.2,
             "#de77ae"
            ],
            [
             0.3,
             "#f1b6da"
            ],
            [
             0.4,
             "#fde0ef"
            ],
            [
             0.5,
             "#f7f7f7"
            ],
            [
             0.6,
             "#e6f5d0"
            ],
            [
             0.7,
             "#b8e186"
            ],
            [
             0.8,
             "#7fbc41"
            ],
            [
             0.9,
             "#4d9221"
            ],
            [
             1,
             "#276419"
            ]
           ],
           "sequential": [
            [
             0,
             "#0d0887"
            ],
            [
             0.1111111111111111,
             "#46039f"
            ],
            [
             0.2222222222222222,
             "#7201a8"
            ],
            [
             0.3333333333333333,
             "#9c179e"
            ],
            [
             0.4444444444444444,
             "#bd3786"
            ],
            [
             0.5555555555555556,
             "#d8576b"
            ],
            [
             0.6666666666666666,
             "#ed7953"
            ],
            [
             0.7777777777777778,
             "#fb9f3a"
            ],
            [
             0.8888888888888888,
             "#fdca26"
            ],
            [
             1,
             "#f0f921"
            ]
           ],
           "sequentialminus": [
            [
             0,
             "#0d0887"
            ],
            [
             0.1111111111111111,
             "#46039f"
            ],
            [
             0.2222222222222222,
             "#7201a8"
            ],
            [
             0.3333333333333333,
             "#9c179e"
            ],
            [
             0.4444444444444444,
             "#bd3786"
            ],
            [
             0.5555555555555556,
             "#d8576b"
            ],
            [
             0.6666666666666666,
             "#ed7953"
            ],
            [
             0.7777777777777778,
             "#fb9f3a"
            ],
            [
             0.8888888888888888,
             "#fdca26"
            ],
            [
             1,
             "#f0f921"
            ]
           ]
          },
          "colorway": [
           "#636efa",
           "#EF553B",
           "#00cc96",
           "#ab63fa",
           "#FFA15A",
           "#19d3f3",
           "#FF6692",
           "#B6E880",
           "#FF97FF",
           "#FECB52"
          ],
          "font": {
           "color": "#2a3f5f"
          },
          "geo": {
           "bgcolor": "white",
           "lakecolor": "white",
           "landcolor": "white",
           "showlakes": true,
           "showland": true,
           "subunitcolor": "#C8D4E3"
          },
          "hoverlabel": {
           "align": "left"
          },
          "hovermode": "closest",
          "mapbox": {
           "style": "light"
          },
          "paper_bgcolor": "white",
          "plot_bgcolor": "white",
          "polar": {
           "angularaxis": {
            "gridcolor": "#EBF0F8",
            "linecolor": "#EBF0F8",
            "ticks": ""
           },
           "bgcolor": "white",
           "radialaxis": {
            "gridcolor": "#EBF0F8",
            "linecolor": "#EBF0F8",
            "ticks": ""
           }
          },
          "scene": {
           "xaxis": {
            "backgroundcolor": "white",
            "gridcolor": "#DFE8F3",
            "gridwidth": 2,
            "linecolor": "#EBF0F8",
            "showbackground": true,
            "ticks": "",
            "zerolinecolor": "#EBF0F8"
           },
           "yaxis": {
            "backgroundcolor": "white",
            "gridcolor": "#DFE8F3",
            "gridwidth": 2,
            "linecolor": "#EBF0F8",
            "showbackground": true,
            "ticks": "",
            "zerolinecolor": "#EBF0F8"
           },
           "zaxis": {
            "backgroundcolor": "white",
            "gridcolor": "#DFE8F3",
            "gridwidth": 2,
            "linecolor": "#EBF0F8",
            "showbackground": true,
            "ticks": "",
            "zerolinecolor": "#EBF0F8"
           }
          },
          "shapedefaults": {
           "line": {
            "color": "#2a3f5f"
           }
          },
          "ternary": {
           "aaxis": {
            "gridcolor": "#DFE8F3",
            "linecolor": "#A2B1C6",
            "ticks": ""
           },
           "baxis": {
            "gridcolor": "#DFE8F3",
            "linecolor": "#A2B1C6",
            "ticks": ""
           },
           "bgcolor": "white",
           "caxis": {
            "gridcolor": "#DFE8F3",
            "linecolor": "#A2B1C6",
            "ticks": ""
           }
          },
          "title": {
           "x": 0.05
          },
          "xaxis": {
           "automargin": true,
           "gridcolor": "#EBF0F8",
           "linecolor": "#EBF0F8",
           "ticks": "",
           "title": {
            "standoff": 15
           },
           "zerolinecolor": "#EBF0F8",
           "zerolinewidth": 2
          },
          "yaxis": {
           "automargin": true,
           "gridcolor": "#EBF0F8",
           "linecolor": "#EBF0F8",
           "ticks": "",
           "title": {
            "standoff": 15
           },
           "zerolinecolor": "#EBF0F8",
           "zerolinewidth": 2
          }
         }
        },
        "title": {
         "text": "시군별 신규가입자수 변화율 추이"
        },
        "xaxis": {
         "anchor": "y",
         "domain": [
          0,
          1
         ],
         "tickvals": [
          2022,
          2023
         ],
         "title": {
          "text": "기준연도"
         }
        },
        "yaxis": {
         "anchor": "x",
         "domain": [
          0,
          1
         ],
         "tickformat": ",",
         "title": {
          "text": "신규가입자수"
         }
        }
       }
      }
     },
     "metadata": {},
     "output_type": "display_data"
    }
   ],
   "source": [
    "import pandas as pd\n",
    "import seaborn as sns\n",
    "import matplotlib.pyplot as plt\n",
    "import plotly.express as px\n",
    "\n",
    "plt.rcParams.update({'font.family' : 'Malgun Gothic'}) \n",
    "from matplotlib.ticker import ScalarFormatter\n",
    "fig = px.line(data_frame=df2_group_sgy, x='기준연도', y='총신규가입자수변화율', color='시군명', markers=True, line_shape='linear', title='시군별 신규가입자수 추이')\n",
    "fig.update_layout(\n",
    "    yaxis_tickformat=',',  # 천 단위 구분 기호를 추가\n",
    "    xaxis_title='기준연도',\n",
    "    yaxis_title='신규가입자수',\n",
    "    legend_title='시군명',\n",
    "    title='시군별 신규가입자수 변화율 추이',\n",
    "    template='plotly_white'\n",
    ")\n",
    "# X축 눈금 설정 (고유 기준연도 값으로 설정)\n",
    "fig.update_xaxes(tickvals=[2021,2022,2023])"
   ]
  },
  {
   "cell_type": "markdown",
   "metadata": {},
   "source": [
    "> 신규가입자의 변화율은 0을 넘는것이 없다. 지역화폐의 활성화를 시킬수있는 중요한 지표이긴하지만 가중치를 너무 높이면 지표자체가 망가질수있을것같다**"
   ]
  },
  {
   "cell_type": "markdown",
   "metadata": {},
   "source": [
    "- 충전금액`=`결제금액 변화율 시각화"
   ]
  },
  {
   "cell_type": "code",
   "execution_count": 86,
   "metadata": {},
   "outputs": [
    {
     "data": {
      "application/vnd.plotly.v1+json": {
       "config": {
        "plotlyServerURL": "https://plot.ly"
       },
       "data": [
        {
         "hovertemplate": "시군명=수원시<br>기준연도=%{x}<br>총충전금액변화율=%{y}<extra></extra>",
         "legendgroup": "수원시",
         "line": {
          "color": "#636efa",
          "dash": "solid",
          "shape": "linear"
         },
         "marker": {
          "symbol": "circle"
         },
         "mode": "lines+markers",
         "name": "수원시",
         "orientation": "v",
         "showlegend": true,
         "type": "scatter",
         "x": [
          2021,
          2022,
          2023
         ],
         "xaxis": "x",
         "y": [
          null,
          18.259782808426262,
          -15.077501491145618
         ],
         "yaxis": "y"
        },
        {
         "hovertemplate": "시군명=용인시<br>기준연도=%{x}<br>총충전금액변화율=%{y}<extra></extra>",
         "legendgroup": "용인시",
         "line": {
          "color": "#EF553B",
          "dash": "solid",
          "shape": "linear"
         },
         "marker": {
          "symbol": "circle"
         },
         "mode": "lines+markers",
         "name": "용인시",
         "orientation": "v",
         "showlegend": true,
         "type": "scatter",
         "x": [
          2021,
          2022,
          2023
         ],
         "xaxis": "x",
         "y": [
          null,
          21.147375010970194,
          -2.5963504305714147
         ],
         "yaxis": "y"
        },
        {
         "hovertemplate": "시군명=고양시<br>기준연도=%{x}<br>총충전금액변화율=%{y}<extra></extra>",
         "legendgroup": "고양시",
         "line": {
          "color": "#00cc96",
          "dash": "solid",
          "shape": "linear"
         },
         "marker": {
          "symbol": "circle"
         },
         "mode": "lines+markers",
         "name": "고양시",
         "orientation": "v",
         "showlegend": true,
         "type": "scatter",
         "x": [
          2021,
          2022,
          2023
         ],
         "xaxis": "x",
         "y": [
          null,
          2.5755291820731996,
          -41.25268480764836
         ],
         "yaxis": "y"
        },
        {
         "hovertemplate": "시군명=부천시<br>기준연도=%{x}<br>총충전금액변화율=%{y}<extra></extra>",
         "legendgroup": "부천시",
         "line": {
          "color": "#ab63fa",
          "dash": "solid",
          "shape": "linear"
         },
         "marker": {
          "symbol": "circle"
         },
         "mode": "lines+markers",
         "name": "부천시",
         "orientation": "v",
         "showlegend": true,
         "type": "scatter",
         "x": [
          2021,
          2022,
          2023
         ],
         "xaxis": "x",
         "y": [
          null,
          31.451237767149575,
          -18.18037672811277
         ],
         "yaxis": "y"
        },
        {
         "hovertemplate": "시군명=안양시<br>기준연도=%{x}<br>총충전금액변화율=%{y}<extra></extra>",
         "legendgroup": "안양시",
         "line": {
          "color": "#FFA15A",
          "dash": "solid",
          "shape": "linear"
         },
         "marker": {
          "symbol": "circle"
         },
         "mode": "lines+markers",
         "name": "안양시",
         "orientation": "v",
         "showlegend": true,
         "type": "scatter",
         "x": [
          2023,
          2021,
          2022
         ],
         "xaxis": "x",
         "y": [
          null,
          -51.28548462395711,
          47.82174617521571
         ],
         "yaxis": "y"
        },
        {
         "hovertemplate": "시군명=화성시<br>기준연도=%{x}<br>총충전금액변화율=%{y}<extra></extra>",
         "legendgroup": "화성시",
         "line": {
          "color": "#19d3f3",
          "dash": "solid",
          "shape": "linear"
         },
         "marker": {
          "symbol": "circle"
         },
         "mode": "lines+markers",
         "name": "화성시",
         "orientation": "v",
         "showlegend": true,
         "type": "scatter",
         "x": [
          2021,
          2023,
          2022
         ],
         "xaxis": "x",
         "y": [
          null,
          26.795690128511374,
          -1.2146903458660985
         ],
         "yaxis": "y"
        },
        {
         "hovertemplate": "시군명=광주시<br>기준연도=%{x}<br>총충전금액변화율=%{y}<extra></extra>",
         "legendgroup": "광주시",
         "line": {
          "color": "#FF6692",
          "dash": "solid",
          "shape": "linear"
         },
         "marker": {
          "symbol": "circle"
         },
         "mode": "lines+markers",
         "name": "광주시",
         "orientation": "v",
         "showlegend": true,
         "type": "scatter",
         "x": [
          2021,
          2022,
          2023
         ],
         "xaxis": "x",
         "y": [
          null,
          55.57212651006507,
          -33.11825221759317
         ],
         "yaxis": "y"
        },
        {
         "hovertemplate": "시군명=안산시<br>기준연도=%{x}<br>총충전금액변화율=%{y}<extra></extra>",
         "legendgroup": "안산시",
         "line": {
          "color": "#B6E880",
          "dash": "solid",
          "shape": "linear"
         },
         "marker": {
          "symbol": "circle"
         },
         "mode": "lines+markers",
         "name": "안산시",
         "orientation": "v",
         "showlegend": true,
         "type": "scatter",
         "x": [
          2021,
          2022,
          2023
         ],
         "xaxis": "x",
         "y": [
          null,
          4.984216592892543,
          -33.01627169834184
         ],
         "yaxis": "y"
        },
        {
         "hovertemplate": "시군명=평택시<br>기준연도=%{x}<br>총충전금액변화율=%{y}<extra></extra>",
         "legendgroup": "평택시",
         "line": {
          "color": "#FF97FF",
          "dash": "solid",
          "shape": "linear"
         },
         "marker": {
          "symbol": "circle"
         },
         "mode": "lines+markers",
         "name": "평택시",
         "orientation": "v",
         "showlegend": true,
         "type": "scatter",
         "x": [
          2021,
          2023,
          2022
         ],
         "xaxis": "x",
         "y": [
          null,
          34.62439891704045,
          -13.792333898635768
         ],
         "yaxis": "y"
        },
        {
         "hovertemplate": "시군명=남양주시<br>기준연도=%{x}<br>총충전금액변화율=%{y}<extra></extra>",
         "legendgroup": "남양주시",
         "line": {
          "color": "#FECB52",
          "dash": "solid",
          "shape": "linear"
         },
         "marker": {
          "symbol": "circle"
         },
         "mode": "lines+markers",
         "name": "남양주시",
         "orientation": "v",
         "showlegend": true,
         "type": "scatter",
         "x": [
          2021,
          2023,
          2022
         ],
         "xaxis": "x",
         "y": [
          null,
          33.336966459346094,
          5.602683792273511
         ],
         "yaxis": "y"
        },
        {
         "hovertemplate": "시군명=파주시<br>기준연도=%{x}<br>총충전금액변화율=%{y}<extra></extra>",
         "legendgroup": "파주시",
         "line": {
          "color": "#636efa",
          "dash": "solid",
          "shape": "linear"
         },
         "marker": {
          "symbol": "circle"
         },
         "mode": "lines+markers",
         "name": "파주시",
         "orientation": "v",
         "showlegend": true,
         "type": "scatter",
         "x": [
          2021,
          2023,
          2022
         ],
         "xaxis": "x",
         "y": [
          null,
          70.07445615212727,
          -24.040478528534205
         ],
         "yaxis": "y"
        },
        {
         "hovertemplate": "시군명=이천시<br>기준연도=%{x}<br>총충전금액변화율=%{y}<extra></extra>",
         "legendgroup": "이천시",
         "line": {
          "color": "#EF553B",
          "dash": "solid",
          "shape": "linear"
         },
         "marker": {
          "symbol": "circle"
         },
         "mode": "lines+markers",
         "name": "이천시",
         "orientation": "v",
         "showlegend": true,
         "type": "scatter",
         "x": [
          2021,
          2022,
          2023
         ],
         "xaxis": "x",
         "y": [
          null,
          96.55966295297107,
          -2.740430559475604
         ],
         "yaxis": "y"
        },
        {
         "hovertemplate": "시군명=의정부시<br>기준연도=%{x}<br>총충전금액변화율=%{y}<extra></extra>",
         "legendgroup": "의정부시",
         "line": {
          "color": "#00cc96",
          "dash": "solid",
          "shape": "linear"
         },
         "marker": {
          "symbol": "circle"
         },
         "mode": "lines+markers",
         "name": "의정부시",
         "orientation": "v",
         "showlegend": true,
         "type": "scatter",
         "x": [
          2021,
          2022,
          2023
         ],
         "xaxis": "x",
         "y": [
          null,
          23.76421491556069,
          -29.678545303273108
         ],
         "yaxis": "y"
        },
        {
         "hovertemplate": "시군명=김포시<br>기준연도=%{x}<br>총충전금액변화율=%{y}<extra></extra>",
         "legendgroup": "김포시",
         "line": {
          "color": "#ab63fa",
          "dash": "solid",
          "shape": "linear"
         },
         "marker": {
          "symbol": "circle"
         },
         "mode": "lines+markers",
         "name": "김포시",
         "orientation": "v",
         "showlegend": true,
         "type": "scatter",
         "x": [
          2021,
          2023,
          2022
         ],
         "xaxis": "x",
         "y": [
          null,
          null,
          -100
         ],
         "yaxis": "y"
        },
        {
         "hovertemplate": "시군명=시흥시<br>기준연도=%{x}<br>총충전금액변화율=%{y}<extra></extra>",
         "legendgroup": "시흥시",
         "line": {
          "color": "#FFA15A",
          "dash": "solid",
          "shape": "linear"
         },
         "marker": {
          "symbol": "circle"
         },
         "mode": "lines+markers",
         "name": "시흥시",
         "orientation": "v",
         "showlegend": true,
         "type": "scatter",
         "x": [
          2021,
          2023,
          2022
         ],
         "xaxis": "x",
         "y": [
          null,
          null,
          -100
         ],
         "yaxis": "y"
        },
        {
         "hovertemplate": "시군명=성남시<br>기준연도=%{x}<br>총충전금액변화율=%{y}<extra></extra>",
         "legendgroup": "성남시",
         "line": {
          "color": "#19d3f3",
          "dash": "solid",
          "shape": "linear"
         },
         "marker": {
          "symbol": "circle"
         },
         "mode": "lines+markers",
         "name": "성남시",
         "orientation": "v",
         "showlegend": true,
         "type": "scatter",
         "x": [
          2021,
          2023,
          2022
         ],
         "xaxis": "x",
         "y": [
          null,
          398.9877282992123,
          -77.94111643363335
         ],
         "yaxis": "y"
        },
        {
         "hovertemplate": "시군명=하남시<br>기준연도=%{x}<br>총충전금액변화율=%{y}<extra></extra>",
         "legendgroup": "하남시",
         "line": {
          "color": "#FF6692",
          "dash": "solid",
          "shape": "linear"
         },
         "marker": {
          "symbol": "circle"
         },
         "mode": "lines+markers",
         "name": "하남시",
         "orientation": "v",
         "showlegend": true,
         "type": "scatter",
         "x": [
          2021,
          2022,
          2023
         ],
         "xaxis": "x",
         "y": [
          null,
          36.11470956157212,
          -34.167661812947095
         ],
         "yaxis": "y"
        },
        {
         "hovertemplate": "시군명=안성시<br>기준연도=%{x}<br>총충전금액변화율=%{y}<extra></extra>",
         "legendgroup": "안성시",
         "line": {
          "color": "#B6E880",
          "dash": "solid",
          "shape": "linear"
         },
         "marker": {
          "symbol": "circle"
         },
         "mode": "lines+markers",
         "name": "안성시",
         "orientation": "v",
         "showlegend": true,
         "type": "scatter",
         "x": [
          2021,
          2023,
          2022
         ],
         "xaxis": "x",
         "y": [
          null,
          20.175586940044465,
          -3.3864210054495247
         ],
         "yaxis": "y"
        },
        {
         "hovertemplate": "시군명=광명시<br>기준연도=%{x}<br>총충전금액변화율=%{y}<extra></extra>",
         "legendgroup": "광명시",
         "line": {
          "color": "#FF97FF",
          "dash": "solid",
          "shape": "linear"
         },
         "marker": {
          "symbol": "circle"
         },
         "mode": "lines+markers",
         "name": "광명시",
         "orientation": "v",
         "showlegend": true,
         "type": "scatter",
         "x": [
          2021,
          2023,
          2022
         ],
         "xaxis": "x",
         "y": [
          null,
          44.69823252264664,
          -12.948093613859712
         ],
         "yaxis": "y"
        },
        {
         "hovertemplate": "시군명=군포시<br>기준연도=%{x}<br>총충전금액변화율=%{y}<extra></extra>",
         "legendgroup": "군포시",
         "line": {
          "color": "#FECB52",
          "dash": "solid",
          "shape": "linear"
         },
         "marker": {
          "symbol": "circle"
         },
         "mode": "lines+markers",
         "name": "군포시",
         "orientation": "v",
         "showlegend": true,
         "type": "scatter",
         "x": [
          2021,
          2022,
          2023
         ],
         "xaxis": "x",
         "y": [
          null,
          26.165822793408754,
          -32.41550300439066
         ],
         "yaxis": "y"
        },
        {
         "hovertemplate": "시군명=오산시<br>기준연도=%{x}<br>총충전금액변화율=%{y}<extra></extra>",
         "legendgroup": "오산시",
         "line": {
          "color": "#636efa",
          "dash": "solid",
          "shape": "linear"
         },
         "marker": {
          "symbol": "circle"
         },
         "mode": "lines+markers",
         "name": "오산시",
         "orientation": "v",
         "showlegend": true,
         "type": "scatter",
         "x": [
          2021,
          2022,
          2023
         ],
         "xaxis": "x",
         "y": [
          null,
          -18.206792193398456,
          -31.15801454501813
         ],
         "yaxis": "y"
        },
        {
         "hovertemplate": "시군명=포천시<br>기준연도=%{x}<br>총충전금액변화율=%{y}<extra></extra>",
         "legendgroup": "포천시",
         "line": {
          "color": "#EF553B",
          "dash": "solid",
          "shape": "linear"
         },
         "marker": {
          "symbol": "circle"
         },
         "mode": "lines+markers",
         "name": "포천시",
         "orientation": "v",
         "showlegend": true,
         "type": "scatter",
         "x": [
          2021,
          2022,
          2023
         ],
         "xaxis": "x",
         "y": [
          null,
          62.00589574243382,
          -32.135791635715705
         ],
         "yaxis": "y"
        },
        {
         "hovertemplate": "시군명=의왕시<br>기준연도=%{x}<br>총충전금액변화율=%{y}<extra></extra>",
         "legendgroup": "의왕시",
         "line": {
          "color": "#00cc96",
          "dash": "solid",
          "shape": "linear"
         },
         "marker": {
          "symbol": "circle"
         },
         "mode": "lines+markers",
         "name": "의왕시",
         "orientation": "v",
         "showlegend": true,
         "type": "scatter",
         "x": [
          2021,
          2022,
          2023
         ],
         "xaxis": "x",
         "y": [
          null,
          38.93364221646358,
          -33.382695279537344
         ],
         "yaxis": "y"
        },
        {
         "hovertemplate": "시군명=구리시<br>기준연도=%{x}<br>총충전금액변화율=%{y}<extra></extra>",
         "legendgroup": "구리시",
         "line": {
          "color": "#ab63fa",
          "dash": "solid",
          "shape": "linear"
         },
         "marker": {
          "symbol": "circle"
         },
         "mode": "lines+markers",
         "name": "구리시",
         "orientation": "v",
         "showlegend": true,
         "type": "scatter",
         "x": [
          2022,
          2021,
          2023
         ],
         "xaxis": "x",
         "y": [
          null,
          -35.38828471052241,
          39.35836553884522
         ],
         "yaxis": "y"
        },
        {
         "hovertemplate": "시군명=양주시<br>기준연도=%{x}<br>총충전금액변화율=%{y}<extra></extra>",
         "legendgroup": "양주시",
         "line": {
          "color": "#FFA15A",
          "dash": "solid",
          "shape": "linear"
         },
         "marker": {
          "symbol": "circle"
         },
         "mode": "lines+markers",
         "name": "양주시",
         "orientation": "v",
         "showlegend": true,
         "type": "scatter",
         "x": [
          2021,
          2023,
          2022
         ],
         "xaxis": "x",
         "y": [
          null,
          37.75153974437493,
          4.790609858430561
         ],
         "yaxis": "y"
        },
        {
         "hovertemplate": "시군명=양평군<br>기준연도=%{x}<br>총충전금액변화율=%{y}<extra></extra>",
         "legendgroup": "양평군",
         "line": {
          "color": "#19d3f3",
          "dash": "solid",
          "shape": "linear"
         },
         "marker": {
          "symbol": "circle"
         },
         "mode": "lines+markers",
         "name": "양평군",
         "orientation": "v",
         "showlegend": true,
         "type": "scatter",
         "x": [
          2021,
          2022,
          2023
         ],
         "xaxis": "x",
         "y": [
          null,
          24.65888244851977,
          -10.733019785057628
         ],
         "yaxis": "y"
        },
        {
         "hovertemplate": "시군명=과천시<br>기준연도=%{x}<br>총충전금액변화율=%{y}<extra></extra>",
         "legendgroup": "과천시",
         "line": {
          "color": "#FF6692",
          "dash": "solid",
          "shape": "linear"
         },
         "marker": {
          "symbol": "circle"
         },
         "mode": "lines+markers",
         "name": "과천시",
         "orientation": "v",
         "showlegend": true,
         "type": "scatter",
         "x": [
          2022,
          2021,
          2023
         ],
         "xaxis": "x",
         "y": [
          null,
          -28.44830459656704,
          16.44702396330855
         ],
         "yaxis": "y"
        },
        {
         "hovertemplate": "시군명=여주시<br>기준연도=%{x}<br>총충전금액변화율=%{y}<extra></extra>",
         "legendgroup": "여주시",
         "line": {
          "color": "#B6E880",
          "dash": "solid",
          "shape": "linear"
         },
         "marker": {
          "symbol": "circle"
         },
         "mode": "lines+markers",
         "name": "여주시",
         "orientation": "v",
         "showlegend": true,
         "type": "scatter",
         "x": [
          2021,
          2022,
          2023
         ],
         "xaxis": "x",
         "y": [
          null,
          53.45379834902493,
          -21.65757282831754
         ],
         "yaxis": "y"
        },
        {
         "hovertemplate": "시군명=동두천시<br>기준연도=%{x}<br>총충전금액변화율=%{y}<extra></extra>",
         "legendgroup": "동두천시",
         "line": {
          "color": "#FF97FF",
          "dash": "solid",
          "shape": "linear"
         },
         "marker": {
          "symbol": "circle"
         },
         "mode": "lines+markers",
         "name": "동두천시",
         "orientation": "v",
         "showlegend": true,
         "type": "scatter",
         "x": [
          2021,
          2022,
          2023
         ],
         "xaxis": "x",
         "y": [
          null,
          41.61383490680968,
          -20.25964664118711
         ],
         "yaxis": "y"
        },
        {
         "hovertemplate": "시군명=가평군<br>기준연도=%{x}<br>총충전금액변화율=%{y}<extra></extra>",
         "legendgroup": "가평군",
         "line": {
          "color": "#FECB52",
          "dash": "solid",
          "shape": "linear"
         },
         "marker": {
          "symbol": "circle"
         },
         "mode": "lines+markers",
         "name": "가평군",
         "orientation": "v",
         "showlegend": true,
         "type": "scatter",
         "x": [
          2021,
          2023,
          2022
         ],
         "xaxis": "x",
         "y": [
          null,
          111.1856048327168,
          3.3340629502382813
         ],
         "yaxis": "y"
        },
        {
         "hovertemplate": "시군명=연천군<br>기준연도=%{x}<br>총충전금액변화율=%{y}<extra></extra>",
         "legendgroup": "연천군",
         "line": {
          "color": "#636efa",
          "dash": "solid",
          "shape": "linear"
         },
         "marker": {
          "symbol": "circle"
         },
         "mode": "lines+markers",
         "name": "연천군",
         "orientation": "v",
         "showlegend": true,
         "type": "scatter",
         "x": [
          2021,
          2022,
          2023
         ],
         "xaxis": "x",
         "y": [
          null,
          72.97545269681419,
          6.350074944683692
         ],
         "yaxis": "y"
        }
       ],
       "layout": {
        "legend": {
         "title": {
          "text": "시군명"
         },
         "tracegroupgap": 0
        },
        "template": {
         "data": {
          "bar": [
           {
            "error_x": {
             "color": "#2a3f5f"
            },
            "error_y": {
             "color": "#2a3f5f"
            },
            "marker": {
             "line": {
              "color": "white",
              "width": 0.5
             },
             "pattern": {
              "fillmode": "overlay",
              "size": 10,
              "solidity": 0.2
             }
            },
            "type": "bar"
           }
          ],
          "barpolar": [
           {
            "marker": {
             "line": {
              "color": "white",
              "width": 0.5
             },
             "pattern": {
              "fillmode": "overlay",
              "size": 10,
              "solidity": 0.2
             }
            },
            "type": "barpolar"
           }
          ],
          "carpet": [
           {
            "aaxis": {
             "endlinecolor": "#2a3f5f",
             "gridcolor": "#C8D4E3",
             "linecolor": "#C8D4E3",
             "minorgridcolor": "#C8D4E3",
             "startlinecolor": "#2a3f5f"
            },
            "baxis": {
             "endlinecolor": "#2a3f5f",
             "gridcolor": "#C8D4E3",
             "linecolor": "#C8D4E3",
             "minorgridcolor": "#C8D4E3",
             "startlinecolor": "#2a3f5f"
            },
            "type": "carpet"
           }
          ],
          "choropleth": [
           {
            "colorbar": {
             "outlinewidth": 0,
             "ticks": ""
            },
            "type": "choropleth"
           }
          ],
          "contour": [
           {
            "colorbar": {
             "outlinewidth": 0,
             "ticks": ""
            },
            "colorscale": [
             [
              0,
              "#0d0887"
             ],
             [
              0.1111111111111111,
              "#46039f"
             ],
             [
              0.2222222222222222,
              "#7201a8"
             ],
             [
              0.3333333333333333,
              "#9c179e"
             ],
             [
              0.4444444444444444,
              "#bd3786"
             ],
             [
              0.5555555555555556,
              "#d8576b"
             ],
             [
              0.6666666666666666,
              "#ed7953"
             ],
             [
              0.7777777777777778,
              "#fb9f3a"
             ],
             [
              0.8888888888888888,
              "#fdca26"
             ],
             [
              1,
              "#f0f921"
             ]
            ],
            "type": "contour"
           }
          ],
          "contourcarpet": [
           {
            "colorbar": {
             "outlinewidth": 0,
             "ticks": ""
            },
            "type": "contourcarpet"
           }
          ],
          "heatmap": [
           {
            "colorbar": {
             "outlinewidth": 0,
             "ticks": ""
            },
            "colorscale": [
             [
              0,
              "#0d0887"
             ],
             [
              0.1111111111111111,
              "#46039f"
             ],
             [
              0.2222222222222222,
              "#7201a8"
             ],
             [
              0.3333333333333333,
              "#9c179e"
             ],
             [
              0.4444444444444444,
              "#bd3786"
             ],
             [
              0.5555555555555556,
              "#d8576b"
             ],
             [
              0.6666666666666666,
              "#ed7953"
             ],
             [
              0.7777777777777778,
              "#fb9f3a"
             ],
             [
              0.8888888888888888,
              "#fdca26"
             ],
             [
              1,
              "#f0f921"
             ]
            ],
            "type": "heatmap"
           }
          ],
          "heatmapgl": [
           {
            "colorbar": {
             "outlinewidth": 0,
             "ticks": ""
            },
            "colorscale": [
             [
              0,
              "#0d0887"
             ],
             [
              0.1111111111111111,
              "#46039f"
             ],
             [
              0.2222222222222222,
              "#7201a8"
             ],
             [
              0.3333333333333333,
              "#9c179e"
             ],
             [
              0.4444444444444444,
              "#bd3786"
             ],
             [
              0.5555555555555556,
              "#d8576b"
             ],
             [
              0.6666666666666666,
              "#ed7953"
             ],
             [
              0.7777777777777778,
              "#fb9f3a"
             ],
             [
              0.8888888888888888,
              "#fdca26"
             ],
             [
              1,
              "#f0f921"
             ]
            ],
            "type": "heatmapgl"
           }
          ],
          "histogram": [
           {
            "marker": {
             "pattern": {
              "fillmode": "overlay",
              "size": 10,
              "solidity": 0.2
             }
            },
            "type": "histogram"
           }
          ],
          "histogram2d": [
           {
            "colorbar": {
             "outlinewidth": 0,
             "ticks": ""
            },
            "colorscale": [
             [
              0,
              "#0d0887"
             ],
             [
              0.1111111111111111,
              "#46039f"
             ],
             [
              0.2222222222222222,
              "#7201a8"
             ],
             [
              0.3333333333333333,
              "#9c179e"
             ],
             [
              0.4444444444444444,
              "#bd3786"
             ],
             [
              0.5555555555555556,
              "#d8576b"
             ],
             [
              0.6666666666666666,
              "#ed7953"
             ],
             [
              0.7777777777777778,
              "#fb9f3a"
             ],
             [
              0.8888888888888888,
              "#fdca26"
             ],
             [
              1,
              "#f0f921"
             ]
            ],
            "type": "histogram2d"
           }
          ],
          "histogram2dcontour": [
           {
            "colorbar": {
             "outlinewidth": 0,
             "ticks": ""
            },
            "colorscale": [
             [
              0,
              "#0d0887"
             ],
             [
              0.1111111111111111,
              "#46039f"
             ],
             [
              0.2222222222222222,
              "#7201a8"
             ],
             [
              0.3333333333333333,
              "#9c179e"
             ],
             [
              0.4444444444444444,
              "#bd3786"
             ],
             [
              0.5555555555555556,
              "#d8576b"
             ],
             [
              0.6666666666666666,
              "#ed7953"
             ],
             [
              0.7777777777777778,
              "#fb9f3a"
             ],
             [
              0.8888888888888888,
              "#fdca26"
             ],
             [
              1,
              "#f0f921"
             ]
            ],
            "type": "histogram2dcontour"
           }
          ],
          "mesh3d": [
           {
            "colorbar": {
             "outlinewidth": 0,
             "ticks": ""
            },
            "type": "mesh3d"
           }
          ],
          "parcoords": [
           {
            "line": {
             "colorbar": {
              "outlinewidth": 0,
              "ticks": ""
             }
            },
            "type": "parcoords"
           }
          ],
          "pie": [
           {
            "automargin": true,
            "type": "pie"
           }
          ],
          "scatter": [
           {
            "fillpattern": {
             "fillmode": "overlay",
             "size": 10,
             "solidity": 0.2
            },
            "type": "scatter"
           }
          ],
          "scatter3d": [
           {
            "line": {
             "colorbar": {
              "outlinewidth": 0,
              "ticks": ""
             }
            },
            "marker": {
             "colorbar": {
              "outlinewidth": 0,
              "ticks": ""
             }
            },
            "type": "scatter3d"
           }
          ],
          "scattercarpet": [
           {
            "marker": {
             "colorbar": {
              "outlinewidth": 0,
              "ticks": ""
             }
            },
            "type": "scattercarpet"
           }
          ],
          "scattergeo": [
           {
            "marker": {
             "colorbar": {
              "outlinewidth": 0,
              "ticks": ""
             }
            },
            "type": "scattergeo"
           }
          ],
          "scattergl": [
           {
            "marker": {
             "colorbar": {
              "outlinewidth": 0,
              "ticks": ""
             }
            },
            "type": "scattergl"
           }
          ],
          "scattermapbox": [
           {
            "marker": {
             "colorbar": {
              "outlinewidth": 0,
              "ticks": ""
             }
            },
            "type": "scattermapbox"
           }
          ],
          "scatterpolar": [
           {
            "marker": {
             "colorbar": {
              "outlinewidth": 0,
              "ticks": ""
             }
            },
            "type": "scatterpolar"
           }
          ],
          "scatterpolargl": [
           {
            "marker": {
             "colorbar": {
              "outlinewidth": 0,
              "ticks": ""
             }
            },
            "type": "scatterpolargl"
           }
          ],
          "scatterternary": [
           {
            "marker": {
             "colorbar": {
              "outlinewidth": 0,
              "ticks": ""
             }
            },
            "type": "scatterternary"
           }
          ],
          "surface": [
           {
            "colorbar": {
             "outlinewidth": 0,
             "ticks": ""
            },
            "colorscale": [
             [
              0,
              "#0d0887"
             ],
             [
              0.1111111111111111,
              "#46039f"
             ],
             [
              0.2222222222222222,
              "#7201a8"
             ],
             [
              0.3333333333333333,
              "#9c179e"
             ],
             [
              0.4444444444444444,
              "#bd3786"
             ],
             [
              0.5555555555555556,
              "#d8576b"
             ],
             [
              0.6666666666666666,
              "#ed7953"
             ],
             [
              0.7777777777777778,
              "#fb9f3a"
             ],
             [
              0.8888888888888888,
              "#fdca26"
             ],
             [
              1,
              "#f0f921"
             ]
            ],
            "type": "surface"
           }
          ],
          "table": [
           {
            "cells": {
             "fill": {
              "color": "#EBF0F8"
             },
             "line": {
              "color": "white"
             }
            },
            "header": {
             "fill": {
              "color": "#C8D4E3"
             },
             "line": {
              "color": "white"
             }
            },
            "type": "table"
           }
          ]
         },
         "layout": {
          "annotationdefaults": {
           "arrowcolor": "#2a3f5f",
           "arrowhead": 0,
           "arrowwidth": 1
          },
          "autotypenumbers": "strict",
          "coloraxis": {
           "colorbar": {
            "outlinewidth": 0,
            "ticks": ""
           }
          },
          "colorscale": {
           "diverging": [
            [
             0,
             "#8e0152"
            ],
            [
             0.1,
             "#c51b7d"
            ],
            [
             0.2,
             "#de77ae"
            ],
            [
             0.3,
             "#f1b6da"
            ],
            [
             0.4,
             "#fde0ef"
            ],
            [
             0.5,
             "#f7f7f7"
            ],
            [
             0.6,
             "#e6f5d0"
            ],
            [
             0.7,
             "#b8e186"
            ],
            [
             0.8,
             "#7fbc41"
            ],
            [
             0.9,
             "#4d9221"
            ],
            [
             1,
             "#276419"
            ]
           ],
           "sequential": [
            [
             0,
             "#0d0887"
            ],
            [
             0.1111111111111111,
             "#46039f"
            ],
            [
             0.2222222222222222,
             "#7201a8"
            ],
            [
             0.3333333333333333,
             "#9c179e"
            ],
            [
             0.4444444444444444,
             "#bd3786"
            ],
            [
             0.5555555555555556,
             "#d8576b"
            ],
            [
             0.6666666666666666,
             "#ed7953"
            ],
            [
             0.7777777777777778,
             "#fb9f3a"
            ],
            [
             0.8888888888888888,
             "#fdca26"
            ],
            [
             1,
             "#f0f921"
            ]
           ],
           "sequentialminus": [
            [
             0,
             "#0d0887"
            ],
            [
             0.1111111111111111,
             "#46039f"
            ],
            [
             0.2222222222222222,
             "#7201a8"
            ],
            [
             0.3333333333333333,
             "#9c179e"
            ],
            [
             0.4444444444444444,
             "#bd3786"
            ],
            [
             0.5555555555555556,
             "#d8576b"
            ],
            [
             0.6666666666666666,
             "#ed7953"
            ],
            [
             0.7777777777777778,
             "#fb9f3a"
            ],
            [
             0.8888888888888888,
             "#fdca26"
            ],
            [
             1,
             "#f0f921"
            ]
           ]
          },
          "colorway": [
           "#636efa",
           "#EF553B",
           "#00cc96",
           "#ab63fa",
           "#FFA15A",
           "#19d3f3",
           "#FF6692",
           "#B6E880",
           "#FF97FF",
           "#FECB52"
          ],
          "font": {
           "color": "#2a3f5f"
          },
          "geo": {
           "bgcolor": "white",
           "lakecolor": "white",
           "landcolor": "white",
           "showlakes": true,
           "showland": true,
           "subunitcolor": "#C8D4E3"
          },
          "hoverlabel": {
           "align": "left"
          },
          "hovermode": "closest",
          "mapbox": {
           "style": "light"
          },
          "paper_bgcolor": "white",
          "plot_bgcolor": "white",
          "polar": {
           "angularaxis": {
            "gridcolor": "#EBF0F8",
            "linecolor": "#EBF0F8",
            "ticks": ""
           },
           "bgcolor": "white",
           "radialaxis": {
            "gridcolor": "#EBF0F8",
            "linecolor": "#EBF0F8",
            "ticks": ""
           }
          },
          "scene": {
           "xaxis": {
            "backgroundcolor": "white",
            "gridcolor": "#DFE8F3",
            "gridwidth": 2,
            "linecolor": "#EBF0F8",
            "showbackground": true,
            "ticks": "",
            "zerolinecolor": "#EBF0F8"
           },
           "yaxis": {
            "backgroundcolor": "white",
            "gridcolor": "#DFE8F3",
            "gridwidth": 2,
            "linecolor": "#EBF0F8",
            "showbackground": true,
            "ticks": "",
            "zerolinecolor": "#EBF0F8"
           },
           "zaxis": {
            "backgroundcolor": "white",
            "gridcolor": "#DFE8F3",
            "gridwidth": 2,
            "linecolor": "#EBF0F8",
            "showbackground": true,
            "ticks": "",
            "zerolinecolor": "#EBF0F8"
           }
          },
          "shapedefaults": {
           "line": {
            "color": "#2a3f5f"
           }
          },
          "ternary": {
           "aaxis": {
            "gridcolor": "#DFE8F3",
            "linecolor": "#A2B1C6",
            "ticks": ""
           },
           "baxis": {
            "gridcolor": "#DFE8F3",
            "linecolor": "#A2B1C6",
            "ticks": ""
           },
           "bgcolor": "white",
           "caxis": {
            "gridcolor": "#DFE8F3",
            "linecolor": "#A2B1C6",
            "ticks": ""
           }
          },
          "title": {
           "x": 0.05
          },
          "xaxis": {
           "automargin": true,
           "gridcolor": "#EBF0F8",
           "linecolor": "#EBF0F8",
           "ticks": "",
           "title": {
            "standoff": 15
           },
           "zerolinecolor": "#EBF0F8",
           "zerolinewidth": 2
          },
          "yaxis": {
           "automargin": true,
           "gridcolor": "#EBF0F8",
           "linecolor": "#EBF0F8",
           "ticks": "",
           "title": {
            "standoff": 15
           },
           "zerolinecolor": "#EBF0F8",
           "zerolinewidth": 2
          }
         }
        },
        "title": {
         "text": "시군별 신규가입자수 추이"
        },
        "xaxis": {
         "anchor": "y",
         "domain": [
          0,
          1
         ],
         "tickvals": [
          2021,
          2022,
          2023
         ],
         "title": {
          "text": "기준연도"
         }
        },
        "yaxis": {
         "anchor": "x",
         "domain": [
          0,
          1
         ],
         "tickformat": ",",
         "title": {
          "text": "신규가입자수"
         }
        }
       }
      }
     },
     "metadata": {},
     "output_type": "display_data"
    }
   ],
   "source": [
    "import pandas as pd\n",
    "import seaborn as sns\n",
    "import matplotlib.pyplot as plt\n",
    "import plotly.express as px\n",
    "\n",
    "plt.rcParams.update({'font.family' : 'Malgun Gothic'}) \n",
    "from matplotlib.ticker import ScalarFormatter\n",
    "fig = px.line(data_frame=df2_group_sgy, x='기준연도', y='총충전금액변화율', color='시군명', markers=True, line_shape='linear', title='시군별 신규가입자수 추이')\n",
    "fig.update_layout(\n",
    "    yaxis_tickformat=',',  # 천 단위 구분 기호를 추가\n",
    "    xaxis_title='기준연도',\n",
    "    yaxis_title='신규가입자수',\n",
    "    legend_title='시군명',\n",
    "    title='시군별 신규가입자수 추이',\n",
    "    template='plotly_white'\n",
    ")\n",
    "# X축 눈금 설정 (고유 기준연도 값으로 설정)\n",
    "fig.update_xaxes(tickvals=df_group1_12['기준연도'].unique())"
   ]
  },
  {
   "cell_type": "markdown",
   "metadata": {},
   "source": [
    "> 충전금액이 지역화폐 활성화에 직결된 지표이고 , 변화율 수치들이 좋고, 일정한 수준을 각 시군별로 유지하고 있기때문에 높은 가중치를 둬도 괜찮을것 같다.**"
   ]
  }
 ],
 "metadata": {
  "kernelspec": {
   "display_name": "base",
   "language": "python",
   "name": "python3"
  },
  "language_info": {
   "codemirror_mode": {
    "name": "ipython",
    "version": 3
   },
   "file_extension": ".py",
   "mimetype": "text/x-python",
   "name": "python",
   "nbconvert_exporter": "python",
   "pygments_lexer": "ipython3",
   "version": "3.11.7"
  }
 },
 "nbformat": 4,
 "nbformat_minor": 2
}
